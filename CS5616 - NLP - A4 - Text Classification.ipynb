{
 "cells": [
  {
   "cell_type": "markdown",
   "metadata": {},
   "source": [
    "# CS5616 - NLP - A4 - Text Classification"
   ]
  },
  {
   "cell_type": "markdown",
   "metadata": {},
   "source": [
    "## 209338R - KATS Jayathilaka"
   ]
  },
  {
   "cell_type": "markdown",
   "metadata": {},
   "source": [
    "#### -----------------------------------------------------------------------------------------------------"
   ]
  },
  {
   "cell_type": "markdown",
   "metadata": {},
   "source": [
    "### 1. Importing and downloading NLTK Library and importing all other libraries"
   ]
  },
  {
   "cell_type": "code",
   "execution_count": 196,
   "metadata": {},
   "outputs": [],
   "source": [
    "import nltk\n",
    "from nltk.corpus import stopwords, wordnet\n",
    "from nltk.stem import WordNetLemmatizer \n",
    "from nltk import pos_tag\n",
    "from spellchecker import SpellChecker\n",
    "import os\n",
    "import re\n",
    "import time\n",
    "import string\n",
    "import pandas as pd\n",
    "import numpy as np"
   ]
  },
  {
   "cell_type": "markdown",
   "metadata": {},
   "source": [
    "#### You have to change this directory according to your system. Otherwise, nltk.download() will always be invoked."
   ]
  },
  {
   "cell_type": "code",
   "execution_count": 56,
   "metadata": {},
   "outputs": [],
   "source": [
    "# I am KATS Jayathilaka - SINGHABAHU is my nickname\n",
    "NLTK_DATA_PATH_CHECK = '/home/singhabahu/nltk_data/'"
   ]
  },
  {
   "cell_type": "code",
   "execution_count": 57,
   "metadata": {},
   "outputs": [],
   "source": [
    "if not os.path.exists(NLTK_DATA_PATH_CHECK):\n",
    "    nltk.download()\n",
    "    nltk.download('stopwords')\n",
    "    nltk.download('punkt')\n",
    "    nltk.download('wordnet')"
   ]
  },
  {
   "cell_type": "markdown",
   "metadata": {},
   "source": [
    "### 2. Loading Raw Data"
   ]
  },
  {
   "cell_type": "code",
   "execution_count": 58,
   "metadata": {},
   "outputs": [
    {
     "data": {
      "text/html": [
       "<div>\n",
       "<style scoped>\n",
       "    .dataframe tbody tr th:only-of-type {\n",
       "        vertical-align: middle;\n",
       "    }\n",
       "\n",
       "    .dataframe tbody tr th {\n",
       "        vertical-align: top;\n",
       "    }\n",
       "\n",
       "    .dataframe thead th {\n",
       "        text-align: right;\n",
       "    }\n",
       "</style>\n",
       "<table border=\"1\" class=\"dataframe\">\n",
       "  <thead>\n",
       "    <tr style=\"text-align: right;\">\n",
       "      <th></th>\n",
       "      <th>text</th>\n",
       "      <th>class1</th>\n",
       "      <th>class2</th>\n",
       "    </tr>\n",
       "  </thead>\n",
       "  <tbody>\n",
       "    <tr>\n",
       "      <th>0</th>\n",
       "      <td>What are the special things we (husband and me...</td>\n",
       "      <td>TTD</td>\n",
       "      <td>TTDSIG</td>\n",
       "    </tr>\n",
       "    <tr>\n",
       "      <th>1</th>\n",
       "      <td>What are the companies which organize shark fe...</td>\n",
       "      <td>TTD</td>\n",
       "      <td>TTDOTH</td>\n",
       "    </tr>\n",
       "    <tr>\n",
       "      <th>2</th>\n",
       "      <td>Is it safe for female traveller to go alone to...</td>\n",
       "      <td>TGU</td>\n",
       "      <td>TGUHEA</td>\n",
       "    </tr>\n",
       "    <tr>\n",
       "      <th>3</th>\n",
       "      <td>What are the best places around Cape Town for ...</td>\n",
       "      <td>TTD</td>\n",
       "      <td>TTDSIG</td>\n",
       "    </tr>\n",
       "    <tr>\n",
       "      <th>4</th>\n",
       "      <td>What are the best places to stay for a family ...</td>\n",
       "      <td>ACM</td>\n",
       "      <td>ACMOTH</td>\n",
       "    </tr>\n",
       "  </tbody>\n",
       "</table>\n",
       "</div>"
      ],
      "text/plain": [
       "                                                text class1  class2\n",
       "0  What are the special things we (husband and me...    TTD  TTDSIG\n",
       "1  What are the companies which organize shark fe...    TTD  TTDOTH\n",
       "2  Is it safe for female traveller to go alone to...    TGU  TGUHEA\n",
       "3  What are the best places around Cape Town for ...    TTD  TTDSIG\n",
       "4  What are the best places to stay for a family ...    ACM  ACMOTH"
      ]
     },
     "execution_count": 58,
     "metadata": {},
     "output_type": "execute_result"
    }
   ],
   "source": [
    "d_file = open('5000TravelQuestionsDataset.csv', encoding=\"latin-1\")\n",
    "\n",
    "df = pd.read_csv(d_file, header=None)\n",
    "df.columns = ['text', 'class1', 'class2']\n",
    "\n",
    "df.head()"
   ]
  },
  {
   "cell_type": "markdown",
   "metadata": {},
   "source": [
    "### 3. Preprocessing"
   ]
  },
  {
   "cell_type": "markdown",
   "metadata": {},
   "source": [
    "#### 3.1.Removing mistakenly entered `class1` and `class2` entries as follows."
   ]
  },
  {
   "cell_type": "markdown",
   "metadata": {},
   "source": [
    "##### 3.1.1. Stripping trailing and leading whitespaces and linebreaks from `class1` column"
   ]
  },
  {
   "cell_type": "code",
   "execution_count": 59,
   "metadata": {},
   "outputs": [
    {
     "data": {
      "text/plain": [
       "TGU      1217\n",
       "TTD      1139\n",
       "TRS      1011\n",
       "ACM       720\n",
       "FOD       521\n",
       "ENT       214\n",
       "WTH       172\n",
       "TGU\\n       3\n",
       "\\nENT       2\n",
       "TTD\\n       1\n",
       "Name: class1, dtype: int64"
      ]
     },
     "execution_count": 59,
     "metadata": {},
     "output_type": "execute_result"
    }
   ],
   "source": [
    "# coarse classes\n",
    "df['class1'].value_counts()"
   ]
  },
  {
   "cell_type": "code",
   "execution_count": 60,
   "metadata": {},
   "outputs": [
    {
     "data": {
      "text/html": [
       "<div>\n",
       "<style scoped>\n",
       "    .dataframe tbody tr th:only-of-type {\n",
       "        vertical-align: middle;\n",
       "    }\n",
       "\n",
       "    .dataframe tbody tr th {\n",
       "        vertical-align: top;\n",
       "    }\n",
       "\n",
       "    .dataframe thead th {\n",
       "        text-align: right;\n",
       "    }\n",
       "</style>\n",
       "<table border=\"1\" class=\"dataframe\">\n",
       "  <thead>\n",
       "    <tr style=\"text-align: right;\">\n",
       "      <th></th>\n",
       "      <th>text</th>\n",
       "      <th>class1</th>\n",
       "      <th>class2</th>\n",
       "    </tr>\n",
       "  </thead>\n",
       "  <tbody>\n",
       "    <tr>\n",
       "      <th>524</th>\n",
       "      <td>Has anyone planned a simple wedding by themsel...</td>\n",
       "      <td>TGU\\n</td>\n",
       "      <td>TGUPLN</td>\n",
       "    </tr>\n",
       "    <tr>\n",
       "      <th>3145</th>\n",
       "      <td>What are the Trans-Mongolian stop recommendati...</td>\n",
       "      <td>TGU\\n</td>\n",
       "      <td>TGUOTH</td>\n",
       "    </tr>\n",
       "    <tr>\n",
       "      <th>3333</th>\n",
       "      <td>What is a good Civil Ceremony Venue for a wedd...</td>\n",
       "      <td>TGU\\n</td>\n",
       "      <td>TGUOTH</td>\n",
       "    </tr>\n",
       "  </tbody>\n",
       "</table>\n",
       "</div>"
      ],
      "text/plain": [
       "                                                   text class1  class2\n",
       "524   Has anyone planned a simple wedding by themsel...  TGU\\n  TGUPLN\n",
       "3145  What are the Trans-Mongolian stop recommendati...  TGU\\n  TGUOTH\n",
       "3333  What is a good Civil Ceremony Venue for a wedd...  TGU\\n  TGUOTH"
      ]
     },
     "execution_count": 60,
     "metadata": {},
     "output_type": "execute_result"
    }
   ],
   "source": [
    "df.groupby('class1').get_group('TGU\\n')"
   ]
  },
  {
   "cell_type": "code",
   "execution_count": 61,
   "metadata": {},
   "outputs": [
    {
     "data": {
      "text/html": [
       "<div>\n",
       "<style scoped>\n",
       "    .dataframe tbody tr th:only-of-type {\n",
       "        vertical-align: middle;\n",
       "    }\n",
       "\n",
       "    .dataframe tbody tr th {\n",
       "        vertical-align: top;\n",
       "    }\n",
       "\n",
       "    .dataframe thead th {\n",
       "        text-align: right;\n",
       "    }\n",
       "</style>\n",
       "<table border=\"1\" class=\"dataframe\">\n",
       "  <thead>\n",
       "    <tr style=\"text-align: right;\">\n",
       "      <th></th>\n",
       "      <th>text</th>\n",
       "      <th>class1</th>\n",
       "      <th>class2</th>\n",
       "    </tr>\n",
       "  </thead>\n",
       "  <tbody>\n",
       "    <tr>\n",
       "      <th>3750</th>\n",
       "      <td>What are the best areas of town this year for ...</td>\n",
       "      <td>\\nENT</td>\n",
       "      <td>ENTFES</td>\n",
       "    </tr>\n",
       "    <tr>\n",
       "      <th>3751</th>\n",
       "      <td>What to do on Riverwalk at Christmas time ?</td>\n",
       "      <td>\\nENT</td>\n",
       "      <td>ENTFES</td>\n",
       "    </tr>\n",
       "  </tbody>\n",
       "</table>\n",
       "</div>"
      ],
      "text/plain": [
       "                                                   text class1  class2\n",
       "3750  What are the best areas of town this year for ...  \\nENT  ENTFES\n",
       "3751        What to do on Riverwalk at Christmas time ?  \\nENT  ENTFES"
      ]
     },
     "execution_count": 61,
     "metadata": {},
     "output_type": "execute_result"
    }
   ],
   "source": [
    "df.groupby('class1').get_group('\\nENT')"
   ]
  },
  {
   "cell_type": "code",
   "execution_count": 62,
   "metadata": {},
   "outputs": [
    {
     "data": {
      "text/html": [
       "<div>\n",
       "<style scoped>\n",
       "    .dataframe tbody tr th:only-of-type {\n",
       "        vertical-align: middle;\n",
       "    }\n",
       "\n",
       "    .dataframe tbody tr th {\n",
       "        vertical-align: top;\n",
       "    }\n",
       "\n",
       "    .dataframe thead th {\n",
       "        text-align: right;\n",
       "    }\n",
       "</style>\n",
       "<table border=\"1\" class=\"dataframe\">\n",
       "  <thead>\n",
       "    <tr style=\"text-align: right;\">\n",
       "      <th></th>\n",
       "      <th>text</th>\n",
       "      <th>class1</th>\n",
       "      <th>class2</th>\n",
       "    </tr>\n",
       "  </thead>\n",
       "  <tbody>\n",
       "    <tr>\n",
       "      <th>3710</th>\n",
       "      <td>what is the best Zoo in Denmark ?</td>\n",
       "      <td>TTD\\n</td>\n",
       "      <td>TTDSIG</td>\n",
       "    </tr>\n",
       "  </tbody>\n",
       "</table>\n",
       "</div>"
      ],
      "text/plain": [
       "                                   text class1  class2\n",
       "3710  what is the best Zoo in Denmark ?  TTD\\n  TTDSIG"
      ]
     },
     "execution_count": 62,
     "metadata": {},
     "output_type": "execute_result"
    }
   ],
   "source": [
    "df.groupby('class1').get_group('TTD\\n')"
   ]
  },
  {
   "cell_type": "code",
   "execution_count": 63,
   "metadata": {},
   "outputs": [
    {
     "data": {
      "text/plain": [
       "<matplotlib.axes._subplots.AxesSubplot at 0x7f2ea9515b50>"
      ]
     },
     "execution_count": 63,
     "metadata": {},
     "output_type": "execute_result"
    },
    {
     "data": {
      "image/png": "[encoded data removed]",
      "text/plain": [
       "<Figure size 432x288 with 1 Axes>"
      ]
     },
     "metadata": {
      "needs_background": "light"
     },
     "output_type": "display_data"
    }
   ],
   "source": [
    "df.groupby('class1').text.count().plot.bar()"
   ]
  },
  {
   "cell_type": "code",
   "execution_count": 64,
   "metadata": {},
   "outputs": [],
   "source": [
    "df['class1'] = df['class1'].str.strip()"
   ]
  },
  {
   "cell_type": "markdown",
   "metadata": {},
   "source": [
    "##### Now there are exactly 7 coarse classes visible."
   ]
  },
  {
   "cell_type": "code",
   "execution_count": 65,
   "metadata": {},
   "outputs": [
    {
     "data": {
      "text/plain": [
       "TGU    1220\n",
       "TTD    1140\n",
       "TRS    1011\n",
       "ACM     720\n",
       "FOD     521\n",
       "ENT     216\n",
       "WTH     172\n",
       "Name: class1, dtype: int64"
      ]
     },
     "execution_count": 65,
     "metadata": {},
     "output_type": "execute_result"
    }
   ],
   "source": [
    "df['class1'].value_counts()"
   ]
  },
  {
   "cell_type": "code",
   "execution_count": 66,
   "metadata": {},
   "outputs": [
    {
     "data": {
      "text/plain": [
       "<matplotlib.axes._subplots.AxesSubplot at 0x7f2ea94a2cd0>"
      ]
     },
     "execution_count": 66,
     "metadata": {},
     "output_type": "execute_result"
    },
    {
     "data": {
      "image/png": "[encoded data removed]",
      "text/plain": [
       "<Figure size 432x288 with 1 Axes>"
      ]
     },
     "metadata": {
      "needs_background": "light"
     },
     "output_type": "display_data"
    }
   ],
   "source": [
    "df.groupby('class1').text.count().plot.bar()"
   ]
  },
  {
   "cell_type": "markdown",
   "metadata": {},
   "source": [
    "##### 3.1.2. Stripping trailing and leading whitespaces and linebreaks from `class2` column"
   ]
  },
  {
   "cell_type": "code",
   "execution_count": 67,
   "metadata": {},
   "outputs": [
    {
     "data": {
      "text/plain": [
       "TTDSIG      511\n",
       "ACMHOT      342\n",
       "TTDSPO      233\n",
       "FODBAK      221\n",
       "ACMOTH      207\n",
       "           ... \n",
       "TTDSPO\\n      1\n",
       "TTDSHP\\n      1\n",
       "TGUCIG\\n      1\n",
       "FODBAK\\n      1\n",
       "\\nWTHOTH      1\n",
       "Name: class2, Length: 79, dtype: int64"
      ]
     },
     "execution_count": 67,
     "metadata": {},
     "output_type": "execute_result"
    }
   ],
   "source": [
    "# fine classes\n",
    "df['class2'].value_counts()"
   ]
  },
  {
   "cell_type": "code",
   "execution_count": 68,
   "metadata": {},
   "outputs": [
    {
     "data": {
      "text/html": [
       "<div>\n",
       "<style scoped>\n",
       "    .dataframe tbody tr th:only-of-type {\n",
       "        vertical-align: middle;\n",
       "    }\n",
       "\n",
       "    .dataframe tbody tr th {\n",
       "        vertical-align: top;\n",
       "    }\n",
       "\n",
       "    .dataframe thead th {\n",
       "        text-align: right;\n",
       "    }\n",
       "</style>\n",
       "<table border=\"1\" class=\"dataframe\">\n",
       "  <thead>\n",
       "    <tr style=\"text-align: right;\">\n",
       "      <th></th>\n",
       "      <th>text</th>\n",
       "      <th>class1</th>\n",
       "      <th>class2</th>\n",
       "    </tr>\n",
       "  </thead>\n",
       "  <tbody>\n",
       "    <tr>\n",
       "      <th>760</th>\n",
       "      <td>Can you suggest your favorite food stands for ...</td>\n",
       "      <td>FOD</td>\n",
       "      <td>FODBAK\\n</td>\n",
       "    </tr>\n",
       "  </tbody>\n",
       "</table>\n",
       "</div>"
      ],
      "text/plain": [
       "                                                  text class1    class2\n",
       "760  Can you suggest your favorite food stands for ...    FOD  FODBAK\\n"
      ]
     },
     "execution_count": 68,
     "metadata": {},
     "output_type": "execute_result"
    }
   ],
   "source": [
    "df.groupby('class2').get_group('FODBAK\\n')"
   ]
  },
  {
   "cell_type": "code",
   "execution_count": 69,
   "metadata": {},
   "outputs": [
    {
     "data": {
      "text/html": [
       "<div>\n",
       "<style scoped>\n",
       "    .dataframe tbody tr th:only-of-type {\n",
       "        vertical-align: middle;\n",
       "    }\n",
       "\n",
       "    .dataframe tbody tr th {\n",
       "        vertical-align: top;\n",
       "    }\n",
       "\n",
       "    .dataframe thead th {\n",
       "        text-align: right;\n",
       "    }\n",
       "</style>\n",
       "<table border=\"1\" class=\"dataframe\">\n",
       "  <thead>\n",
       "    <tr style=\"text-align: right;\">\n",
       "      <th></th>\n",
       "      <th>text</th>\n",
       "      <th>class1</th>\n",
       "      <th>class2</th>\n",
       "    </tr>\n",
       "  </thead>\n",
       "  <tbody>\n",
       "    <tr>\n",
       "      <th>3429</th>\n",
       "      <td>Where in Taormina can you watch Premier League...</td>\n",
       "      <td>TTD</td>\n",
       "      <td>TTDSPO\\n</td>\n",
       "    </tr>\n",
       "  </tbody>\n",
       "</table>\n",
       "</div>"
      ],
      "text/plain": [
       "                                                   text class1    class2\n",
       "3429  Where in Taormina can you watch Premier League...    TTD  TTDSPO\\n"
      ]
     },
     "execution_count": 69,
     "metadata": {},
     "output_type": "execute_result"
    }
   ],
   "source": [
    "df.groupby('class2').get_group('TTDSPO\\n')"
   ]
  },
  {
   "cell_type": "code",
   "execution_count": 70,
   "metadata": {},
   "outputs": [
    {
     "data": {
      "text/html": [
       "<div>\n",
       "<style scoped>\n",
       "    .dataframe tbody tr th:only-of-type {\n",
       "        vertical-align: middle;\n",
       "    }\n",
       "\n",
       "    .dataframe tbody tr th {\n",
       "        vertical-align: top;\n",
       "    }\n",
       "\n",
       "    .dataframe thead th {\n",
       "        text-align: right;\n",
       "    }\n",
       "</style>\n",
       "<table border=\"1\" class=\"dataframe\">\n",
       "  <thead>\n",
       "    <tr style=\"text-align: right;\">\n",
       "      <th></th>\n",
       "      <th>text</th>\n",
       "      <th>class1</th>\n",
       "      <th>class2</th>\n",
       "    </tr>\n",
       "  </thead>\n",
       "  <tbody>\n",
       "    <tr>\n",
       "      <th>3567</th>\n",
       "      <td>What are the recommended reasonable accomodati...</td>\n",
       "      <td>ACM</td>\n",
       "      <td>ACMOTH\\n</td>\n",
       "    </tr>\n",
       "  </tbody>\n",
       "</table>\n",
       "</div>"
      ],
      "text/plain": [
       "                                                   text class1    class2\n",
       "3567  What are the recommended reasonable accomodati...    ACM  ACMOTH\\n"
      ]
     },
     "execution_count": 70,
     "metadata": {},
     "output_type": "execute_result"
    }
   ],
   "source": [
    "df.groupby('class2').get_group('ACMOTH\\n')"
   ]
  },
  {
   "cell_type": "code",
   "execution_count": 71,
   "metadata": {},
   "outputs": [
    {
     "data": {
      "text/html": [
       "<div>\n",
       "<style scoped>\n",
       "    .dataframe tbody tr th:only-of-type {\n",
       "        vertical-align: middle;\n",
       "    }\n",
       "\n",
       "    .dataframe tbody tr th {\n",
       "        vertical-align: top;\n",
       "    }\n",
       "\n",
       "    .dataframe thead th {\n",
       "        text-align: right;\n",
       "    }\n",
       "</style>\n",
       "<table border=\"1\" class=\"dataframe\">\n",
       "  <thead>\n",
       "    <tr style=\"text-align: right;\">\n",
       "      <th></th>\n",
       "      <th>text</th>\n",
       "      <th>class1</th>\n",
       "      <th>class2</th>\n",
       "    </tr>\n",
       "  </thead>\n",
       "  <tbody>\n",
       "    <tr>\n",
       "      <th>2601</th>\n",
       "      <td>What sites and places and activities are achie...</td>\n",
       "      <td>TTD</td>\n",
       "      <td>TTDSIG\\n</td>\n",
       "    </tr>\n",
       "  </tbody>\n",
       "</table>\n",
       "</div>"
      ],
      "text/plain": [
       "                                                   text class1    class2\n",
       "2601  What sites and places and activities are achie...    TTD  TTDSIG\\n"
      ]
     },
     "execution_count": 71,
     "metadata": {},
     "output_type": "execute_result"
    }
   ],
   "source": [
    "df.groupby('class2').get_group('TTDSIG\\n')"
   ]
  },
  {
   "cell_type": "code",
   "execution_count": 72,
   "metadata": {},
   "outputs": [
    {
     "data": {
      "text/html": [
       "<div>\n",
       "<style scoped>\n",
       "    .dataframe tbody tr th:only-of-type {\n",
       "        vertical-align: middle;\n",
       "    }\n",
       "\n",
       "    .dataframe tbody tr th {\n",
       "        vertical-align: top;\n",
       "    }\n",
       "\n",
       "    .dataframe thead th {\n",
       "        text-align: right;\n",
       "    }\n",
       "</style>\n",
       "<table border=\"1\" class=\"dataframe\">\n",
       "  <thead>\n",
       "    <tr style=\"text-align: right;\">\n",
       "      <th></th>\n",
       "      <th>text</th>\n",
       "      <th>class1</th>\n",
       "      <th>class2</th>\n",
       "    </tr>\n",
       "  </thead>\n",
       "  <tbody>\n",
       "    <tr>\n",
       "      <th>4926</th>\n",
       "      <td>How is the weather in october in hampton?</td>\n",
       "      <td>WTH</td>\n",
       "      <td>\\nWTHOTH</td>\n",
       "    </tr>\n",
       "  </tbody>\n",
       "</table>\n",
       "</div>"
      ],
      "text/plain": [
       "                                           text class1    class2\n",
       "4926  How is the weather in october in hampton?    WTH  \\nWTHOTH"
      ]
     },
     "execution_count": 72,
     "metadata": {},
     "output_type": "execute_result"
    }
   ],
   "source": [
    "df.groupby('class2').get_group('\\nWTHOTH')"
   ]
  },
  {
   "cell_type": "markdown",
   "metadata": {},
   "source": [
    "##### There are other mistakenly entered entries as well because here there are only 5 wrong groups from 79. But, there should be only 63 fine class labels. "
   ]
  },
  {
   "cell_type": "code",
   "execution_count": 73,
   "metadata": {},
   "outputs": [],
   "source": [
    "df['class2'] = df['class2'].str.strip()"
   ]
  },
  {
   "cell_type": "markdown",
   "metadata": {},
   "source": [
    "##### Now there are only 63 fine classes visible"
   ]
  },
  {
   "cell_type": "code",
   "execution_count": 74,
   "metadata": {},
   "outputs": [
    {
     "data": {
      "text/plain": [
       "TTDSIG    512\n",
       "ACMHOT    342\n",
       "TRSOTH    242\n",
       "TTDSPO    234\n",
       "FODBAK    222\n",
       "         ... \n",
       "ACMCAR      5\n",
       "ACMBEA      5\n",
       "TRSLIC      4\n",
       "TGURES      3\n",
       "TRSGAS      2\n",
       "Name: class2, Length: 63, dtype: int64"
      ]
     },
     "execution_count": 74,
     "metadata": {},
     "output_type": "execute_result"
    }
   ],
   "source": [
    "df['class2'].value_counts()"
   ]
  },
  {
   "cell_type": "code",
   "execution_count": 75,
   "metadata": {},
   "outputs": [
    {
     "data": {
      "text/plain": [
       "<matplotlib.axes._subplots.AxesSubplot at 0x7f2ea8fe4130>"
      ]
     },
     "execution_count": 75,
     "metadata": {},
     "output_type": "execute_result"
    },
    {
     "data": {
      "image/png": "[encoded data removed]",
      "text/plain": [
       "<Figure size 432x288 with 1 Axes>"
      ]
     },
     "metadata": {
      "needs_background": "light"
     },
     "output_type": "display_data"
    }
   ],
   "source": [
    "df.groupby('class2').text.count().plot.bar()"
   ]
  },
  {
   "cell_type": "markdown",
   "metadata": {},
   "source": [
    "#### 3.2. Advanced Preprocessing Techniques"
   ]
  },
  {
   "cell_type": "markdown",
   "metadata": {},
   "source": [
    "##### 3.2.1. Removing numbers"
   ]
  },
  {
   "cell_type": "code",
   "execution_count": 76,
   "metadata": {},
   "outputs": [
    {
     "data": {
      "text/plain": [
       "0       What are the special things we (husband and me...\n",
       "1       What are the companies which organize shark fe...\n",
       "2       Is it safe for female traveller to go alone to...\n",
       "3       What are the best places around Cape Town for ...\n",
       "4       What are the best places to stay for a family ...\n",
       "                              ...                        \n",
       "4995    What is the best area to be based for sightsee...\n",
       "4996    What are the good value traditional bars and r...\n",
       "4997       What are the hotels near Alicante bus station?\n",
       "4998       Where to stay in La Gomera to mountain biking?\n",
       "4999    Is it possible to take a train trip from Santi...\n",
       "Name: preprocessed_text, Length: 5000, dtype: object"
      ]
     },
     "execution_count": 76,
     "metadata": {},
     "output_type": "execute_result"
    }
   ],
   "source": [
    "def remove_numbers(text):\n",
    "    return re.sub(r'\\d+', '', text)\n",
    "\n",
    "df['preprocessed_text'] = df['text'].apply(remove_numbers)\n",
    "df['preprocessed_text']"
   ]
  },
  {
   "cell_type": "markdown",
   "metadata": {},
   "source": [
    "##### 3.2.2. Removing punctuation marks"
   ]
  },
  {
   "cell_type": "code",
   "execution_count": 77,
   "metadata": {},
   "outputs": [
    {
     "data": {
      "text/plain": [
       "0       What are the special things we husband and me ...\n",
       "1       What are the companies which organize shark fe...\n",
       "2       Is it safe for female traveller to go alone to...\n",
       "3       What are the best places around Cape Town for ...\n",
       "4       What are the best places to stay for a family ...\n",
       "                              ...                        \n",
       "4995    What is the best area to be based for sightsee...\n",
       "4996    What are the good value traditional bars and r...\n",
       "4997        What are the hotels near Alicante bus station\n",
       "4998        Where to stay in La Gomera to mountain biking\n",
       "4999    Is it possible to take a train trip from Santi...\n",
       "Name: preprocessed_text, Length: 5000, dtype: object"
      ]
     },
     "execution_count": 77,
     "metadata": {},
     "output_type": "execute_result"
    }
   ],
   "source": [
    "df['preprocessed_text'] = df['preprocessed_text'].str.translate(str.maketrans('','', string.punctuation))\n",
    "df['preprocessed_text']"
   ]
  },
  {
   "cell_type": "markdown",
   "metadata": {},
   "source": [
    "##### 3.2.3. Removing leading and trailing white spaces"
   ]
  },
  {
   "cell_type": "code",
   "execution_count": 78,
   "metadata": {},
   "outputs": [
    {
     "data": {
      "text/plain": [
       "0       What are the special things we husband and me ...\n",
       "1       What are the companies which organize shark fe...\n",
       "2       Is it safe for female traveller to go alone to...\n",
       "3       What are the best places around Cape Town for ...\n",
       "4       What are the best places to stay for a family ...\n",
       "                              ...                        \n",
       "4995    What is the best area to be based for sightsee...\n",
       "4996    What are the good value traditional bars and r...\n",
       "4997        What are the hotels near Alicante bus station\n",
       "4998        Where to stay in La Gomera to mountain biking\n",
       "4999    Is it possible to take a train trip from Santi...\n",
       "Name: preprocessed_text, Length: 5000, dtype: object"
      ]
     },
     "execution_count": 78,
     "metadata": {},
     "output_type": "execute_result"
    }
   ],
   "source": [
    "df['preprocessed_text'] = df['preprocessed_text'].str.strip()\n",
    "df['preprocessed_text']"
   ]
  },
  {
   "cell_type": "markdown",
   "metadata": {},
   "source": [
    "##### 3.2.4. Converting to lowercase"
   ]
  },
  {
   "cell_type": "code",
   "execution_count": 79,
   "metadata": {},
   "outputs": [
    {
     "data": {
      "text/plain": [
       "0       what are the special things we husband and me ...\n",
       "1       what are the companies which organize shark fe...\n",
       "2       is it safe for female traveller to go alone to...\n",
       "3       what are the best places around cape town for ...\n",
       "4       what are the best places to stay for a family ...\n",
       "                              ...                        \n",
       "4995    what is the best area to be based for sightsee...\n",
       "4996    what are the good value traditional bars and r...\n",
       "4997        what are the hotels near alicante bus station\n",
       "4998        where to stay in la gomera to mountain biking\n",
       "4999    is it possible to take a train trip from santi...\n",
       "Name: preprocessed_text, Length: 5000, dtype: object"
      ]
     },
     "execution_count": 79,
     "metadata": {},
     "output_type": "execute_result"
    }
   ],
   "source": [
    "df['preprocessed_text'] = df['preprocessed_text'].str.lower()\n",
    "df['preprocessed_text']"
   ]
  },
  {
   "cell_type": "markdown",
   "metadata": {},
   "source": [
    "##### 3.2.5. Removing stop words"
   ]
  },
  {
   "cell_type": "code",
   "execution_count": 53,
   "metadata": {},
   "outputs": [
    {
     "data": {
      "text/plain": [
       "0          What special things husband day stay Cape Town\n",
       "1       What companies organize shark feeding events s...\n",
       "2             Is safe female traveller go alone Cape Town\n",
       "3                What best places around Cape Town safari\n",
       "4        What best places stay family stay away nightlife\n",
       "                              ...                        \n",
       "4995               What best area based sightseeing Palma\n",
       "4996    What good value traditional bars restaurants B...\n",
       "4997                What hotels near Alicante bus station\n",
       "4998                 Where stay La Gomera mountain biking\n",
       "4999          Is possible take train trip Santiago Madrid\n",
       "Name: preprocessed_text, Length: 5000, dtype: object"
      ]
     },
     "execution_count": 53,
     "metadata": {},
     "output_type": "execute_result"
    }
   ],
   "source": [
    "def remove_english_stop_words(text):\n",
    "    tokens = nltk.word_tokenize(text)\n",
    "    filtered_words = [token for token in tokens if not token in stopwords.words('english')]\n",
    "    return ' '.join(filtered_words)\n",
    "\n",
    "df['preprocessed_text'] = df['preprocessed_text'].apply(remove_english_stop_words)\n",
    "df['preprocessed_text']"
   ]
  },
  {
   "cell_type": "code",
   "execution_count": 54,
   "metadata": {},
   "outputs": [
    {
     "data": {
      "text/html": [
       "<div>\n",
       "<style scoped>\n",
       "    .dataframe tbody tr th:only-of-type {\n",
       "        vertical-align: middle;\n",
       "    }\n",
       "\n",
       "    .dataframe tbody tr th {\n",
       "        vertical-align: top;\n",
       "    }\n",
       "\n",
       "    .dataframe thead th {\n",
       "        text-align: right;\n",
       "    }\n",
       "</style>\n",
       "<table border=\"1\" class=\"dataframe\">\n",
       "  <thead>\n",
       "    <tr style=\"text-align: right;\">\n",
       "      <th></th>\n",
       "      <th>text</th>\n",
       "      <th>class1</th>\n",
       "      <th>class2</th>\n",
       "      <th>preprocessed_text</th>\n",
       "    </tr>\n",
       "  </thead>\n",
       "  <tbody>\n",
       "    <tr>\n",
       "      <th>0</th>\n",
       "      <td>What are the special things we (husband and me...</td>\n",
       "      <td>TTD</td>\n",
       "      <td>TTDSIG</td>\n",
       "      <td>What special things husband day stay Cape Town</td>\n",
       "    </tr>\n",
       "    <tr>\n",
       "      <th>1</th>\n",
       "      <td>What are the companies which organize shark fe...</td>\n",
       "      <td>TTD</td>\n",
       "      <td>TTDOTH</td>\n",
       "      <td>What companies organize shark feeding events s...</td>\n",
       "    </tr>\n",
       "    <tr>\n",
       "      <th>2</th>\n",
       "      <td>Is it safe for female traveller to go alone to...</td>\n",
       "      <td>TGU</td>\n",
       "      <td>TGUHEA</td>\n",
       "      <td>Is safe female traveller go alone Cape Town</td>\n",
       "    </tr>\n",
       "    <tr>\n",
       "      <th>3</th>\n",
       "      <td>What are the best places around Cape Town for ...</td>\n",
       "      <td>TTD</td>\n",
       "      <td>TTDSIG</td>\n",
       "      <td>What best places around Cape Town safari</td>\n",
       "    </tr>\n",
       "    <tr>\n",
       "      <th>4</th>\n",
       "      <td>What are the best places to stay for a family ...</td>\n",
       "      <td>ACM</td>\n",
       "      <td>ACMOTH</td>\n",
       "      <td>What best places stay family stay away nightlife</td>\n",
       "    </tr>\n",
       "  </tbody>\n",
       "</table>\n",
       "</div>"
      ],
      "text/plain": [
       "                                                text class1  class2  \\\n",
       "0  What are the special things we (husband and me...    TTD  TTDSIG   \n",
       "1  What are the companies which organize shark fe...    TTD  TTDOTH   \n",
       "2  Is it safe for female traveller to go alone to...    TGU  TGUHEA   \n",
       "3  What are the best places around Cape Town for ...    TTD  TTDSIG   \n",
       "4  What are the best places to stay for a family ...    ACM  ACMOTH   \n",
       "\n",
       "                                   preprocessed_text  \n",
       "0     What special things husband day stay Cape Town  \n",
       "1  What companies organize shark feeding events s...  \n",
       "2        Is safe female traveller go alone Cape Town  \n",
       "3           What best places around Cape Town safari  \n",
       "4   What best places stay family stay away nightlife  "
      ]
     },
     "execution_count": 54,
     "metadata": {},
     "output_type": "execute_result"
    }
   ],
   "source": [
    "df.head()"
   ]
  },
  {
   "cell_type": "markdown",
   "metadata": {},
   "source": [
    "##### 3.2.6. Spell Correction"
   ]
  },
  {
   "cell_type": "code",
   "execution_count": 161,
   "metadata": {},
   "outputs": [],
   "source": [
    "# THIS IS DONE TO STOP THE REPEATED RUNNING OF THE SPELL CORRECTION WHICH TAKES NEARLY 20 MINUTES FOR THE DATASET\n",
    "DO_SPELL_CORRECTION = False\n",
    "\n",
    "ENTRY_SIZE_FOR_CLARITY = 10\n",
    "spc = SpellChecker()\n",
    "def spell_correction(text):\n",
    "    tokens = nltk.word_tokenize(text)\n",
    "    spell_corrected_tokens = [spc.correction(token) for token in tokens]\n",
    "    return ' '.join(spell_corrected_tokens)"
   ]
  },
  {
   "cell_type": "code",
   "execution_count": 163,
   "metadata": {},
   "outputs": [],
   "source": [
    "if DO_SPELL_CORRECTION:\n",
    "    TOTAL_ENTRIES = df.shape[0]\n",
    "    start = time.time()\n",
    "    for i in range(TOTAL_ENTRIES):\n",
    "        df['preprocessed_text'][i] = spell_correction(df['preprocessed_text'][i])\n",
    "        if i % ENTRY_SIZE_FOR_CLARITY == 0 and i != 0:\n",
    "            print(f'[{i}/{TOTAL_ENTRIES}] entries checked and corrected. Elapsed Time: {round(time.time() - start, 2)} seconds ', end=\"\\r\")"
   ]
  },
  {
   "cell_type": "markdown",
   "metadata": {},
   "source": [
    "##### 3.2.7. Lemmatization"
   ]
  },
  {
   "cell_type": "code",
   "execution_count": 198,
   "metadata": {},
   "outputs": [
    {
     "data": {
      "text/plain": [
       "0       what be the special things we husband and me c...\n",
       "1       what be the company which organize shark feed ...\n",
       "2       be it safe for female traveller to go alone to...\n",
       "3       what be the best place around cape town for sa...\n",
       "4       what be the best place to stay for a family to...\n",
       "                              ...                        \n",
       "4995    what be the best area to be base for sightsee ...\n",
       "4996    what be the good value traditional bar and res...\n",
       "4997         what be the hotels near alicante bus station\n",
       "4998           where to stay in la gomer to mountain bike\n",
       "4999    be it possible to take a train trip from santi...\n",
       "Name: lemmatized, Length: 5000, dtype: object"
      ]
     },
     "execution_count": 198,
     "metadata": {},
     "output_type": "execute_result"
    }
   ],
   "source": [
    "lemmatizer = WordNetLemmatizer()\n",
    "\n",
    "def lemmatize_text(text):\n",
    "  lemmatized = [lemmatizer.lemmatize(word, pos=wordnet.VERB) for word in nltk.word_tokenize(text)]\n",
    "  return ' '.join(lemmatized)\n",
    "\n",
    "df['lemmatized'] = df['preprocessed_text'].apply(lemmatize_text)\n",
    "df['lemmatized']"
   ]
  },
  {
   "cell_type": "code",
   "execution_count": 197,
   "metadata": {},
   "outputs": [
    {
     "data": {
      "text/plain": [
       "['the', 'cook', 'be', 'cook', 'the', 'cook', 'recipe']"
      ]
     },
     "execution_count": 197,
     "metadata": {},
     "output_type": "execute_result"
    }
   ],
   "source": []
  }
 ],
 "metadata": {
  "kernelspec": {
   "display_name": "python38test",
   "language": "python",
   "name": "python38test"
  },
  "language_info": {
   "codemirror_mode": {
    "name": "ipython",
    "version": 3
   },
   "file_extension": ".py",
   "mimetype": "text/x-python",
   "name": "python",
   "nbconvert_exporter": "python",
   "pygments_lexer": "ipython3",
   "version": "3.8.3"
  }
 },
 "nbformat": 4,
 "nbformat_minor": 4
}

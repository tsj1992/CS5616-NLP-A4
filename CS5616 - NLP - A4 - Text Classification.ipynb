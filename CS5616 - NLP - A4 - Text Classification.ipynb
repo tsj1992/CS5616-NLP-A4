{
 "cells": [
  {
   "cell_type": "markdown",
   "metadata": {},
   "source": [
    "# CS5616 - NLP - A4 - Text Classification"
   ]
  },
  {
   "cell_type": "markdown",
   "metadata": {},
   "source": [
    "## 209338R - KATS Jayathilaka"
   ]
  },
  {
   "cell_type": "markdown",
   "metadata": {},
   "source": [
    "#### -----------------------------------------------------------------------------------------------------"
   ]
  },
  {
   "cell_type": "markdown",
   "metadata": {},
   "source": [
    "### 1. Importing and downloading NLTK Library and importing all other libraries"
   ]
  },
  {
   "cell_type": "markdown",
   "metadata": {},
   "source": [
    "###### `conda install -c conda-forge pyspellchecker`"
   ]
  },
  {
   "cell_type": "markdown",
   "metadata": {},
   "source": [
    "###### `conda install -c anaconda spacy`"
   ]
  },
  {
   "cell_type": "code",
   "execution_count": 1,
   "metadata": {},
   "outputs": [],
   "source": [
    "from nltk.corpus import stopwords, wordnet\n",
    "from nltk.stem import WordNetLemmatizer \n",
    "from nltk import pos_tag\n",
    "from spellchecker import SpellChecker\n",
    "from sklearn.preprocessing import LabelEncoder\n",
    "from sklearn.feature_extraction.text import TfidfVectorizer\n",
    "from sklearn.model_selection import KFold\n",
    "from sklearn.model_selection import cross_val_score\n",
    "from sklearn.model_selection import train_test_split\n",
    "from sklearn.svm import SVC\n",
    "from sklearn.metrics import accuracy_score\n",
    "from sklearn.metrics import f1_score\n",
    "from sklearn.metrics import accuracy_score\n",
    "from sklearn.metrics import confusion_matrix\n",
    "from sklearn.metrics import classification_report\n",
    "\n",
    "import os\n",
    "import re\n",
    "import time\n",
    "import string\n",
    "import spacy\n",
    "import nltk\n",
    "import fasttext.util\n",
    "\n",
    "import pandas as pd\n",
    "import numpy as np"
   ]
  },
  {
   "cell_type": "markdown",
   "metadata": {},
   "source": [
    "#### You have to change this directory according to your system. Otherwise, nltk.download() will always be invoked."
   ]
  },
  {
   "cell_type": "code",
   "execution_count": 2,
   "metadata": {},
   "outputs": [],
   "source": [
    "# I am KATS Jayathilaka - SINGHABAHU is my nickname\n",
    "NLTK_DATA_PATH_CHECK = '/home/singhabahu/nltk_data/'"
   ]
  },
  {
   "cell_type": "code",
   "execution_count": 3,
   "metadata": {},
   "outputs": [],
   "source": [
    "if not os.path.exists(NLTK_DATA_PATH_CHECK):\n",
    "    nltk.download()\n",
    "    nltk.download('stopwords')\n",
    "    nltk.download('punkt')\n",
    "    nltk.download('wordnet')\n",
    "    nltk.download('averaged_perceptron_tagger')"
   ]
  },
  {
   "cell_type": "markdown",
   "metadata": {},
   "source": [
    "### 2. Loading Raw Data"
   ]
  },
  {
   "cell_type": "code",
   "execution_count": 4,
   "metadata": {},
   "outputs": [
    {
     "data": {
      "text/html": [
       "<div>\n",
       "<style scoped>\n",
       "    .dataframe tbody tr th:only-of-type {\n",
       "        vertical-align: middle;\n",
       "    }\n",
       "\n",
       "    .dataframe tbody tr th {\n",
       "        vertical-align: top;\n",
       "    }\n",
       "\n",
       "    .dataframe thead th {\n",
       "        text-align: right;\n",
       "    }\n",
       "</style>\n",
       "<table border=\"1\" class=\"dataframe\">\n",
       "  <thead>\n",
       "    <tr style=\"text-align: right;\">\n",
       "      <th></th>\n",
       "      <th>text</th>\n",
       "      <th>class1</th>\n",
       "      <th>class2</th>\n",
       "    </tr>\n",
       "  </thead>\n",
       "  <tbody>\n",
       "    <tr>\n",
       "      <th>0</th>\n",
       "      <td>What are the special things we (husband and me...</td>\n",
       "      <td>TTD</td>\n",
       "      <td>TTDSIG</td>\n",
       "    </tr>\n",
       "    <tr>\n",
       "      <th>1</th>\n",
       "      <td>What are the companies which organize shark fe...</td>\n",
       "      <td>TTD</td>\n",
       "      <td>TTDOTH</td>\n",
       "    </tr>\n",
       "    <tr>\n",
       "      <th>2</th>\n",
       "      <td>Is it safe for female traveller to go alone to...</td>\n",
       "      <td>TGU</td>\n",
       "      <td>TGUHEA</td>\n",
       "    </tr>\n",
       "    <tr>\n",
       "      <th>3</th>\n",
       "      <td>What are the best places around Cape Town for ...</td>\n",
       "      <td>TTD</td>\n",
       "      <td>TTDSIG</td>\n",
       "    </tr>\n",
       "    <tr>\n",
       "      <th>4</th>\n",
       "      <td>What are the best places to stay for a family ...</td>\n",
       "      <td>ACM</td>\n",
       "      <td>ACMOTH</td>\n",
       "    </tr>\n",
       "  </tbody>\n",
       "</table>\n",
       "</div>"
      ],
      "text/plain": [
       "                                                text class1  class2\n",
       "0  What are the special things we (husband and me...    TTD  TTDSIG\n",
       "1  What are the companies which organize shark fe...    TTD  TTDOTH\n",
       "2  Is it safe for female traveller to go alone to...    TGU  TGUHEA\n",
       "3  What are the best places around Cape Town for ...    TTD  TTDSIG\n",
       "4  What are the best places to stay for a family ...    ACM  ACMOTH"
      ]
     },
     "execution_count": 4,
     "metadata": {},
     "output_type": "execute_result"
    }
   ],
   "source": [
    "d_file = open('5000TravelQuestionsDataset.csv', encoding=\"latin-1\")\n",
    "\n",
    "df = pd.read_csv(d_file, header=None)\n",
    "df.columns = ['text', 'class1', 'class2']\n",
    "\n",
    "df.head()"
   ]
  },
  {
   "cell_type": "markdown",
   "metadata": {},
   "source": [
    "### 3. Preprocessing"
   ]
  },
  {
   "cell_type": "markdown",
   "metadata": {},
   "source": [
    "#### 3.1.Removing mistakenly entered `class1` and `class2` entries as follows."
   ]
  },
  {
   "cell_type": "markdown",
   "metadata": {},
   "source": [
    "##### 3.1.1. Stripping trailing and leading whitespaces and linebreaks from `class1` column"
   ]
  },
  {
   "cell_type": "code",
   "execution_count": 5,
   "metadata": {},
   "outputs": [
    {
     "data": {
      "text/plain": [
       "TGU      1217\n",
       "TTD      1139\n",
       "TRS      1011\n",
       "ACM       720\n",
       "FOD       521\n",
       "ENT       214\n",
       "WTH       172\n",
       "TGU\\n       3\n",
       "\\nENT       2\n",
       "TTD\\n       1\n",
       "Name: class1, dtype: int64"
      ]
     },
     "execution_count": 5,
     "metadata": {},
     "output_type": "execute_result"
    }
   ],
   "source": [
    "# coarse classes\n",
    "df['class1'].value_counts()"
   ]
  },
  {
   "cell_type": "code",
   "execution_count": 6,
   "metadata": {},
   "outputs": [
    {
     "data": {
      "text/html": [
       "<div>\n",
       "<style scoped>\n",
       "    .dataframe tbody tr th:only-of-type {\n",
       "        vertical-align: middle;\n",
       "    }\n",
       "\n",
       "    .dataframe tbody tr th {\n",
       "        vertical-align: top;\n",
       "    }\n",
       "\n",
       "    .dataframe thead th {\n",
       "        text-align: right;\n",
       "    }\n",
       "</style>\n",
       "<table border=\"1\" class=\"dataframe\">\n",
       "  <thead>\n",
       "    <tr style=\"text-align: right;\">\n",
       "      <th></th>\n",
       "      <th>text</th>\n",
       "      <th>class1</th>\n",
       "      <th>class2</th>\n",
       "    </tr>\n",
       "  </thead>\n",
       "  <tbody>\n",
       "    <tr>\n",
       "      <th>524</th>\n",
       "      <td>Has anyone planned a simple wedding by themsel...</td>\n",
       "      <td>TGU\\n</td>\n",
       "      <td>TGUPLN</td>\n",
       "    </tr>\n",
       "    <tr>\n",
       "      <th>3145</th>\n",
       "      <td>What are the Trans-Mongolian stop recommendati...</td>\n",
       "      <td>TGU\\n</td>\n",
       "      <td>TGUOTH</td>\n",
       "    </tr>\n",
       "    <tr>\n",
       "      <th>3333</th>\n",
       "      <td>What is a good Civil Ceremony Venue for a wedd...</td>\n",
       "      <td>TGU\\n</td>\n",
       "      <td>TGUOTH</td>\n",
       "    </tr>\n",
       "  </tbody>\n",
       "</table>\n",
       "</div>"
      ],
      "text/plain": [
       "                                                   text class1  class2\n",
       "524   Has anyone planned a simple wedding by themsel...  TGU\\n  TGUPLN\n",
       "3145  What are the Trans-Mongolian stop recommendati...  TGU\\n  TGUOTH\n",
       "3333  What is a good Civil Ceremony Venue for a wedd...  TGU\\n  TGUOTH"
      ]
     },
     "execution_count": 6,
     "metadata": {},
     "output_type": "execute_result"
    }
   ],
   "source": [
    "df.groupby('class1').get_group('TGU\\n')"
   ]
  },
  {
   "cell_type": "code",
   "execution_count": 7,
   "metadata": {},
   "outputs": [
    {
     "data": {
      "text/html": [
       "<div>\n",
       "<style scoped>\n",
       "    .dataframe tbody tr th:only-of-type {\n",
       "        vertical-align: middle;\n",
       "    }\n",
       "\n",
       "    .dataframe tbody tr th {\n",
       "        vertical-align: top;\n",
       "    }\n",
       "\n",
       "    .dataframe thead th {\n",
       "        text-align: right;\n",
       "    }\n",
       "</style>\n",
       "<table border=\"1\" class=\"dataframe\">\n",
       "  <thead>\n",
       "    <tr style=\"text-align: right;\">\n",
       "      <th></th>\n",
       "      <th>text</th>\n",
       "      <th>class1</th>\n",
       "      <th>class2</th>\n",
       "    </tr>\n",
       "  </thead>\n",
       "  <tbody>\n",
       "    <tr>\n",
       "      <th>3750</th>\n",
       "      <td>What are the best areas of town this year for ...</td>\n",
       "      <td>\\nENT</td>\n",
       "      <td>ENTFES</td>\n",
       "    </tr>\n",
       "    <tr>\n",
       "      <th>3751</th>\n",
       "      <td>What to do on Riverwalk at Christmas time ?</td>\n",
       "      <td>\\nENT</td>\n",
       "      <td>ENTFES</td>\n",
       "    </tr>\n",
       "  </tbody>\n",
       "</table>\n",
       "</div>"
      ],
      "text/plain": [
       "                                                   text class1  class2\n",
       "3750  What are the best areas of town this year for ...  \\nENT  ENTFES\n",
       "3751        What to do on Riverwalk at Christmas time ?  \\nENT  ENTFES"
      ]
     },
     "execution_count": 7,
     "metadata": {},
     "output_type": "execute_result"
    }
   ],
   "source": [
    "df.groupby('class1').get_group('\\nENT')"
   ]
  },
  {
   "cell_type": "code",
   "execution_count": 8,
   "metadata": {},
   "outputs": [
    {
     "data": {
      "text/html": [
       "<div>\n",
       "<style scoped>\n",
       "    .dataframe tbody tr th:only-of-type {\n",
       "        vertical-align: middle;\n",
       "    }\n",
       "\n",
       "    .dataframe tbody tr th {\n",
       "        vertical-align: top;\n",
       "    }\n",
       "\n",
       "    .dataframe thead th {\n",
       "        text-align: right;\n",
       "    }\n",
       "</style>\n",
       "<table border=\"1\" class=\"dataframe\">\n",
       "  <thead>\n",
       "    <tr style=\"text-align: right;\">\n",
       "      <th></th>\n",
       "      <th>text</th>\n",
       "      <th>class1</th>\n",
       "      <th>class2</th>\n",
       "    </tr>\n",
       "  </thead>\n",
       "  <tbody>\n",
       "    <tr>\n",
       "      <th>3710</th>\n",
       "      <td>what is the best Zoo in Denmark ?</td>\n",
       "      <td>TTD\\n</td>\n",
       "      <td>TTDSIG</td>\n",
       "    </tr>\n",
       "  </tbody>\n",
       "</table>\n",
       "</div>"
      ],
      "text/plain": [
       "                                   text class1  class2\n",
       "3710  what is the best Zoo in Denmark ?  TTD\\n  TTDSIG"
      ]
     },
     "execution_count": 8,
     "metadata": {},
     "output_type": "execute_result"
    }
   ],
   "source": [
    "df.groupby('class1').get_group('TTD\\n')"
   ]
  },
  {
   "cell_type": "code",
   "execution_count": 9,
   "metadata": {},
   "outputs": [
    {
     "data": {
      "text/plain": [
       "<matplotlib.axes._subplots.AxesSubplot at 0x7efc1bfd8820>"
      ]
     },
     "execution_count": 9,
     "metadata": {},
     "output_type": "execute_result"
    },
    {
     "data": {
      "image/png": "[encoded data removed]",
      "text/plain": [
       "<Figure size 432x288 with 1 Axes>"
      ]
     },
     "metadata": {
      "needs_background": "light"
     },
     "output_type": "display_data"
    }
   ],
   "source": [
    "df.groupby('class1').text.count().plot.bar()"
   ]
  },
  {
   "cell_type": "code",
   "execution_count": 10,
   "metadata": {},
   "outputs": [],
   "source": [
    "df['class1'] = df['class1'].str.strip()"
   ]
  },
  {
   "cell_type": "markdown",
   "metadata": {},
   "source": [
    "##### Now there are exactly 7 coarse classes visible."
   ]
  },
  {
   "cell_type": "code",
   "execution_count": 11,
   "metadata": {},
   "outputs": [
    {
     "data": {
      "text/plain": [
       "TGU    1220\n",
       "TTD    1140\n",
       "TRS    1011\n",
       "ACM     720\n",
       "FOD     521\n",
       "ENT     216\n",
       "WTH     172\n",
       "Name: class1, dtype: int64"
      ]
     },
     "execution_count": 11,
     "metadata": {},
     "output_type": "execute_result"
    }
   ],
   "source": [
    "df['class1'].value_counts()"
   ]
  },
  {
   "cell_type": "code",
   "execution_count": 12,
   "metadata": {},
   "outputs": [
    {
     "data": {
      "text/plain": [
       "<matplotlib.axes._subplots.AxesSubplot at 0x7efc1bd83be0>"
      ]
     },
     "execution_count": 12,
     "metadata": {},
     "output_type": "execute_result"
    },
    {
     "data": {
      "image/png": "[encoded data removed]",
      "text/plain": [
       "<Figure size 432x288 with 1 Axes>"
      ]
     },
     "metadata": {
      "needs_background": "light"
     },
     "output_type": "display_data"
    }
   ],
   "source": [
    "df.groupby('class1').text.count().plot.bar()"
   ]
  },
  {
   "cell_type": "markdown",
   "metadata": {},
   "source": [
    "##### 3.1.2. Stripping trailing and leading whitespaces and linebreaks from `class2` column"
   ]
  },
  {
   "cell_type": "code",
   "execution_count": 13,
   "metadata": {},
   "outputs": [
    {
     "data": {
      "text/plain": [
       "TTDSIG      511\n",
       "ACMHOT      342\n",
       "TTDSPO      233\n",
       "FODBAK      221\n",
       "ACMOTH      207\n",
       "           ... \n",
       "\\nWTHOTH      1\n",
       "ACMOTH\\n      1\n",
       "TTDSPO\\n      1\n",
       "TRSROU\\n      1\n",
       "TGUCIG\\n      1\n",
       "Name: class2, Length: 79, dtype: int64"
      ]
     },
     "execution_count": 13,
     "metadata": {},
     "output_type": "execute_result"
    }
   ],
   "source": [
    "# fine classes\n",
    "df['class2'].value_counts()"
   ]
  },
  {
   "cell_type": "code",
   "execution_count": 14,
   "metadata": {},
   "outputs": [
    {
     "data": {
      "text/html": [
       "<div>\n",
       "<style scoped>\n",
       "    .dataframe tbody tr th:only-of-type {\n",
       "        vertical-align: middle;\n",
       "    }\n",
       "\n",
       "    .dataframe tbody tr th {\n",
       "        vertical-align: top;\n",
       "    }\n",
       "\n",
       "    .dataframe thead th {\n",
       "        text-align: right;\n",
       "    }\n",
       "</style>\n",
       "<table border=\"1\" class=\"dataframe\">\n",
       "  <thead>\n",
       "    <tr style=\"text-align: right;\">\n",
       "      <th></th>\n",
       "      <th>text</th>\n",
       "      <th>class1</th>\n",
       "      <th>class2</th>\n",
       "    </tr>\n",
       "  </thead>\n",
       "  <tbody>\n",
       "    <tr>\n",
       "      <th>760</th>\n",
       "      <td>Can you suggest your favorite food stands for ...</td>\n",
       "      <td>FOD</td>\n",
       "      <td>FODBAK\\n</td>\n",
       "    </tr>\n",
       "  </tbody>\n",
       "</table>\n",
       "</div>"
      ],
      "text/plain": [
       "                                                  text class1    class2\n",
       "760  Can you suggest your favorite food stands for ...    FOD  FODBAK\\n"
      ]
     },
     "execution_count": 14,
     "metadata": {},
     "output_type": "execute_result"
    }
   ],
   "source": [
    "df.groupby('class2').get_group('FODBAK\\n')"
   ]
  },
  {
   "cell_type": "code",
   "execution_count": 15,
   "metadata": {},
   "outputs": [
    {
     "data": {
      "text/html": [
       "<div>\n",
       "<style scoped>\n",
       "    .dataframe tbody tr th:only-of-type {\n",
       "        vertical-align: middle;\n",
       "    }\n",
       "\n",
       "    .dataframe tbody tr th {\n",
       "        vertical-align: top;\n",
       "    }\n",
       "\n",
       "    .dataframe thead th {\n",
       "        text-align: right;\n",
       "    }\n",
       "</style>\n",
       "<table border=\"1\" class=\"dataframe\">\n",
       "  <thead>\n",
       "    <tr style=\"text-align: right;\">\n",
       "      <th></th>\n",
       "      <th>text</th>\n",
       "      <th>class1</th>\n",
       "      <th>class2</th>\n",
       "    </tr>\n",
       "  </thead>\n",
       "  <tbody>\n",
       "    <tr>\n",
       "      <th>3429</th>\n",
       "      <td>Where in Taormina can you watch Premier League...</td>\n",
       "      <td>TTD</td>\n",
       "      <td>TTDSPO\\n</td>\n",
       "    </tr>\n",
       "  </tbody>\n",
       "</table>\n",
       "</div>"
      ],
      "text/plain": [
       "                                                   text class1    class2\n",
       "3429  Where in Taormina can you watch Premier League...    TTD  TTDSPO\\n"
      ]
     },
     "execution_count": 15,
     "metadata": {},
     "output_type": "execute_result"
    }
   ],
   "source": [
    "df.groupby('class2').get_group('TTDSPO\\n')"
   ]
  },
  {
   "cell_type": "code",
   "execution_count": 16,
   "metadata": {},
   "outputs": [
    {
     "data": {
      "text/html": [
       "<div>\n",
       "<style scoped>\n",
       "    .dataframe tbody tr th:only-of-type {\n",
       "        vertical-align: middle;\n",
       "    }\n",
       "\n",
       "    .dataframe tbody tr th {\n",
       "        vertical-align: top;\n",
       "    }\n",
       "\n",
       "    .dataframe thead th {\n",
       "        text-align: right;\n",
       "    }\n",
       "</style>\n",
       "<table border=\"1\" class=\"dataframe\">\n",
       "  <thead>\n",
       "    <tr style=\"text-align: right;\">\n",
       "      <th></th>\n",
       "      <th>text</th>\n",
       "      <th>class1</th>\n",
       "      <th>class2</th>\n",
       "    </tr>\n",
       "  </thead>\n",
       "  <tbody>\n",
       "    <tr>\n",
       "      <th>3567</th>\n",
       "      <td>What are the recommended reasonable accomodati...</td>\n",
       "      <td>ACM</td>\n",
       "      <td>ACMOTH\\n</td>\n",
       "    </tr>\n",
       "  </tbody>\n",
       "</table>\n",
       "</div>"
      ],
      "text/plain": [
       "                                                   text class1    class2\n",
       "3567  What are the recommended reasonable accomodati...    ACM  ACMOTH\\n"
      ]
     },
     "execution_count": 16,
     "metadata": {},
     "output_type": "execute_result"
    }
   ],
   "source": [
    "df.groupby('class2').get_group('ACMOTH\\n')"
   ]
  },
  {
   "cell_type": "code",
   "execution_count": 17,
   "metadata": {},
   "outputs": [
    {
     "data": {
      "text/html": [
       "<div>\n",
       "<style scoped>\n",
       "    .dataframe tbody tr th:only-of-type {\n",
       "        vertical-align: middle;\n",
       "    }\n",
       "\n",
       "    .dataframe tbody tr th {\n",
       "        vertical-align: top;\n",
       "    }\n",
       "\n",
       "    .dataframe thead th {\n",
       "        text-align: right;\n",
       "    }\n",
       "</style>\n",
       "<table border=\"1\" class=\"dataframe\">\n",
       "  <thead>\n",
       "    <tr style=\"text-align: right;\">\n",
       "      <th></th>\n",
       "      <th>text</th>\n",
       "      <th>class1</th>\n",
       "      <th>class2</th>\n",
       "    </tr>\n",
       "  </thead>\n",
       "  <tbody>\n",
       "    <tr>\n",
       "      <th>2601</th>\n",
       "      <td>What sites and places and activities are achie...</td>\n",
       "      <td>TTD</td>\n",
       "      <td>TTDSIG\\n</td>\n",
       "    </tr>\n",
       "  </tbody>\n",
       "</table>\n",
       "</div>"
      ],
      "text/plain": [
       "                                                   text class1    class2\n",
       "2601  What sites and places and activities are achie...    TTD  TTDSIG\\n"
      ]
     },
     "execution_count": 17,
     "metadata": {},
     "output_type": "execute_result"
    }
   ],
   "source": [
    "df.groupby('class2').get_group('TTDSIG\\n')"
   ]
  },
  {
   "cell_type": "code",
   "execution_count": 18,
   "metadata": {},
   "outputs": [
    {
     "data": {
      "text/html": [
       "<div>\n",
       "<style scoped>\n",
       "    .dataframe tbody tr th:only-of-type {\n",
       "        vertical-align: middle;\n",
       "    }\n",
       "\n",
       "    .dataframe tbody tr th {\n",
       "        vertical-align: top;\n",
       "    }\n",
       "\n",
       "    .dataframe thead th {\n",
       "        text-align: right;\n",
       "    }\n",
       "</style>\n",
       "<table border=\"1\" class=\"dataframe\">\n",
       "  <thead>\n",
       "    <tr style=\"text-align: right;\">\n",
       "      <th></th>\n",
       "      <th>text</th>\n",
       "      <th>class1</th>\n",
       "      <th>class2</th>\n",
       "    </tr>\n",
       "  </thead>\n",
       "  <tbody>\n",
       "    <tr>\n",
       "      <th>4926</th>\n",
       "      <td>How is the weather in october in hampton?</td>\n",
       "      <td>WTH</td>\n",
       "      <td>\\nWTHOTH</td>\n",
       "    </tr>\n",
       "  </tbody>\n",
       "</table>\n",
       "</div>"
      ],
      "text/plain": [
       "                                           text class1    class2\n",
       "4926  How is the weather in october in hampton?    WTH  \\nWTHOTH"
      ]
     },
     "execution_count": 18,
     "metadata": {},
     "output_type": "execute_result"
    }
   ],
   "source": [
    "df.groupby('class2').get_group('\\nWTHOTH')"
   ]
  },
  {
   "cell_type": "markdown",
   "metadata": {},
   "source": [
    "##### There are other mistakenly entered entries as well because here there are only 5 wrong groups from 79. But, there should be only 63 fine class labels. "
   ]
  },
  {
   "cell_type": "code",
   "execution_count": 19,
   "metadata": {},
   "outputs": [],
   "source": [
    "df['class2'] = df['class2'].str.strip()"
   ]
  },
  {
   "cell_type": "markdown",
   "metadata": {},
   "source": [
    "##### Now there are only 63 fine classes visible"
   ]
  },
  {
   "cell_type": "code",
   "execution_count": 20,
   "metadata": {},
   "outputs": [
    {
     "data": {
      "text/plain": [
       "TTDSIG    512\n",
       "ACMHOT    342\n",
       "TRSOTH    242\n",
       "TTDSPO    234\n",
       "FODBAK    222\n",
       "         ... \n",
       "ACMCAR      5\n",
       "ACMBEA      5\n",
       "TRSLIC      4\n",
       "TGURES      3\n",
       "TRSGAS      2\n",
       "Name: class2, Length: 63, dtype: int64"
      ]
     },
     "execution_count": 20,
     "metadata": {},
     "output_type": "execute_result"
    }
   ],
   "source": [
    "df['class2'].value_counts()"
   ]
  },
  {
   "cell_type": "code",
   "execution_count": 21,
   "metadata": {},
   "outputs": [
    {
     "data": {
      "text/plain": [
       "<matplotlib.axes._subplots.AxesSubplot at 0x7efc1bd73ca0>"
      ]
     },
     "execution_count": 21,
     "metadata": {},
     "output_type": "execute_result"
    },
    {
     "data": {
      "image/png": "[encoded data removed]",
      "text/plain": [
       "<Figure size 432x288 with 1 Axes>"
      ]
     },
     "metadata": {
      "needs_background": "light"
     },
     "output_type": "display_data"
    }
   ],
   "source": [
    "df.groupby('class2').text.count().plot.bar()"
   ]
  },
  {
   "cell_type": "markdown",
   "metadata": {},
   "source": [
    "#### 3.2. Advanced Preprocessing Techniques"
   ]
  },
  {
   "cell_type": "markdown",
   "metadata": {},
   "source": [
    "##### 3.2.1. Removing numbers"
   ]
  },
  {
   "cell_type": "code",
   "execution_count": 22,
   "metadata": {},
   "outputs": [
    {
     "data": {
      "text/plain": [
       "0       What are the special things we (husband and me...\n",
       "1       What are the companies which organize shark fe...\n",
       "2       Is it safe for female traveller to go alone to...\n",
       "3       What are the best places around Cape Town for ...\n",
       "4       What are the best places to stay for a family ...\n",
       "                              ...                        \n",
       "4995    What is the best area to be based for sightsee...\n",
       "4996    What are the good value traditional bars and r...\n",
       "4997       What are the hotels near Alicante bus station?\n",
       "4998       Where to stay in La Gomera to mountain biking?\n",
       "4999    Is it possible to take a train trip from Santi...\n",
       "Name: preprocessed_text, Length: 5000, dtype: object"
      ]
     },
     "execution_count": 22,
     "metadata": {},
     "output_type": "execute_result"
    }
   ],
   "source": [
    "def remove_numbers(text):\n",
    "    return re.sub(r'\\d+', '', text)\n",
    "\n",
    "df['preprocessed_text'] = df['text'].apply(remove_numbers)\n",
    "df['preprocessed_text']"
   ]
  },
  {
   "cell_type": "markdown",
   "metadata": {},
   "source": [
    "##### 3.2.2. Removing punctuation marks"
   ]
  },
  {
   "cell_type": "code",
   "execution_count": 23,
   "metadata": {},
   "outputs": [
    {
     "data": {
      "text/plain": [
       "0       What are the special things we husband and me ...\n",
       "1       What are the companies which organize shark fe...\n",
       "2       Is it safe for female traveller to go alone to...\n",
       "3       What are the best places around Cape Town for ...\n",
       "4       What are the best places to stay for a family ...\n",
       "                              ...                        \n",
       "4995    What is the best area to be based for sightsee...\n",
       "4996    What are the good value traditional bars and r...\n",
       "4997        What are the hotels near Alicante bus station\n",
       "4998        Where to stay in La Gomera to mountain biking\n",
       "4999    Is it possible to take a train trip from Santi...\n",
       "Name: preprocessed_text, Length: 5000, dtype: object"
      ]
     },
     "execution_count": 23,
     "metadata": {},
     "output_type": "execute_result"
    }
   ],
   "source": [
    "df['preprocessed_text'] = df['preprocessed_text'].str.translate(str.maketrans('','', string.punctuation))\n",
    "df['preprocessed_text']"
   ]
  },
  {
   "cell_type": "markdown",
   "metadata": {},
   "source": [
    "##### 3.2.3. Removing leading and trailing white spaces"
   ]
  },
  {
   "cell_type": "code",
   "execution_count": 24,
   "metadata": {},
   "outputs": [
    {
     "data": {
      "text/plain": [
       "0       What are the special things we husband and me ...\n",
       "1       What are the companies which organize shark fe...\n",
       "2       Is it safe for female traveller to go alone to...\n",
       "3       What are the best places around Cape Town for ...\n",
       "4       What are the best places to stay for a family ...\n",
       "                              ...                        \n",
       "4995    What is the best area to be based for sightsee...\n",
       "4996    What are the good value traditional bars and r...\n",
       "4997        What are the hotels near Alicante bus station\n",
       "4998        Where to stay in La Gomera to mountain biking\n",
       "4999    Is it possible to take a train trip from Santi...\n",
       "Name: preprocessed_text, Length: 5000, dtype: object"
      ]
     },
     "execution_count": 24,
     "metadata": {},
     "output_type": "execute_result"
    }
   ],
   "source": [
    "df['preprocessed_text'] = df['preprocessed_text'].str.strip()\n",
    "df['preprocessed_text']"
   ]
  },
  {
   "cell_type": "markdown",
   "metadata": {},
   "source": [
    "##### 3.2.4. Converting to lowercase"
   ]
  },
  {
   "cell_type": "code",
   "execution_count": 25,
   "metadata": {},
   "outputs": [
    {
     "data": {
      "text/plain": [
       "0       what are the special things we husband and me ...\n",
       "1       what are the companies which organize shark fe...\n",
       "2       is it safe for female traveller to go alone to...\n",
       "3       what are the best places around cape town for ...\n",
       "4       what are the best places to stay for a family ...\n",
       "                              ...                        \n",
       "4995    what is the best area to be based for sightsee...\n",
       "4996    what are the good value traditional bars and r...\n",
       "4997        what are the hotels near alicante bus station\n",
       "4998        where to stay in la gomera to mountain biking\n",
       "4999    is it possible to take a train trip from santi...\n",
       "Name: preprocessed_text, Length: 5000, dtype: object"
      ]
     },
     "execution_count": 25,
     "metadata": {},
     "output_type": "execute_result"
    }
   ],
   "source": [
    "df['preprocessed_text'] = df['preprocessed_text'].str.lower()\n",
    "df['preprocessed_text']"
   ]
  },
  {
   "cell_type": "markdown",
   "metadata": {},
   "source": [
    "##### 3.2.5. Removing stop words"
   ]
  },
  {
   "cell_type": "code",
   "execution_count": 26,
   "metadata": {},
   "outputs": [
    {
     "data": {
      "text/plain": [
       "0               special things husband day stay cape town\n",
       "1       companies organize shark feeding events scuba ...\n",
       "2                safe female traveller go alone cape town\n",
       "3                     best places around cape town safari\n",
       "4             best places stay family stay away nightlife\n",
       "                              ...                        \n",
       "4995                    best area based sightseeing palma\n",
       "4996    good value traditional bars restaurants barcelona\n",
       "4997                     hotels near alicante bus station\n",
       "4998                       stay la gomera mountain biking\n",
       "4999             possible take train trip santiago madrid\n",
       "Name: preprocessed_text, Length: 5000, dtype: object"
      ]
     },
     "execution_count": 26,
     "metadata": {},
     "output_type": "execute_result"
    }
   ],
   "source": [
    "def remove_english_stop_words(text):\n",
    "    tokens = nltk.word_tokenize(text)\n",
    "    filtered_words = [token for token in tokens if not token in stopwords.words('english')]\n",
    "    return ' '.join(filtered_words)\n",
    "\n",
    "df['preprocessed_text'] = df['preprocessed_text'].apply(remove_english_stop_words)\n",
    "df['preprocessed_text']"
   ]
  },
  {
   "cell_type": "code",
   "execution_count": 27,
   "metadata": {},
   "outputs": [
    {
     "data": {
      "text/html": [
       "<div>\n",
       "<style scoped>\n",
       "    .dataframe tbody tr th:only-of-type {\n",
       "        vertical-align: middle;\n",
       "    }\n",
       "\n",
       "    .dataframe tbody tr th {\n",
       "        vertical-align: top;\n",
       "    }\n",
       "\n",
       "    .dataframe thead th {\n",
       "        text-align: right;\n",
       "    }\n",
       "</style>\n",
       "<table border=\"1\" class=\"dataframe\">\n",
       "  <thead>\n",
       "    <tr style=\"text-align: right;\">\n",
       "      <th></th>\n",
       "      <th>text</th>\n",
       "      <th>class1</th>\n",
       "      <th>class2</th>\n",
       "      <th>preprocessed_text</th>\n",
       "    </tr>\n",
       "  </thead>\n",
       "  <tbody>\n",
       "    <tr>\n",
       "      <th>0</th>\n",
       "      <td>What are the special things we (husband and me...</td>\n",
       "      <td>TTD</td>\n",
       "      <td>TTDSIG</td>\n",
       "      <td>special things husband day stay cape town</td>\n",
       "    </tr>\n",
       "    <tr>\n",
       "      <th>1</th>\n",
       "      <td>What are the companies which organize shark fe...</td>\n",
       "      <td>TTD</td>\n",
       "      <td>TTDOTH</td>\n",
       "      <td>companies organize shark feeding events scuba ...</td>\n",
       "    </tr>\n",
       "    <tr>\n",
       "      <th>2</th>\n",
       "      <td>Is it safe for female traveller to go alone to...</td>\n",
       "      <td>TGU</td>\n",
       "      <td>TGUHEA</td>\n",
       "      <td>safe female traveller go alone cape town</td>\n",
       "    </tr>\n",
       "    <tr>\n",
       "      <th>3</th>\n",
       "      <td>What are the best places around Cape Town for ...</td>\n",
       "      <td>TTD</td>\n",
       "      <td>TTDSIG</td>\n",
       "      <td>best places around cape town safari</td>\n",
       "    </tr>\n",
       "    <tr>\n",
       "      <th>4</th>\n",
       "      <td>What are the best places to stay for a family ...</td>\n",
       "      <td>ACM</td>\n",
       "      <td>ACMOTH</td>\n",
       "      <td>best places stay family stay away nightlife</td>\n",
       "    </tr>\n",
       "  </tbody>\n",
       "</table>\n",
       "</div>"
      ],
      "text/plain": [
       "                                                text class1  class2  \\\n",
       "0  What are the special things we (husband and me...    TTD  TTDSIG   \n",
       "1  What are the companies which organize shark fe...    TTD  TTDOTH   \n",
       "2  Is it safe for female traveller to go alone to...    TGU  TGUHEA   \n",
       "3  What are the best places around Cape Town for ...    TTD  TTDSIG   \n",
       "4  What are the best places to stay for a family ...    ACM  ACMOTH   \n",
       "\n",
       "                                   preprocessed_text  \n",
       "0          special things husband day stay cape town  \n",
       "1  companies organize shark feeding events scuba ...  \n",
       "2           safe female traveller go alone cape town  \n",
       "3                best places around cape town safari  \n",
       "4        best places stay family stay away nightlife  "
      ]
     },
     "execution_count": 27,
     "metadata": {},
     "output_type": "execute_result"
    }
   ],
   "source": [
    "df.head()"
   ]
  },
  {
   "cell_type": "markdown",
   "metadata": {},
   "source": [
    "##### 3.2.6. Spell Correction"
   ]
  },
  {
   "cell_type": "code",
   "execution_count": 28,
   "metadata": {},
   "outputs": [],
   "source": [
    "# THIS IS DONE TO STOP THE REPEATED RUNNING OF THE SPELL CORRECTION WHICH TAKES NEARLY 20 MINUTES FOR THE DATASET\n",
    "DO_SPELL_CORRECTION = False\n",
    "\n",
    "ENTRY_SIZE_FOR_CLARITY = 10\n",
    "spc = SpellChecker()\n",
    "def spell_correction(text):\n",
    "    tokens = nltk.word_tokenize(text)\n",
    "    spell_corrected_tokens = [spc.correction(token) for token in tokens]\n",
    "    return ' '.join(spell_corrected_tokens)"
   ]
  },
  {
   "cell_type": "code",
   "execution_count": 29,
   "metadata": {},
   "outputs": [],
   "source": [
    "if DO_SPELL_CORRECTION:\n",
    "    TOTAL_ENTRIES = df.shape[0]\n",
    "    start = time.time()\n",
    "    for i in range(TOTAL_ENTRIES):\n",
    "        df['preprocessed_text'][i] = spell_correction(df['preprocessed_text'][i])\n",
    "        if i % ENTRY_SIZE_FOR_CLARITY == 0 and i != 0:\n",
    "            print(f'[{i}/{TOTAL_ENTRIES}] entries checked and corrected. Elapsed Time: {round(time.time() - start, 2)} seconds ', end=\"\\r\")"
   ]
  },
  {
   "cell_type": "markdown",
   "metadata": {},
   "source": [
    "##### 3.2.7. Lemmatization"
   ]
  },
  {
   "cell_type": "code",
   "execution_count": 30,
   "metadata": {},
   "outputs": [
    {
     "data": {
      "text/plain": [
       "0              special things husband day stay cape town\n",
       "1        company organize shark feed events scuba divers\n",
       "2               safe female traveller go alone cape town\n",
       "3                     best place around cape town safari\n",
       "4             best place stay family stay away nightlife\n",
       "                              ...                       \n",
       "4995                       best area base sightsee palma\n",
       "4996    good value traditional bar restaurants barcelona\n",
       "4997                    hotels near alicante bus station\n",
       "4998                        stay la gomera mountain bike\n",
       "4999            possible take train trip santiago madrid\n",
       "Name: lemmatized, Length: 5000, dtype: object"
      ]
     },
     "execution_count": 30,
     "metadata": {},
     "output_type": "execute_result"
    }
   ],
   "source": [
    "lemmatizer = WordNetLemmatizer()\n",
    "\n",
    "def lemmatize_text(text):\n",
    "  lemmatized = [lemmatizer.lemmatize(word, pos=wordnet.VERB) for word in nltk.word_tokenize(text)]\n",
    "  return ' '.join(lemmatized)\n",
    "\n",
    "df['lemmatized'] = df['preprocessed_text'].apply(lemmatize_text)\n",
    "df['lemmatized']"
   ]
  },
  {
   "cell_type": "code",
   "execution_count": 31,
   "metadata": {},
   "outputs": [
    {
     "data": {
      "text/html": [
       "<div>\n",
       "<style scoped>\n",
       "    .dataframe tbody tr th:only-of-type {\n",
       "        vertical-align: middle;\n",
       "    }\n",
       "\n",
       "    .dataframe tbody tr th {\n",
       "        vertical-align: top;\n",
       "    }\n",
       "\n",
       "    .dataframe thead th {\n",
       "        text-align: right;\n",
       "    }\n",
       "</style>\n",
       "<table border=\"1\" class=\"dataframe\">\n",
       "  <thead>\n",
       "    <tr style=\"text-align: right;\">\n",
       "      <th></th>\n",
       "      <th>text</th>\n",
       "      <th>class1</th>\n",
       "      <th>class2</th>\n",
       "      <th>preprocessed_text</th>\n",
       "      <th>lemmatized</th>\n",
       "    </tr>\n",
       "  </thead>\n",
       "  <tbody>\n",
       "    <tr>\n",
       "      <th>0</th>\n",
       "      <td>What are the special things we (husband and me...</td>\n",
       "      <td>TTD</td>\n",
       "      <td>TTDSIG</td>\n",
       "      <td>special things husband day stay cape town</td>\n",
       "      <td>special things husband day stay cape town</td>\n",
       "    </tr>\n",
       "    <tr>\n",
       "      <th>1</th>\n",
       "      <td>What are the companies which organize shark fe...</td>\n",
       "      <td>TTD</td>\n",
       "      <td>TTDOTH</td>\n",
       "      <td>companies organize shark feeding events scuba ...</td>\n",
       "      <td>company organize shark feed events scuba divers</td>\n",
       "    </tr>\n",
       "    <tr>\n",
       "      <th>2</th>\n",
       "      <td>Is it safe for female traveller to go alone to...</td>\n",
       "      <td>TGU</td>\n",
       "      <td>TGUHEA</td>\n",
       "      <td>safe female traveller go alone cape town</td>\n",
       "      <td>safe female traveller go alone cape town</td>\n",
       "    </tr>\n",
       "    <tr>\n",
       "      <th>3</th>\n",
       "      <td>What are the best places around Cape Town for ...</td>\n",
       "      <td>TTD</td>\n",
       "      <td>TTDSIG</td>\n",
       "      <td>best places around cape town safari</td>\n",
       "      <td>best place around cape town safari</td>\n",
       "    </tr>\n",
       "    <tr>\n",
       "      <th>4</th>\n",
       "      <td>What are the best places to stay for a family ...</td>\n",
       "      <td>ACM</td>\n",
       "      <td>ACMOTH</td>\n",
       "      <td>best places stay family stay away nightlife</td>\n",
       "      <td>best place stay family stay away nightlife</td>\n",
       "    </tr>\n",
       "    <tr>\n",
       "      <th>...</th>\n",
       "      <td>...</td>\n",
       "      <td>...</td>\n",
       "      <td>...</td>\n",
       "      <td>...</td>\n",
       "      <td>...</td>\n",
       "    </tr>\n",
       "    <tr>\n",
       "      <th>4995</th>\n",
       "      <td>What is the best area to be based for sightsee...</td>\n",
       "      <td>TTD</td>\n",
       "      <td>TTDSIG</td>\n",
       "      <td>best area based sightseeing palma</td>\n",
       "      <td>best area base sightsee palma</td>\n",
       "    </tr>\n",
       "    <tr>\n",
       "      <th>4996</th>\n",
       "      <td>What are the good value traditional bars and r...</td>\n",
       "      <td>FOD</td>\n",
       "      <td>FODBAR</td>\n",
       "      <td>good value traditional bars restaurants barcelona</td>\n",
       "      <td>good value traditional bar restaurants barcelona</td>\n",
       "    </tr>\n",
       "    <tr>\n",
       "      <th>4997</th>\n",
       "      <td>What are the hotels near Alicante bus station?</td>\n",
       "      <td>ACM</td>\n",
       "      <td>ACMHOT</td>\n",
       "      <td>hotels near alicante bus station</td>\n",
       "      <td>hotels near alicante bus station</td>\n",
       "    </tr>\n",
       "    <tr>\n",
       "      <th>4998</th>\n",
       "      <td>Where to stay in La Gomera to mountain biking?</td>\n",
       "      <td>TTD</td>\n",
       "      <td>TTDSPO</td>\n",
       "      <td>stay la gomera mountain biking</td>\n",
       "      <td>stay la gomera mountain bike</td>\n",
       "    </tr>\n",
       "    <tr>\n",
       "      <th>4999</th>\n",
       "      <td>Is it possible to take a train trip from Santi...</td>\n",
       "      <td>TRS</td>\n",
       "      <td>TRSTRN</td>\n",
       "      <td>possible take train trip santiago madrid</td>\n",
       "      <td>possible take train trip santiago madrid</td>\n",
       "    </tr>\n",
       "  </tbody>\n",
       "</table>\n",
       "<p>5000 rows × 5 columns</p>\n",
       "</div>"
      ],
      "text/plain": [
       "                                                   text class1  class2  \\\n",
       "0     What are the special things we (husband and me...    TTD  TTDSIG   \n",
       "1     What are the companies which organize shark fe...    TTD  TTDOTH   \n",
       "2     Is it safe for female traveller to go alone to...    TGU  TGUHEA   \n",
       "3     What are the best places around Cape Town for ...    TTD  TTDSIG   \n",
       "4     What are the best places to stay for a family ...    ACM  ACMOTH   \n",
       "...                                                 ...    ...     ...   \n",
       "4995  What is the best area to be based for sightsee...    TTD  TTDSIG   \n",
       "4996  What are the good value traditional bars and r...    FOD  FODBAR   \n",
       "4997     What are the hotels near Alicante bus station?    ACM  ACMHOT   \n",
       "4998     Where to stay in La Gomera to mountain biking?    TTD  TTDSPO   \n",
       "4999  Is it possible to take a train trip from Santi...    TRS  TRSTRN   \n",
       "\n",
       "                                      preprocessed_text  \\\n",
       "0             special things husband day stay cape town   \n",
       "1     companies organize shark feeding events scuba ...   \n",
       "2              safe female traveller go alone cape town   \n",
       "3                   best places around cape town safari   \n",
       "4           best places stay family stay away nightlife   \n",
       "...                                                 ...   \n",
       "4995                  best area based sightseeing palma   \n",
       "4996  good value traditional bars restaurants barcelona   \n",
       "4997                   hotels near alicante bus station   \n",
       "4998                     stay la gomera mountain biking   \n",
       "4999           possible take train trip santiago madrid   \n",
       "\n",
       "                                            lemmatized  \n",
       "0            special things husband day stay cape town  \n",
       "1      company organize shark feed events scuba divers  \n",
       "2             safe female traveller go alone cape town  \n",
       "3                   best place around cape town safari  \n",
       "4           best place stay family stay away nightlife  \n",
       "...                                                ...  \n",
       "4995                     best area base sightsee palma  \n",
       "4996  good value traditional bar restaurants barcelona  \n",
       "4997                  hotels near alicante bus station  \n",
       "4998                      stay la gomera mountain bike  \n",
       "4999          possible take train trip santiago madrid  \n",
       "\n",
       "[5000 rows x 5 columns]"
      ]
     },
     "execution_count": 31,
     "metadata": {},
     "output_type": "execute_result"
    }
   ],
   "source": [
    "df"
   ]
  },
  {
   "cell_type": "markdown",
   "metadata": {},
   "source": [
    "### 4. Text Classification"
   ]
  },
  {
   "cell_type": "markdown",
   "metadata": {},
   "source": [
    "#### 4.1. SVM Classifier"
   ]
  },
  {
   "cell_type": "markdown",
   "metadata": {},
   "source": [
    "##### 4.1.1. Bag of Words (BoW) with lemmatized tokens"
   ]
  },
  {
   "cell_type": "markdown",
   "metadata": {},
   "source": [
    "###### Already the lemmatization was done as a preprocessing step."
   ]
  },
  {
   "cell_type": "code",
   "execution_count": 32,
   "metadata": {},
   "outputs": [
    {
     "data": {
      "text/plain": [
       "0              special things husband day stay cape town\n",
       "1        company organize shark feed events scuba divers\n",
       "2               safe female traveller go alone cape town\n",
       "3                     best place around cape town safari\n",
       "4             best place stay family stay away nightlife\n",
       "                              ...                       \n",
       "4995                       best area base sightsee palma\n",
       "4996    good value traditional bar restaurants barcelona\n",
       "4997                    hotels near alicante bus station\n",
       "4998                        stay la gomera mountain bike\n",
       "4999            possible take train trip santiago madrid\n",
       "Name: lemmatized, Length: 5000, dtype: object"
      ]
     },
     "execution_count": 32,
     "metadata": {},
     "output_type": "execute_result"
    }
   ],
   "source": [
    "df['lemmatized']"
   ]
  },
  {
   "cell_type": "markdown",
   "metadata": {},
   "source": [
    "##### 4.1.2. POS Tags"
   ]
  },
  {
   "cell_type": "code",
   "execution_count": 33,
   "metadata": {},
   "outputs": [
    {
     "data": {
      "text/plain": [
       "0       special_JJ things_NNS husband_NN day_NN stay_V...\n",
       "1       companies_NNS organize_VBP shark_JJ feeding_VB...\n",
       "2       safe_JJ female_NN traveller_NN go_VBP alone_RB...\n",
       "3       best_JJS places_NNS around_IN cape_NN town_NN ...\n",
       "4       best_JJS places_NNS stay_VBP family_NN stay_VB...\n",
       "                              ...                        \n",
       "4995    best_JJS area_NN based_VBN sightseeing_NN palm...\n",
       "4996    good_JJ value_NN traditional_JJ bars_NNS resta...\n",
       "4997     hotels_NNS near_IN alicante_JJ bus_NN station_NN\n",
       "4998       stay_NN la_RB gomera_VBD mountain_NN biking_NN\n",
       "4999    possible_JJ take_NN train_NN trip_NN santiago_...\n",
       "Name: pos_tagged, Length: 5000, dtype: object"
      ]
     },
     "execution_count": 33,
     "metadata": {},
     "output_type": "execute_result"
    }
   ],
   "source": [
    "def pos_tagger(text):\n",
    "    pos_tagged = [tok_pos[0] + '_' + tok_pos[1] for tok_pos in pos_tag(nltk.word_tokenize(text), lang='eng')] \n",
    "    return ' '.join(pos_tagged)\n",
    "\n",
    "df['pos_tagged'] = df['preprocessed_text'].apply(pos_tagger)\n",
    "df['pos_tagged']"
   ]
  },
  {
   "cell_type": "markdown",
   "metadata": {},
   "source": [
    "##### 4.1.3. Headword extraction"
   ]
  },
  {
   "cell_type": "markdown",
   "metadata": {},
   "source": [
    "###### Install spaCy by: `conda install -c conda-forge spacy`"
   ]
  },
  {
   "cell_type": "markdown",
   "metadata": {},
   "source": [
    "###### Install the `en_core_web_sm` by: `pip3 install https://github.com/explosion/spacy-models/releases/download/en_core_web_sm-3.0.0/en_core_web_sm-3.0.0.tar.gz`"
   ]
  },
  {
   "cell_type": "markdown",
   "metadata": {},
   "source": [
    "###### Support from online resources\n",
    "##### `https://github.com/explosion/spaCy/issues/7453`\n",
    "##### `https://github.com/explosion/spaCy/issues/4577`\n",
    "##### `https://spacy.io/models`"
   ]
  },
  {
   "cell_type": "code",
   "execution_count": 34,
   "metadata": {},
   "outputs": [
    {
     "data": {
      "text/plain": [
       "0                       stay things town\n",
       "1       events companies organize divers\n",
       "2                           traveller go\n",
       "3                                 places\n",
       "4                     stay places family\n",
       "                      ...               \n",
       "4995                    based area palma\n",
       "4996          barcelona restaurants bars\n",
       "4997                              hotels\n",
       "4998                         stay biking\n",
       "4999                    madrid trip take\n",
       "Name: headwords, Length: 5000, dtype: object"
      ]
     },
     "execution_count": 34,
     "metadata": {},
     "output_type": "execute_result"
    }
   ],
   "source": [
    "nlp = spacy.load('en_core_web_sm')\n",
    "def headword_tokenizer(text):\n",
    "    head_words = []\n",
    "    for token in nlp(text):\n",
    "        if token.dep_ == \"nsubj\" or token.dep_ == \"dobj\" or token.dep_ == \"aux\" or token.dep_ == \"ROOT\":\n",
    "            head_words.append(token.text)\n",
    "            head_words.append(token.head.text)\n",
    "    unique_hw = list(set(head_words))\n",
    "    return ' '.join(unique_hw)\n",
    "\n",
    "# headword_tokenizer(df['preprocessed_text'][0])\n",
    "df['headwords'] = df['preprocessed_text'].apply(headword_tokenizer)\n",
    "df['headwords']"
   ]
  },
  {
   "cell_type": "markdown",
   "metadata": {},
   "source": [
    "##### 4.1.4. Headword Synonyms"
   ]
  },
  {
   "cell_type": "code",
   "execution_count": 35,
   "metadata": {},
   "outputs": [
    {
     "data": {
      "text/plain": [
       "0       second sec s sulfur S sulphur atomic_number_16...\n",
       "1       vitamin_E tocopherol E einsteinium Es E atomic...\n",
       "2       thymine T deoxythymidine_monophosphate T metri...\n",
       "3       phosphorus P atomic_number_15 P p liter litre ...\n",
       "4       second sec s sulfur S sulphur atomic_number_16...\n",
       "                              ...                        \n",
       "4995    bacillus B B-complex_vitamin B_complex vitamin...\n",
       "4996    bacillus B B-complex_vitamin B_complex vitamin...\n",
       "4997    hydrogen H atomic_number_1 henry H Planck's_co...\n",
       "4998    second sec s sulfur S sulphur atomic_number_16...\n",
       "4999    meter metre m molarity molar_concentration M t...\n",
       "Name: headwords_synonyms, Length: 5000, dtype: object"
      ]
     },
     "execution_count": 35,
     "metadata": {},
     "output_type": "execute_result"
    }
   ],
   "source": [
    "max_syns = 2\n",
    "\n",
    "def wordnet_synonyms(keywords):\n",
    "  synonyms = []\n",
    "  for keyword in keywords:\n",
    "    count = 0\n",
    "    for synset in wordnet.synsets(keyword):\n",
    "      if count <= max_syns:\n",
    "        for lemma in synset.lemmas():\n",
    "          if count <= max_syns:\n",
    "            synonyms.append(lemma.name())\n",
    "          else: \n",
    "            break\n",
    "        count = count + 1\n",
    "      else:\n",
    "        break\n",
    "\n",
    "  unique_synonyms = list(set(synonyms))\n",
    "  return ' '.join(synonyms)\n",
    "\n",
    "df['headwords_synonyms'] = df['headwords'].apply(wordnet_synonyms)\n",
    "df['headwords_synonyms']"
   ]
  },
  {
   "cell_type": "markdown",
   "metadata": {},
   "source": [
    "##### 4.1.5. Named Entity Recognition (NER)"
   ]
  },
  {
   "cell_type": "code",
   "execution_count": 36,
   "metadata": {},
   "outputs": [
    {
     "data": {
      "text/plain": [
       "0       5 day_DATE Cape Town_LOC\n",
       "1                               \n",
       "2                  Cape Town_GPE\n",
       "3                  Cape Town_LOC\n",
       "4                               \n",
       "                  ...           \n",
       "4995                   Palma_GPE\n",
       "4996               Barcelona_GPE\n",
       "4997                Alicante_GPE\n",
       "4998               La Gomera_GPE\n",
       "4999                  Madrid_GPE\n",
       "Name: named_entities, Length: 5000, dtype: object"
      ]
     },
     "execution_count": 36,
     "metadata": {},
     "output_type": "execute_result"
    }
   ],
   "source": [
    "def named_entity_tokenizer(text):\n",
    "    named_entities = []\n",
    "    for ent in nlp(text).ents:\n",
    "      named_entities.append(ent.text + '_' + ent.label_)\n",
    "    return ' '.join(named_entities)\n",
    "\n",
    "df['named_entities'] = df['text'].apply(named_entity_tokenizer)\n",
    "df['named_entities']"
   ]
  },
  {
   "cell_type": "code",
   "execution_count": 37,
   "metadata": {},
   "outputs": [
    {
     "data": {
      "text/html": [
       "<div>\n",
       "<style scoped>\n",
       "    .dataframe tbody tr th:only-of-type {\n",
       "        vertical-align: middle;\n",
       "    }\n",
       "\n",
       "    .dataframe tbody tr th {\n",
       "        vertical-align: top;\n",
       "    }\n",
       "\n",
       "    .dataframe thead th {\n",
       "        text-align: right;\n",
       "    }\n",
       "</style>\n",
       "<table border=\"1\" class=\"dataframe\">\n",
       "  <thead>\n",
       "    <tr style=\"text-align: right;\">\n",
       "      <th></th>\n",
       "      <th>text</th>\n",
       "      <th>class1</th>\n",
       "      <th>class2</th>\n",
       "      <th>preprocessed_text</th>\n",
       "      <th>lemmatized</th>\n",
       "      <th>pos_tagged</th>\n",
       "      <th>headwords</th>\n",
       "      <th>headwords_synonyms</th>\n",
       "      <th>named_entities</th>\n",
       "    </tr>\n",
       "  </thead>\n",
       "  <tbody>\n",
       "    <tr>\n",
       "      <th>0</th>\n",
       "      <td>What are the special things we (husband and me...</td>\n",
       "      <td>TTD</td>\n",
       "      <td>TTDSIG</td>\n",
       "      <td>special things husband day stay cape town</td>\n",
       "      <td>special things husband day stay cape town</td>\n",
       "      <td>special_JJ things_NNS husband_NN day_NN stay_V...</td>\n",
       "      <td>stay things town</td>\n",
       "      <td>second sec s sulfur S sulphur atomic_number_16...</td>\n",
       "      <td>5 day_DATE Cape Town_LOC</td>\n",
       "    </tr>\n",
       "    <tr>\n",
       "      <th>1</th>\n",
       "      <td>What are the companies which organize shark fe...</td>\n",
       "      <td>TTD</td>\n",
       "      <td>TTDOTH</td>\n",
       "      <td>companies organize shark feeding events scuba ...</td>\n",
       "      <td>company organize shark feed events scuba divers</td>\n",
       "      <td>companies_NNS organize_VBP shark_JJ feeding_VB...</td>\n",
       "      <td>events companies organize divers</td>\n",
       "      <td>vitamin_E tocopherol E einsteinium Es E atomic...</td>\n",
       "      <td></td>\n",
       "    </tr>\n",
       "    <tr>\n",
       "      <th>2</th>\n",
       "      <td>Is it safe for female traveller to go alone to...</td>\n",
       "      <td>TGU</td>\n",
       "      <td>TGUHEA</td>\n",
       "      <td>safe female traveller go alone cape town</td>\n",
       "      <td>safe female traveller go alone cape town</td>\n",
       "      <td>safe_JJ female_NN traveller_NN go_VBP alone_RB...</td>\n",
       "      <td>traveller go</td>\n",
       "      <td>thymine T deoxythymidine_monophosphate T metri...</td>\n",
       "      <td>Cape Town_GPE</td>\n",
       "    </tr>\n",
       "    <tr>\n",
       "      <th>3</th>\n",
       "      <td>What are the best places around Cape Town for ...</td>\n",
       "      <td>TTD</td>\n",
       "      <td>TTDSIG</td>\n",
       "      <td>best places around cape town safari</td>\n",
       "      <td>best place around cape town safari</td>\n",
       "      <td>best_JJS places_NNS around_IN cape_NN town_NN ...</td>\n",
       "      <td>places</td>\n",
       "      <td>phosphorus P atomic_number_15 P p liter litre ...</td>\n",
       "      <td>Cape Town_LOC</td>\n",
       "    </tr>\n",
       "    <tr>\n",
       "      <th>4</th>\n",
       "      <td>What are the best places to stay for a family ...</td>\n",
       "      <td>ACM</td>\n",
       "      <td>ACMOTH</td>\n",
       "      <td>best places stay family stay away nightlife</td>\n",
       "      <td>best place stay family stay away nightlife</td>\n",
       "      <td>best_JJS places_NNS stay_VBP family_NN stay_VB...</td>\n",
       "      <td>stay places family</td>\n",
       "      <td>second sec s sulfur S sulphur atomic_number_16...</td>\n",
       "      <td></td>\n",
       "    </tr>\n",
       "    <tr>\n",
       "      <th>...</th>\n",
       "      <td>...</td>\n",
       "      <td>...</td>\n",
       "      <td>...</td>\n",
       "      <td>...</td>\n",
       "      <td>...</td>\n",
       "      <td>...</td>\n",
       "      <td>...</td>\n",
       "      <td>...</td>\n",
       "      <td>...</td>\n",
       "    </tr>\n",
       "    <tr>\n",
       "      <th>4995</th>\n",
       "      <td>What is the best area to be based for sightsee...</td>\n",
       "      <td>TTD</td>\n",
       "      <td>TTDSIG</td>\n",
       "      <td>best area based sightseeing palma</td>\n",
       "      <td>best area base sightsee palma</td>\n",
       "      <td>best_JJS area_NN based_VBN sightseeing_NN palm...</td>\n",
       "      <td>based area palma</td>\n",
       "      <td>bacillus B B-complex_vitamin B_complex vitamin...</td>\n",
       "      <td>Palma_GPE</td>\n",
       "    </tr>\n",
       "    <tr>\n",
       "      <th>4996</th>\n",
       "      <td>What are the good value traditional bars and r...</td>\n",
       "      <td>FOD</td>\n",
       "      <td>FODBAR</td>\n",
       "      <td>good value traditional bars restaurants barcelona</td>\n",
       "      <td>good value traditional bar restaurants barcelona</td>\n",
       "      <td>good_JJ value_NN traditional_JJ bars_NNS resta...</td>\n",
       "      <td>barcelona restaurants bars</td>\n",
       "      <td>bacillus B B-complex_vitamin B_complex vitamin...</td>\n",
       "      <td>Barcelona_GPE</td>\n",
       "    </tr>\n",
       "    <tr>\n",
       "      <th>4997</th>\n",
       "      <td>What are the hotels near Alicante bus station?</td>\n",
       "      <td>ACM</td>\n",
       "      <td>ACMHOT</td>\n",
       "      <td>hotels near alicante bus station</td>\n",
       "      <td>hotels near alicante bus station</td>\n",
       "      <td>hotels_NNS near_IN alicante_JJ bus_NN station_NN</td>\n",
       "      <td>hotels</td>\n",
       "      <td>hydrogen H atomic_number_1 henry H Planck's_co...</td>\n",
       "      <td>Alicante_GPE</td>\n",
       "    </tr>\n",
       "    <tr>\n",
       "      <th>4998</th>\n",
       "      <td>Where to stay in La Gomera to mountain biking?</td>\n",
       "      <td>TTD</td>\n",
       "      <td>TTDSPO</td>\n",
       "      <td>stay la gomera mountain biking</td>\n",
       "      <td>stay la gomera mountain bike</td>\n",
       "      <td>stay_NN la_RB gomera_VBD mountain_NN biking_NN</td>\n",
       "      <td>stay biking</td>\n",
       "      <td>second sec s sulfur S sulphur atomic_number_16...</td>\n",
       "      <td>La Gomera_GPE</td>\n",
       "    </tr>\n",
       "    <tr>\n",
       "      <th>4999</th>\n",
       "      <td>Is it possible to take a train trip from Santi...</td>\n",
       "      <td>TRS</td>\n",
       "      <td>TRSTRN</td>\n",
       "      <td>possible take train trip santiago madrid</td>\n",
       "      <td>possible take train trip santiago madrid</td>\n",
       "      <td>possible_JJ take_NN train_NN trip_NN santiago_...</td>\n",
       "      <td>madrid trip take</td>\n",
       "      <td>meter metre m molarity molar_concentration M t...</td>\n",
       "      <td>Madrid_GPE</td>\n",
       "    </tr>\n",
       "  </tbody>\n",
       "</table>\n",
       "<p>5000 rows × 9 columns</p>\n",
       "</div>"
      ],
      "text/plain": [
       "                                                   text class1  class2  \\\n",
       "0     What are the special things we (husband and me...    TTD  TTDSIG   \n",
       "1     What are the companies which organize shark fe...    TTD  TTDOTH   \n",
       "2     Is it safe for female traveller to go alone to...    TGU  TGUHEA   \n",
       "3     What are the best places around Cape Town for ...    TTD  TTDSIG   \n",
       "4     What are the best places to stay for a family ...    ACM  ACMOTH   \n",
       "...                                                 ...    ...     ...   \n",
       "4995  What is the best area to be based for sightsee...    TTD  TTDSIG   \n",
       "4996  What are the good value traditional bars and r...    FOD  FODBAR   \n",
       "4997     What are the hotels near Alicante bus station?    ACM  ACMHOT   \n",
       "4998     Where to stay in La Gomera to mountain biking?    TTD  TTDSPO   \n",
       "4999  Is it possible to take a train trip from Santi...    TRS  TRSTRN   \n",
       "\n",
       "                                      preprocessed_text  \\\n",
       "0             special things husband day stay cape town   \n",
       "1     companies organize shark feeding events scuba ...   \n",
       "2              safe female traveller go alone cape town   \n",
       "3                   best places around cape town safari   \n",
       "4           best places stay family stay away nightlife   \n",
       "...                                                 ...   \n",
       "4995                  best area based sightseeing palma   \n",
       "4996  good value traditional bars restaurants barcelona   \n",
       "4997                   hotels near alicante bus station   \n",
       "4998                     stay la gomera mountain biking   \n",
       "4999           possible take train trip santiago madrid   \n",
       "\n",
       "                                            lemmatized  \\\n",
       "0            special things husband day stay cape town   \n",
       "1      company organize shark feed events scuba divers   \n",
       "2             safe female traveller go alone cape town   \n",
       "3                   best place around cape town safari   \n",
       "4           best place stay family stay away nightlife   \n",
       "...                                                ...   \n",
       "4995                     best area base sightsee palma   \n",
       "4996  good value traditional bar restaurants barcelona   \n",
       "4997                  hotels near alicante bus station   \n",
       "4998                      stay la gomera mountain bike   \n",
       "4999          possible take train trip santiago madrid   \n",
       "\n",
       "                                             pos_tagged  \\\n",
       "0     special_JJ things_NNS husband_NN day_NN stay_V...   \n",
       "1     companies_NNS organize_VBP shark_JJ feeding_VB...   \n",
       "2     safe_JJ female_NN traveller_NN go_VBP alone_RB...   \n",
       "3     best_JJS places_NNS around_IN cape_NN town_NN ...   \n",
       "4     best_JJS places_NNS stay_VBP family_NN stay_VB...   \n",
       "...                                                 ...   \n",
       "4995  best_JJS area_NN based_VBN sightseeing_NN palm...   \n",
       "4996  good_JJ value_NN traditional_JJ bars_NNS resta...   \n",
       "4997   hotels_NNS near_IN alicante_JJ bus_NN station_NN   \n",
       "4998     stay_NN la_RB gomera_VBD mountain_NN biking_NN   \n",
       "4999  possible_JJ take_NN train_NN trip_NN santiago_...   \n",
       "\n",
       "                             headwords  \\\n",
       "0                     stay things town   \n",
       "1     events companies organize divers   \n",
       "2                         traveller go   \n",
       "3                               places   \n",
       "4                   stay places family   \n",
       "...                                ...   \n",
       "4995                  based area palma   \n",
       "4996        barcelona restaurants bars   \n",
       "4997                            hotels   \n",
       "4998                       stay biking   \n",
       "4999                  madrid trip take   \n",
       "\n",
       "                                     headwords_synonyms  \\\n",
       "0     second sec s sulfur S sulphur atomic_number_16...   \n",
       "1     vitamin_E tocopherol E einsteinium Es E atomic...   \n",
       "2     thymine T deoxythymidine_monophosphate T metri...   \n",
       "3     phosphorus P atomic_number_15 P p liter litre ...   \n",
       "4     second sec s sulfur S sulphur atomic_number_16...   \n",
       "...                                                 ...   \n",
       "4995  bacillus B B-complex_vitamin B_complex vitamin...   \n",
       "4996  bacillus B B-complex_vitamin B_complex vitamin...   \n",
       "4997  hydrogen H atomic_number_1 henry H Planck's_co...   \n",
       "4998  second sec s sulfur S sulphur atomic_number_16...   \n",
       "4999  meter metre m molarity molar_concentration M t...   \n",
       "\n",
       "                named_entities  \n",
       "0     5 day_DATE Cape Town_LOC  \n",
       "1                               \n",
       "2                Cape Town_GPE  \n",
       "3                Cape Town_LOC  \n",
       "4                               \n",
       "...                        ...  \n",
       "4995                 Palma_GPE  \n",
       "4996             Barcelona_GPE  \n",
       "4997              Alicante_GPE  \n",
       "4998             La Gomera_GPE  \n",
       "4999                Madrid_GPE  \n",
       "\n",
       "[5000 rows x 9 columns]"
      ]
     },
     "execution_count": 37,
     "metadata": {},
     "output_type": "execute_result"
    }
   ],
   "source": [
    "df"
   ]
  },
  {
   "cell_type": "markdown",
   "metadata": {},
   "source": [
    "##### 4.1.6. tf-idf Vectorization"
   ]
  },
  {
   "cell_type": "code",
   "execution_count": 38,
   "metadata": {},
   "outputs": [
    {
     "name": "stdout",
     "output_type": "stream",
     "text": [
      "BoW vec shape: (5000, 1500)\n",
      "POS tagged: (5000, 1500)\n",
      "Head Words: (5000, 1500)\n",
      "Head Words Synonyms: (5000, 136)\n",
      "Named Entity: (5000, 1500)\n"
     ]
    }
   ],
   "source": [
    "def tfidf_vectorize(text):\n",
    "  tfidfconverter = TfidfVectorizer(max_features=1500, min_df=1, max_df=0.7, stop_words=stopwords.words('english'))\n",
    "  vctzr = tfidfconverter.fit_transform(text).toarray()\n",
    "  return vctzr\n",
    "\n",
    "print('BoW vec shape:', tfidf_vectorize(df['lemmatized']).shape)\n",
    "print('POS tagged:', tfidf_vectorize(df['pos_tagged']).shape)\n",
    "print('Head Words:', tfidf_vectorize(df['headwords']).shape)\n",
    "print('Head Words Synonyms:', tfidf_vectorize(df['headwords_synonyms']).shape)\n",
    "print('Named Entity:', tfidf_vectorize(df['named_entities']).shape)"
   ]
  },
  {
   "cell_type": "markdown",
   "metadata": {},
   "source": [
    "##### 4.1.7. Label encoding for class 1"
   ]
  },
  {
   "cell_type": "code",
   "execution_count": 39,
   "metadata": {},
   "outputs": [],
   "source": [
    "le = LabelEncoder()\n",
    "\n",
    "x_encoded = np.concatenate(\n",
    "    (\n",
    "        tfidf_vectorize(df['lemmatized']), \n",
    "        tfidf_vectorize(df['pos_tagged']), \n",
    "        tfidf_vectorize(df['headwords']), \n",
    "        tfidf_vectorize(df['headwords_synonyms']), \n",
    "        tfidf_vectorize(df['named_entities'])\n",
    "    )\n",
    ", axis=1)\n",
    "y_encoded = le.fit_transform(df['class1'])"
   ]
  },
  {
   "cell_type": "markdown",
   "metadata": {},
   "source": [
    "##### 4.1.8. SVM Model and Training"
   ]
  },
  {
   "cell_type": "code",
   "execution_count": 40,
   "metadata": {},
   "outputs": [],
   "source": [
    "def calculate_accuracy(encoded_x, encoded_y):\n",
    "  cv = KFold(n_splits=10, random_state=1, shuffle=True)\n",
    "  fold = 0\n",
    "  accuracies = []\n",
    "  for train_index, test_index in cv.split(x_encoded):\n",
    "      fold += 1\n",
    "      X_train, X_test = encoded_x[train_index], encoded_x[test_index]\n",
    "      y_train, y_test = encoded_y[train_index], encoded_y[test_index]\n",
    "      SVM = SVC(C=1.0, kernel='linear', degree=3, gamma='auto')\n",
    "      SVM.fit(X_train,y_train)\n",
    "      predictions = SVM.predict(X_test)\n",
    "      acc = accuracy_score(predictions, y_test)*100\n",
    "      accuracies.append(acc)\n",
    "      print(\"Fold: {} - {} - {:.2f}\".format(fold, \"Accuracy: \",acc))\n",
    "      \n",
    "  print(\"Mean {:.2f} Standard Deviation {:.2f}\".format(np.mean(accuracies), np.std(accuracies)))\n",
    "\n",
    "  return predictions, y_test\n",
    "\n",
    "\n",
    "def accuracy_report(y_test, y_pred):\n",
    "    \n",
    "    print(classification_report(y_test,y_pred))\n",
    "\n",
    "    acc = accuracy_score(y_test, y_pred) * 100\n",
    "    print('Accuracy : %.3f' % acc)\n",
    "\n",
    "    f1 =  f1_score(y_test, y_pred, average='weighted')\n",
    "    print('F1 Score: %.3f' % f1)\n",
    "\n",
    "    \n",
    "    cm = confusion_matrix(y_test, y_pred)\n",
    "    print(\"Confusion Matrix: \\n{}\".format(cm))\n",
    "\n",
    "    return f1"
   ]
  },
  {
   "cell_type": "markdown",
   "metadata": {},
   "source": [
    "##### 4.1.9. Results for `class1` - All 5 features"
   ]
  },
  {
   "cell_type": "code",
   "execution_count": 167,
   "metadata": {},
   "outputs": [
    {
     "name": "stdout",
     "output_type": "stream",
     "text": [
      "Fold: 1 - Accuracy:  - 78.80\n",
      "Fold: 2 - Accuracy:  - 78.20\n",
      "Fold: 3 - Accuracy:  - 76.20\n",
      "Fold: 4 - Accuracy:  - 77.00\n",
      "Fold: 5 - Accuracy:  - 77.20\n",
      "Fold: 6 - Accuracy:  - 78.00\n",
      "Fold: 7 - Accuracy:  - 79.80\n",
      "Fold: 8 - Accuracy:  - 78.20\n",
      "Fold: 9 - Accuracy:  - 77.60\n",
      "Fold: 10 - Accuracy:  - 80.00\n",
      "Mean 78.10 Standard Deviation 1.14\n"
     ]
    }
   ],
   "source": [
    "start = time.time()\n",
    "y_return = calculate_accuracy(x_encoded, y_encoded)\n",
    "print(f'Time: {time.time() - start} seconds')"
   ]
  },
  {
   "cell_type": "code",
   "execution_count": 168,
   "metadata": {},
   "outputs": [
    {
     "name": "stdout",
     "output_type": "stream",
     "text": [
      "              precision    recall  f1-score   support\n",
      "\n",
      "           0       0.83      0.85      0.84        74\n",
      "           1       0.70      0.84      0.76        19\n",
      "           2       0.80      0.96      0.87        50\n",
      "           3       0.73      0.78      0.76       105\n",
      "           4       0.89      0.82      0.85       106\n",
      "           5       0.78      0.68      0.73       130\n",
      "           6       0.88      0.94      0.91        16\n",
      "\n",
      "    accuracy                           0.80       500\n",
      "   macro avg       0.80      0.84      0.82       500\n",
      "weighted avg       0.80      0.80      0.80       500\n",
      "\n",
      "Accuracy : 80.000\n",
      "F1 Score: 0.799\n",
      "Confusion Matrix: \n",
      "[[63  0  3  2  2  3  1]\n",
      " [ 0 16  0  1  0  2  0]\n",
      " [ 0  0 48  2  0  0  0]\n",
      " [ 4  2  3 82  3 10  1]\n",
      " [ 0  2  1  7 87  9  0]\n",
      " [ 9  3  5 18  6 89  0]\n",
      " [ 0  0  0  0  0  1 15]]\n"
     ]
    },
    {
     "data": {
      "text/plain": [
       "0.7988413552946779"
      ]
     },
     "execution_count": 168,
     "metadata": {},
     "output_type": "execute_result"
    }
   ],
   "source": [
    "accuracy_report(y_return[0], y_return[1])"
   ]
  },
  {
   "cell_type": "markdown",
   "metadata": {},
   "source": [
    "##### 4.1.10. Label encoding for `class2`"
   ]
  },
  {
   "cell_type": "code",
   "execution_count": 41,
   "metadata": {},
   "outputs": [],
   "source": [
    "le = LabelEncoder()\n",
    "\n",
    "x_encoded = np.concatenate(\n",
    "    (\n",
    "        tfidf_vectorize(df['lemmatized']), \n",
    "        tfidf_vectorize(df['pos_tagged']), \n",
    "        tfidf_vectorize(df['headwords']), \n",
    "        tfidf_vectorize(df['headwords_synonyms']), \n",
    "        tfidf_vectorize(df['named_entities'])\n",
    "    )\n",
    ", axis=1)\n",
    "y_encoded = le.fit_transform(df['class2'])"
   ]
  },
  {
   "cell_type": "markdown",
   "metadata": {},
   "source": [
    "##### 4.1.11. Results for `class2` -  All 5 features"
   ]
  },
  {
   "cell_type": "code",
   "execution_count": 42,
   "metadata": {},
   "outputs": [
    {
     "name": "stdout",
     "output_type": "stream",
     "text": [
      "Fold: 1 - Accuracy:  - 61.00\n",
      "Fold: 2 - Accuracy:  - 59.40\n",
      "Fold: 3 - Accuracy:  - 61.20\n",
      "Fold: 4 - Accuracy:  - 59.60\n",
      "Fold: 5 - Accuracy:  - 58.80\n",
      "Fold: 6 - Accuracy:  - 59.00\n",
      "Fold: 7 - Accuracy:  - 59.40\n",
      "Fold: 8 - Accuracy:  - 61.20\n",
      "Fold: 9 - Accuracy:  - 60.40\n",
      "Fold: 10 - Accuracy:  - 61.20\n",
      "Mean 60.12 Standard Deviation 0.93\n"
     ]
    }
   ],
   "source": [
    "start = time.time()\n",
    "y_return = calculate_accuracy(x_encoded, y_encoded)\n",
    "print(f'Time: {time.time() - start} seconds')"
   ]
  },
  {
   "cell_type": "code",
   "execution_count": 43,
   "metadata": {},
   "outputs": [
    {
     "name": "stdout",
     "output_type": "stream",
     "text": [
      "              precision    recall  f1-score   support\n",
      "\n",
      "           0       1.00      0.67      0.80         3\n",
      "           2       0.62      1.00      0.77         5\n",
      "           4       0.75      0.81      0.78        37\n",
      "           5       0.76      0.70      0.73        23\n",
      "           6       0.80      1.00      0.89         4\n",
      "           7       0.00      0.00      0.00         3\n",
      "           8       0.62      0.56      0.59         9\n",
      "           9       0.00      0.00      0.00         0\n",
      "          10       0.00      0.00      0.00         2\n",
      "          11       0.57      0.80      0.67         5\n",
      "          12       0.00      0.00      0.00         2\n",
      "          13       0.00      0.00      0.00         1\n",
      "          14       0.77      0.63      0.69        27\n",
      "          15       0.62      1.00      0.77        10\n",
      "          16       0.00      0.00      0.00         2\n",
      "          17       0.00      0.00      0.00         0\n",
      "          18       1.00      1.00      1.00         1\n",
      "          19       0.25      0.33      0.29         3\n",
      "          20       0.25      1.00      0.40         1\n",
      "          21       0.25      0.29      0.27         7\n",
      "          22       0.33      0.50      0.40         4\n",
      "          23       0.33      0.33      0.33         9\n",
      "          24       0.25      0.50      0.33         2\n",
      "          25       0.93      1.00      0.96        13\n",
      "          26       1.00      1.00      1.00         2\n",
      "          27       0.33      0.40      0.36        10\n",
      "          28       0.00      0.00      0.00         0\n",
      "          29       1.00      1.00      1.00         1\n",
      "          30       0.75      1.00      0.86         3\n",
      "          31       0.00      0.00      0.00         0\n",
      "          32       0.43      0.24      0.31        25\n",
      "          33       0.60      0.75      0.67         4\n",
      "          35       0.20      0.33      0.25         3\n",
      "          36       0.71      1.00      0.83         5\n",
      "          37       0.87      0.87      0.87        15\n",
      "          38       0.62      0.71      0.67         7\n",
      "          39       0.33      0.50      0.40         2\n",
      "          40       0.67      0.75      0.71         8\n",
      "          41       0.88      0.58      0.70        12\n",
      "          42       0.60      0.75      0.67         4\n",
      "          43       0.00      0.00      0.00         0\n",
      "          44       0.00      0.00      0.00         0\n",
      "          46       0.65      0.50      0.57        30\n",
      "          47       0.87      0.81      0.84        16\n",
      "          48       0.50      0.75      0.60         8\n",
      "          49       0.80      0.75      0.77        16\n",
      "          50       1.00      1.00      1.00         2\n",
      "          51       0.29      0.67      0.40         3\n",
      "          52       0.00      0.00      0.00         1\n",
      "          53       0.24      0.25      0.24        16\n",
      "          54       0.50      0.39      0.44        18\n",
      "          55       0.72      0.51      0.60        77\n",
      "          56       0.50      0.33      0.40         3\n",
      "          57       0.64      0.73      0.68        22\n",
      "          58       1.00      1.00      1.00         1\n",
      "          60       0.64      1.00      0.78         9\n",
      "          62       0.67      0.50      0.57         4\n",
      "\n",
      "    accuracy                           0.61       500\n",
      "   macro avg       0.49      0.55      0.51       500\n",
      "weighted avg       0.64      0.61      0.61       500\n",
      "\n",
      "Accuracy : 61.200\n",
      "F1 Score: 0.614\n",
      "Confusion Matrix: \n",
      "[[ 2  0  1 ...  0  0  0]\n",
      " [ 0  5  0 ...  0  0  0]\n",
      " [ 0  0 30 ...  0  0  0]\n",
      " ...\n",
      " [ 0  0  0 ...  1  0  0]\n",
      " [ 0  0  0 ...  0  9  0]\n",
      " [ 0  0  0 ...  0  2  2]]\n"
     ]
    },
    {
     "name": "stderr",
     "output_type": "stream",
     "text": [
      "/home/singhabahu/anaconda3/envs/python38test/lib/python3.8/site-packages/sklearn/metrics/_classification.py:1221: UndefinedMetricWarning: Precision and F-score are ill-defined and being set to 0.0 in labels with no predicted samples. Use `zero_division` parameter to control this behavior.\n",
      "  _warn_prf(average, modifier, msg_start, len(result))\n",
      "/home/singhabahu/anaconda3/envs/python38test/lib/python3.8/site-packages/sklearn/metrics/_classification.py:1221: UndefinedMetricWarning: Recall and F-score are ill-defined and being set to 0.0 in labels with no true samples. Use `zero_division` parameter to control this behavior.\n",
      "  _warn_prf(average, modifier, msg_start, len(result))\n"
     ]
    },
    {
     "data": {
      "text/plain": [
       "0.6137680787439387"
      ]
     },
     "execution_count": 43,
     "metadata": {},
     "output_type": "execute_result"
    }
   ],
   "source": [
    "accuracy_report(y_return[0], y_return[1])"
   ]
  },
  {
   "cell_type": "markdown",
   "metadata": {},
   "source": [
    "##### 4.1.12. Results for `class1` - without `named_entities` feature (it results in records having NULL"
   ]
  },
  {
   "cell_type": "code",
   "execution_count": 45,
   "metadata": {},
   "outputs": [],
   "source": [
    "le = LabelEncoder()\n",
    "\n",
    "x_encoded_opt_ner = np.concatenate(\n",
    "    (\n",
    "        tfidf_vectorize(df['lemmatized']), \n",
    "        tfidf_vectorize(df['pos_tagged']), \n",
    "        tfidf_vectorize(df['headwords']), \n",
    "        tfidf_vectorize(df['headwords_synonyms']), \n",
    "    )\n",
    ", axis=1)\n",
    "x_encoded_opt_ner = le.fit_transform(df['class1'])"
   ]
  },
  {
   "cell_type": "code",
   "execution_count": 46,
   "metadata": {},
   "outputs": [
    {
     "ename": "KeyboardInterrupt",
     "evalue": "",
     "output_type": "error",
     "traceback": [
      "\u001b[0;31m---------------------------------------------------------------------------\u001b[0m",
      "\u001b[0;31mKeyboardInterrupt\u001b[0m                         Traceback (most recent call last)",
      "\u001b[0;32m<ipython-input-46-fca61f3c09e7>\u001b[0m in \u001b[0;36m<module>\u001b[0;34m\u001b[0m\n\u001b[1;32m      1\u001b[0m \u001b[0mstart\u001b[0m \u001b[0;34m=\u001b[0m \u001b[0mtime\u001b[0m\u001b[0;34m.\u001b[0m\u001b[0mtime\u001b[0m\u001b[0;34m(\u001b[0m\u001b[0;34m)\u001b[0m\u001b[0;34m\u001b[0m\u001b[0;34m\u001b[0m\u001b[0m\n\u001b[0;32m----> 2\u001b[0;31m \u001b[0my_return\u001b[0m \u001b[0;34m=\u001b[0m \u001b[0mcalculate_accuracy\u001b[0m\u001b[0;34m(\u001b[0m\u001b[0mx_encoded\u001b[0m\u001b[0;34m,\u001b[0m \u001b[0my_encoded\u001b[0m\u001b[0;34m)\u001b[0m\u001b[0;34m\u001b[0m\u001b[0;34m\u001b[0m\u001b[0m\n\u001b[0m\u001b[1;32m      3\u001b[0m \u001b[0mprint\u001b[0m\u001b[0;34m(\u001b[0m\u001b[0;34mf'Time: {time.time() - start} seconds'\u001b[0m\u001b[0;34m)\u001b[0m\u001b[0;34m\u001b[0m\u001b[0;34m\u001b[0m\u001b[0m\n",
      "\u001b[0;32m<ipython-input-40-ffcc8bdb9c3e>\u001b[0m in \u001b[0;36mcalculate_accuracy\u001b[0;34m(encoded_x, encoded_y)\u001b[0m\n\u001b[1;32m      8\u001b[0m       \u001b[0my_train\u001b[0m\u001b[0;34m,\u001b[0m \u001b[0my_test\u001b[0m \u001b[0;34m=\u001b[0m \u001b[0mencoded_y\u001b[0m\u001b[0;34m[\u001b[0m\u001b[0mtrain_index\u001b[0m\u001b[0;34m]\u001b[0m\u001b[0;34m,\u001b[0m \u001b[0mencoded_y\u001b[0m\u001b[0;34m[\u001b[0m\u001b[0mtest_index\u001b[0m\u001b[0;34m]\u001b[0m\u001b[0;34m\u001b[0m\u001b[0;34m\u001b[0m\u001b[0m\n\u001b[1;32m      9\u001b[0m       \u001b[0mSVM\u001b[0m \u001b[0;34m=\u001b[0m \u001b[0mSVC\u001b[0m\u001b[0;34m(\u001b[0m\u001b[0mC\u001b[0m\u001b[0;34m=\u001b[0m\u001b[0;36m1.0\u001b[0m\u001b[0;34m,\u001b[0m \u001b[0mkernel\u001b[0m\u001b[0;34m=\u001b[0m\u001b[0;34m'linear'\u001b[0m\u001b[0;34m,\u001b[0m \u001b[0mdegree\u001b[0m\u001b[0;34m=\u001b[0m\u001b[0;36m3\u001b[0m\u001b[0;34m,\u001b[0m \u001b[0mgamma\u001b[0m\u001b[0;34m=\u001b[0m\u001b[0;34m'auto'\u001b[0m\u001b[0;34m)\u001b[0m\u001b[0;34m\u001b[0m\u001b[0;34m\u001b[0m\u001b[0m\n\u001b[0;32m---> 10\u001b[0;31m       \u001b[0mSVM\u001b[0m\u001b[0;34m.\u001b[0m\u001b[0mfit\u001b[0m\u001b[0;34m(\u001b[0m\u001b[0mX_train\u001b[0m\u001b[0;34m,\u001b[0m\u001b[0my_train\u001b[0m\u001b[0;34m)\u001b[0m\u001b[0;34m\u001b[0m\u001b[0;34m\u001b[0m\u001b[0m\n\u001b[0m\u001b[1;32m     11\u001b[0m       \u001b[0mpredictions\u001b[0m \u001b[0;34m=\u001b[0m \u001b[0mSVM\u001b[0m\u001b[0;34m.\u001b[0m\u001b[0mpredict\u001b[0m\u001b[0;34m(\u001b[0m\u001b[0mX_test\u001b[0m\u001b[0;34m)\u001b[0m\u001b[0;34m\u001b[0m\u001b[0;34m\u001b[0m\u001b[0m\n\u001b[1;32m     12\u001b[0m       \u001b[0macc\u001b[0m \u001b[0;34m=\u001b[0m \u001b[0maccuracy_score\u001b[0m\u001b[0;34m(\u001b[0m\u001b[0mpredictions\u001b[0m\u001b[0;34m,\u001b[0m \u001b[0my_test\u001b[0m\u001b[0;34m)\u001b[0m\u001b[0;34m*\u001b[0m\u001b[0;36m100\u001b[0m\u001b[0;34m\u001b[0m\u001b[0;34m\u001b[0m\u001b[0m\n",
      "\u001b[0;32m~/anaconda3/envs/python38test/lib/python3.8/site-packages/sklearn/svm/_base.py\u001b[0m in \u001b[0;36mfit\u001b[0;34m(self, X, y, sample_weight)\u001b[0m\n\u001b[1;32m    215\u001b[0m \u001b[0;34m\u001b[0m\u001b[0m\n\u001b[1;32m    216\u001b[0m         \u001b[0mseed\u001b[0m \u001b[0;34m=\u001b[0m \u001b[0mrnd\u001b[0m\u001b[0;34m.\u001b[0m\u001b[0mrandint\u001b[0m\u001b[0;34m(\u001b[0m\u001b[0mnp\u001b[0m\u001b[0;34m.\u001b[0m\u001b[0miinfo\u001b[0m\u001b[0;34m(\u001b[0m\u001b[0;34m'i'\u001b[0m\u001b[0;34m)\u001b[0m\u001b[0;34m.\u001b[0m\u001b[0mmax\u001b[0m\u001b[0;34m)\u001b[0m\u001b[0;34m\u001b[0m\u001b[0;34m\u001b[0m\u001b[0m\n\u001b[0;32m--> 217\u001b[0;31m         \u001b[0mfit\u001b[0m\u001b[0;34m(\u001b[0m\u001b[0mX\u001b[0m\u001b[0;34m,\u001b[0m \u001b[0my\u001b[0m\u001b[0;34m,\u001b[0m \u001b[0msample_weight\u001b[0m\u001b[0;34m,\u001b[0m \u001b[0msolver_type\u001b[0m\u001b[0;34m,\u001b[0m \u001b[0mkernel\u001b[0m\u001b[0;34m,\u001b[0m \u001b[0mrandom_seed\u001b[0m\u001b[0;34m=\u001b[0m\u001b[0mseed\u001b[0m\u001b[0;34m)\u001b[0m\u001b[0;34m\u001b[0m\u001b[0;34m\u001b[0m\u001b[0m\n\u001b[0m\u001b[1;32m    218\u001b[0m         \u001b[0;31m# see comment on the other call to np.iinfo in this file\u001b[0m\u001b[0;34m\u001b[0m\u001b[0;34m\u001b[0m\u001b[0;34m\u001b[0m\u001b[0m\n\u001b[1;32m    219\u001b[0m \u001b[0;34m\u001b[0m\u001b[0m\n",
      "\u001b[0;32m~/anaconda3/envs/python38test/lib/python3.8/site-packages/sklearn/svm/_base.py\u001b[0m in \u001b[0;36m_dense_fit\u001b[0;34m(self, X, y, sample_weight, solver_type, kernel, random_seed)\u001b[0m\n\u001b[1;32m    266\u001b[0m         \u001b[0mself\u001b[0m\u001b[0;34m.\u001b[0m\u001b[0msupport_\u001b[0m\u001b[0;34m,\u001b[0m \u001b[0mself\u001b[0m\u001b[0;34m.\u001b[0m\u001b[0msupport_vectors_\u001b[0m\u001b[0;34m,\u001b[0m \u001b[0mself\u001b[0m\u001b[0;34m.\u001b[0m\u001b[0m_n_support\u001b[0m\u001b[0;34m,\u001b[0m\u001b[0;31m \u001b[0m\u001b[0;31m\\\u001b[0m\u001b[0;34m\u001b[0m\u001b[0;34m\u001b[0m\u001b[0m\n\u001b[1;32m    267\u001b[0m             \u001b[0mself\u001b[0m\u001b[0;34m.\u001b[0m\u001b[0mdual_coef_\u001b[0m\u001b[0;34m,\u001b[0m \u001b[0mself\u001b[0m\u001b[0;34m.\u001b[0m\u001b[0mintercept_\u001b[0m\u001b[0;34m,\u001b[0m \u001b[0mself\u001b[0m\u001b[0;34m.\u001b[0m\u001b[0m_probA\u001b[0m\u001b[0;34m,\u001b[0m\u001b[0;31m \u001b[0m\u001b[0;31m\\\u001b[0m\u001b[0;34m\u001b[0m\u001b[0;34m\u001b[0m\u001b[0m\n\u001b[0;32m--> 268\u001b[0;31m             self._probB, self.fit_status_ = libsvm.fit(\n\u001b[0m\u001b[1;32m    269\u001b[0m                 \u001b[0mX\u001b[0m\u001b[0;34m,\u001b[0m \u001b[0my\u001b[0m\u001b[0;34m,\u001b[0m\u001b[0;34m\u001b[0m\u001b[0;34m\u001b[0m\u001b[0m\n\u001b[1;32m    270\u001b[0m                 \u001b[0msvm_type\u001b[0m\u001b[0;34m=\u001b[0m\u001b[0msolver_type\u001b[0m\u001b[0;34m,\u001b[0m \u001b[0msample_weight\u001b[0m\u001b[0;34m=\u001b[0m\u001b[0msample_weight\u001b[0m\u001b[0;34m,\u001b[0m\u001b[0;34m\u001b[0m\u001b[0;34m\u001b[0m\u001b[0m\n",
      "\u001b[0;31mKeyboardInterrupt\u001b[0m: "
     ]
    }
   ],
   "source": [
    "start = time.time()\n",
    "y_return = calculate_accuracy(x_encoded, y_encoded)\n",
    "print(f'Time: {time.time() - start} seconds')"
   ]
  },
  {
   "cell_type": "code",
   "execution_count": null,
   "metadata": {},
   "outputs": [],
   "source": [
    "accuracy_report(y_return[0], y_return[1])"
   ]
  },
  {
   "cell_type": "markdown",
   "metadata": {},
   "source": [
    "##### 4.1.13. Results for `class1` - BoW Feature only"
   ]
  },
  {
   "cell_type": "code",
   "execution_count": 47,
   "metadata": {},
   "outputs": [],
   "source": [
    "le = LabelEncoder()\n",
    "\n",
    "x_encoded = tfidf_vectorize(df['lemmatized'])\n",
    "y_encoded = le.fit_transform(df['class1'])"
   ]
  },
  {
   "cell_type": "code",
   "execution_count": 48,
   "metadata": {},
   "outputs": [
    {
     "name": "stdout",
     "output_type": "stream",
     "text": [
      "Fold: 1 - Accuracy:  - 82.80\n",
      "Fold: 2 - Accuracy:  - 81.40\n",
      "Fold: 3 - Accuracy:  - 78.80\n",
      "Fold: 4 - Accuracy:  - 79.60\n",
      "Fold: 5 - Accuracy:  - 80.20\n",
      "Fold: 6 - Accuracy:  - 79.80\n",
      "Fold: 7 - Accuracy:  - 82.00\n",
      "Fold: 8 - Accuracy:  - 81.20\n",
      "Fold: 9 - Accuracy:  - 81.00\n",
      "Fold: 10 - Accuracy:  - 80.80\n",
      "Mean 80.76 Standard Deviation 1.13\n",
      "Time: 414.49974274635315 seconds\n"
     ]
    }
   ],
   "source": [
    "start = time.time()\n",
    "y_return = calculate_accuracy(x_encoded, y_encoded)\n",
    "print(f'Time: {time.time() - start} seconds')"
   ]
  },
  {
   "cell_type": "code",
   "execution_count": 49,
   "metadata": {},
   "outputs": [
    {
     "name": "stdout",
     "output_type": "stream",
     "text": [
      "              precision    recall  f1-score   support\n",
      "\n",
      "           0       0.82      0.86      0.84        72\n",
      "           1       0.65      0.94      0.77        16\n",
      "           2       0.82      0.94      0.87        52\n",
      "           3       0.73      0.79      0.76       104\n",
      "           4       0.91      0.82      0.86       109\n",
      "           5       0.82      0.70      0.75       133\n",
      "           6       0.82      1.00      0.90        14\n",
      "\n",
      "    accuracy                           0.81       500\n",
      "   macro avg       0.79      0.86      0.82       500\n",
      "weighted avg       0.81      0.81      0.81       500\n",
      "\n",
      "Accuracy : 80.800\n",
      "F1 Score: 0.807\n",
      "Confusion Matrix: \n",
      "[[62  0  3  2  1  4  0]\n",
      " [ 0 15  0  0  0  1  0]\n",
      " [ 1  0 49  2  0  0  0]\n",
      " [ 3  1  4 82  4 10  0]\n",
      " [ 1  3  1  8 89  6  1]\n",
      " [ 9  4  3 18  4 93  2]\n",
      " [ 0  0  0  0  0  0 14]]\n"
     ]
    },
    {
     "data": {
      "text/plain": [
       "0.8072469112763643"
      ]
     },
     "execution_count": 49,
     "metadata": {},
     "output_type": "execute_result"
    }
   ],
   "source": [
    "accuracy_report(y_return[0], y_return[1])"
   ]
  },
  {
   "cell_type": "markdown",
   "metadata": {},
   "source": [
    "##### 4.1.13. Results for `class2` - BoW Feature only"
   ]
  },
  {
   "cell_type": "code",
   "execution_count": 50,
   "metadata": {},
   "outputs": [],
   "source": [
    "le = LabelEncoder()\n",
    "\n",
    "x_encoded = tfidf_vectorize(df['lemmatized'])\n",
    "y_encoded = le.fit_transform(df['class2'])"
   ]
  },
  {
   "cell_type": "code",
   "execution_count": 51,
   "metadata": {},
   "outputs": [
    {
     "name": "stdout",
     "output_type": "stream",
     "text": [
      "Fold: 1 - Accuracy:  - 64.20\n",
      "Fold: 2 - Accuracy:  - 66.80\n",
      "Fold: 3 - Accuracy:  - 65.00\n",
      "Fold: 4 - Accuracy:  - 64.80\n",
      "Fold: 5 - Accuracy:  - 65.80\n",
      "Fold: 6 - Accuracy:  - 66.80\n",
      "Fold: 7 - Accuracy:  - 64.60\n",
      "Fold: 8 - Accuracy:  - 67.60\n",
      "Fold: 9 - Accuracy:  - 64.80\n",
      "Fold: 10 - Accuracy:  - 65.40\n",
      "Mean 65.58 Standard Deviation 1.07\n",
      "Time: 776.4438247680664 seconds\n"
     ]
    }
   ],
   "source": [
    "start = time.time()\n",
    "y_return = calculate_accuracy(x_encoded, y_encoded)\n",
    "print(f'Time: {time.time() - start} seconds')"
   ]
  },
  {
   "cell_type": "code",
   "execution_count": 52,
   "metadata": {},
   "outputs": [
    {
     "name": "stdout",
     "output_type": "stream",
     "text": [
      "              precision    recall  f1-score   support\n",
      "\n",
      "           0       1.00      1.00      1.00         2\n",
      "           2       0.62      1.00      0.77         5\n",
      "           4       0.72      0.83      0.77        35\n",
      "           5       0.81      0.71      0.76        24\n",
      "           6       0.80      1.00      0.89         4\n",
      "           7       0.00      0.00      0.00         2\n",
      "           8       0.62      0.83      0.71         6\n",
      "           9       0.00      0.00      0.00         0\n",
      "          10       0.00      0.00      0.00         0\n",
      "          11       0.86      1.00      0.92         6\n",
      "          12       0.00      0.00      0.00         1\n",
      "          13       0.00      0.00      0.00         1\n",
      "          14       0.82      0.67      0.73        27\n",
      "          15       0.81      1.00      0.90        13\n",
      "          16       0.00      0.00      0.00         4\n",
      "          17       0.00      0.00      0.00         0\n",
      "          18       1.00      1.00      1.00         1\n",
      "          19       0.25      1.00      0.40         1\n",
      "          20       0.25      1.00      0.40         1\n",
      "          21       0.00      0.00      0.00         1\n",
      "          22       0.50      0.50      0.50         6\n",
      "          23       0.44      0.67      0.53         6\n",
      "          24       0.25      0.50      0.33         2\n",
      "          25       1.00      1.00      1.00        14\n",
      "          26       1.00      1.00      1.00         2\n",
      "          27       0.42      1.00      0.59         5\n",
      "          28       0.00      0.00      0.00         0\n",
      "          29       1.00      1.00      1.00         1\n",
      "          30       1.00      1.00      1.00         4\n",
      "          31       0.00      0.00      0.00         0\n",
      "          32       0.43      0.55      0.48        11\n",
      "          33       1.00      0.71      0.83         7\n",
      "          35       0.20      0.25      0.22         4\n",
      "          36       0.86      1.00      0.92         6\n",
      "          37       0.80      0.80      0.80        15\n",
      "          38       0.88      0.88      0.88         8\n",
      "          39       0.33      0.50      0.40         2\n",
      "          40       0.56      0.83      0.67         6\n",
      "          41       0.75      0.55      0.63        11\n",
      "          42       0.80      0.57      0.67         7\n",
      "          43       0.00      0.00      0.00         0\n",
      "          44       0.00      0.00      0.00         0\n",
      "          46       0.65      0.54      0.59        28\n",
      "          47       0.93      0.82      0.87        17\n",
      "          48       0.50      0.60      0.55        10\n",
      "          49       0.93      0.82      0.87        17\n",
      "          50       1.00      1.00      1.00         2\n",
      "          51       0.57      0.67      0.62         6\n",
      "          52       0.00      0.00      0.00         0\n",
      "          53       0.18      0.27      0.21        11\n",
      "          54       0.64      0.64      0.64        14\n",
      "          55       0.83      0.41      0.55       109\n",
      "          56       0.50      1.00      0.67         1\n",
      "          57       0.52      0.68      0.59        19\n",
      "          58       1.00      1.00      1.00         1\n",
      "          60       0.71      0.91      0.80        11\n",
      "          62       0.33      0.33      0.33         3\n",
      "\n",
      "    accuracy                           0.65       500\n",
      "   macro avg       0.53      0.60      0.54       500\n",
      "weighted avg       0.72      0.65      0.67       500\n",
      "\n",
      "Accuracy : 65.400\n",
      "F1 Score: 0.666\n",
      "Confusion Matrix: \n",
      "[[ 2  0  0 ...  0  0  0]\n",
      " [ 0  5  0 ...  0  0  0]\n",
      " [ 0  0 29 ...  0  0  0]\n",
      " ...\n",
      " [ 0  0  0 ...  1  0  0]\n",
      " [ 0  0  0 ...  0 10  1]\n",
      " [ 0  0  0 ...  0  2  1]]\n"
     ]
    },
    {
     "name": "stderr",
     "output_type": "stream",
     "text": [
      "/home/singhabahu/anaconda3/envs/python38test/lib/python3.8/site-packages/sklearn/metrics/_classification.py:1221: UndefinedMetricWarning: Precision and F-score are ill-defined and being set to 0.0 in labels with no predicted samples. Use `zero_division` parameter to control this behavior.\n",
      "  _warn_prf(average, modifier, msg_start, len(result))\n",
      "/home/singhabahu/anaconda3/envs/python38test/lib/python3.8/site-packages/sklearn/metrics/_classification.py:1221: UndefinedMetricWarning: Recall and F-score are ill-defined and being set to 0.0 in labels with no true samples. Use `zero_division` parameter to control this behavior.\n",
      "  _warn_prf(average, modifier, msg_start, len(result))\n"
     ]
    },
    {
     "data": {
      "text/plain": [
       "0.666165854064396"
      ]
     },
     "execution_count": 52,
     "metadata": {},
     "output_type": "execute_result"
    }
   ],
   "source": [
    "accuracy_report(y_return[0], y_return[1])"
   ]
  },
  {
   "cell_type": "markdown",
   "metadata": {},
   "source": [
    "### 4.2. SVM Classifier with ‘fastText’ word embedding"
   ]
  },
  {
   "cell_type": "markdown",
   "metadata": {},
   "source": [
    "###### To install fasttext: `pip install fasttext` or"
   ]
  },
  {
   "cell_type": "markdown",
   "metadata": {},
   "source": [
    "###### To install fasttext: `conda install -c conda-forge fasttext`"
   ]
  },
  {
   "cell_type": "markdown",
   "metadata": {},
   "source": [
    "###### Download fasttext model"
   ]
  },
  {
   "cell_type": "code",
   "execution_count": 53,
   "metadata": {},
   "outputs": [],
   "source": [
    "# THIS IS ALREADY DOWNLOADED ONCE. HENCE, IT IS SKIPPED AS FOLLOWS.\n",
    "if False:\n",
    "    fasttext.util.download_model('en', if_exists='ignore')"
   ]
  },
  {
   "cell_type": "code",
   "execution_count": 56,
   "metadata": {},
   "outputs": [
    {
     "name": "stderr",
     "output_type": "stream",
     "text": [
      "Warning : `load_model` does not return WordVectorModel or SupervisedModel any more, but a `FastText` object which is very similar.\n"
     ]
    },
    {
     "data": {
      "text/plain": [
       "300"
      ]
     },
     "execution_count": 56,
     "metadata": {},
     "output_type": "execute_result"
    }
   ],
   "source": [
    "ft = fasttext.load_model('cc.en.300.bin')\n",
    "ft.get_dimension()"
   ]
  },
  {
   "cell_type": "code",
   "execution_count": 57,
   "metadata": {},
   "outputs": [],
   "source": [
    "def tokenize(text):\n",
    "    temp = nlp(text)\n",
    "    return [str(token) for token in temp if not token.is_stop]\n",
    "\n",
    "tokenized = [tokenize(text) for text in df.lemmatized]"
   ]
  },
  {
   "cell_type": "code",
   "execution_count": 58,
   "metadata": {},
   "outputs": [],
   "source": [
    "def get_sentence_embedding(wordlist):\n",
    "  embedding=ft.get_sentence_vector(wordlist)\n",
    "  return embedding\n",
    "  \n",
    "embeddings = [np.mean(np.array(list(map(get_sentence_embedding,token))),axis=0) for token in tokenized]\n",
    "\n",
    "x_encoded = np.array(embeddings)\n",
    "x_encoded.shape\n",
    "\n",
    "from sklearn.preprocessing import LabelEncoder\n",
    "le = LabelEncoder()\n",
    "\n",
    "y_encoded_1 = le.fit_transform(df['class1'])\n",
    "y_encoded_2 = le.fit_transform(df['class2'])"
   ]
  },
  {
   "cell_type": "markdown",
   "metadata": {},
   "source": [
    "##### 4.2.1. Results for both classes `class1` and `class2`"
   ]
  },
  {
   "cell_type": "code",
   "execution_count": 59,
   "metadata": {},
   "outputs": [
    {
     "name": "stdout",
     "output_type": "stream",
     "text": [
      "Fold: 1 - Accuracy:  - 78.80\n",
      "Fold: 2 - Accuracy:  - 77.40\n",
      "Fold: 3 - Accuracy:  - 77.40\n",
      "Fold: 4 - Accuracy:  - 77.40\n",
      "Fold: 5 - Accuracy:  - 78.60\n",
      "Fold: 6 - Accuracy:  - 78.00\n",
      "Fold: 7 - Accuracy:  - 76.60\n",
      "Fold: 8 - Accuracy:  - 79.80\n",
      "Fold: 9 - Accuracy:  - 78.20\n",
      "Fold: 10 - Accuracy:  - 79.60\n",
      "Mean 78.18 Standard Deviation 0.98\n",
      "Time: 63.84031057357788 seconds\n"
     ]
    }
   ],
   "source": [
    "start = time.time()\n",
    "y_return_1 = calculate_accuracy(x_encoded, y_encoded_1)\n",
    "print(f'Time: {time.time() - start} seconds')"
   ]
  },
  {
   "cell_type": "code",
   "execution_count": 60,
   "metadata": {},
   "outputs": [
    {
     "name": "stdout",
     "output_type": "stream",
     "text": [
      "              precision    recall  f1-score   support\n",
      "\n",
      "           0       0.82      0.87      0.84        71\n",
      "           1       0.35      0.80      0.48        10\n",
      "           2       0.82      0.94      0.87        52\n",
      "           3       0.75      0.79      0.77       107\n",
      "           4       0.88      0.87      0.87        99\n",
      "           5       0.83      0.65      0.73       147\n",
      "           6       0.82      1.00      0.90        14\n",
      "\n",
      "    accuracy                           0.80       500\n",
      "   macro avg       0.75      0.85      0.78       500\n",
      "weighted avg       0.81      0.80      0.80       500\n",
      "\n",
      "Accuracy : 79.600\n",
      "F1 Score: 0.797\n",
      "Confusion Matrix: \n",
      "[[62  0  1  2  2  3  1]\n",
      " [ 0  8  1  0  1  0  0]\n",
      " [ 1  1 49  0  0  1  0]\n",
      " [ 6  2  2 84  3  9  1]\n",
      " [ 0  1  1  5 86  6  0]\n",
      " [ 7 11  6 21  6 95  1]\n",
      " [ 0  0  0  0  0  0 14]]\n"
     ]
    },
    {
     "data": {
      "text/plain": [
       "0.7968300737168763"
      ]
     },
     "execution_count": 60,
     "metadata": {},
     "output_type": "execute_result"
    }
   ],
   "source": [
    "accuracy_report(y_return_1[0], y_return_1[1])"
   ]
  },
  {
   "cell_type": "code",
   "execution_count": 61,
   "metadata": {},
   "outputs": [
    {
     "name": "stdout",
     "output_type": "stream",
     "text": [
      "Fold: 1 - Accuracy:  - 57.60\n",
      "Fold: 2 - Accuracy:  - 55.80\n",
      "Fold: 3 - Accuracy:  - 56.40\n",
      "Fold: 4 - Accuracy:  - 53.60\n",
      "Fold: 5 - Accuracy:  - 54.80\n",
      "Fold: 6 - Accuracy:  - 55.80\n",
      "Fold: 7 - Accuracy:  - 53.80\n",
      "Fold: 8 - Accuracy:  - 57.20\n",
      "Fold: 9 - Accuracy:  - 56.00\n",
      "Fold: 10 - Accuracy:  - 54.80\n",
      "Mean 55.58 Standard Deviation 1.26\n",
      "Time: 125.79759621620178 seconds\n"
     ]
    }
   ],
   "source": [
    "start = time.time()\n",
    "y_return_2 = calculate_accuracy(x_encoded, y_encoded_2)\n",
    "print(f'Time: {time.time() - start} seconds')"
   ]
  },
  {
   "cell_type": "code",
   "execution_count": 62,
   "metadata": {},
   "outputs": [
    {
     "name": "stdout",
     "output_type": "stream",
     "text": [
      "              precision    recall  f1-score   support\n",
      "\n",
      "           0       0.00      0.00      0.00         0\n",
      "           2       0.00      0.00      0.00         0\n",
      "           4       0.72      0.64      0.68        45\n",
      "           5       0.52      0.58      0.55        19\n",
      "           6       0.60      1.00      0.75         3\n",
      "           7       0.00      0.00      0.00         1\n",
      "           8       0.38      1.00      0.55         3\n",
      "           9       0.00      0.00      0.00         0\n",
      "          10       0.00      0.00      0.00         0\n",
      "          11       0.00      0.00      0.00         1\n",
      "          12       0.00      0.00      0.00         0\n",
      "          14       0.77      0.49      0.60        35\n",
      "          15       0.50      1.00      0.67         8\n",
      "          16       0.00      0.00      0.00         0\n",
      "          17       0.00      0.00      0.00         0\n",
      "          18       1.00      1.00      1.00         1\n",
      "          19       0.00      0.00      0.00         0\n",
      "          20       0.00      0.00      0.00         0\n",
      "          21       0.00      0.00      0.00         0\n",
      "          22       0.33      1.00      0.50         2\n",
      "          23       0.22      0.50      0.31         4\n",
      "          24       0.25      1.00      0.40         1\n",
      "          25       0.93      1.00      0.96        13\n",
      "          26       0.50      1.00      0.67         1\n",
      "          27       0.25      0.60      0.35         5\n",
      "          28       0.00      0.00      0.00         0\n",
      "          29       0.00      0.00      0.00         0\n",
      "          30       0.50      1.00      0.67         2\n",
      "          31       0.00      0.00      0.00         0\n",
      "          32       0.36      0.62      0.45         8\n",
      "          33       0.00      0.00      0.00         0\n",
      "          35       0.20      0.33      0.25         3\n",
      "          36       1.00      1.00      1.00         7\n",
      "          37       0.80      0.71      0.75        17\n",
      "          38       0.75      0.86      0.80         7\n",
      "          39       0.00      0.00      0.00         0\n",
      "          40       0.33      0.75      0.46         4\n",
      "          41       0.75      0.86      0.80         7\n",
      "          42       0.80      0.50      0.62         8\n",
      "          43       0.00      0.00      0.00         0\n",
      "          44       0.00      0.00      0.00         0\n",
      "          46       0.65      0.43      0.52        35\n",
      "          47       0.87      0.72      0.79        18\n",
      "          48       0.42      0.83      0.56         6\n",
      "          49       0.80      0.80      0.80        15\n",
      "          50       0.00      0.00      0.00         0\n",
      "          51       0.71      1.00      0.83         5\n",
      "          52       0.00      0.00      0.00         0\n",
      "          53       0.12      0.40      0.18         5\n",
      "          54       0.57      0.40      0.47        20\n",
      "          55       0.93      0.32      0.48       156\n",
      "          56       0.00      0.00      0.00         0\n",
      "          57       0.48      0.63      0.55        19\n",
      "          58       0.00      0.00      0.00         0\n",
      "          60       0.86      0.75      0.80        16\n",
      "          62       0.00      0.00      0.00         0\n",
      "\n",
      "    accuracy                           0.55       500\n",
      "   macro avg       0.34      0.42      0.35       500\n",
      "weighted avg       0.74      0.55      0.59       500\n",
      "\n",
      "Accuracy : 54.800\n",
      "F1 Score: 0.586\n",
      "Confusion Matrix: \n",
      "[[ 0  0  0 ...  0  0  0]\n",
      " [ 0  0  0 ...  0  0  0]\n",
      " [ 2  1 29 ...  0  0  0]\n",
      " ...\n",
      " [ 0  0  0 ...  0  0  0]\n",
      " [ 0  0  0 ...  0 12  3]\n",
      " [ 0  0  0 ...  0  0  0]]\n"
     ]
    },
    {
     "name": "stderr",
     "output_type": "stream",
     "text": [
      "/home/singhabahu/anaconda3/envs/python38test/lib/python3.8/site-packages/sklearn/metrics/_classification.py:1221: UndefinedMetricWarning: Recall and F-score are ill-defined and being set to 0.0 in labels with no true samples. Use `zero_division` parameter to control this behavior.\n",
      "  _warn_prf(average, modifier, msg_start, len(result))\n"
     ]
    },
    {
     "data": {
      "text/plain": [
       "0.5856556661286672"
      ]
     },
     "execution_count": 62,
     "metadata": {},
     "output_type": "execute_result"
    }
   ],
   "source": [
    "accuracy_report(y_return_2[0], y_return_2[1])"
   ]
  },
  {
   "cell_type": "markdown",
   "metadata": {},
   "source": [
    "### 4.3. LSTM Text Classifier"
   ]
  },
  {
   "cell_type": "markdown",
   "metadata": {},
   "source": [
    "##### 4.3.1. Label Encoding for both classes `class1` and `class2`"
   ]
  },
  {
   "cell_type": "markdown",
   "metadata": {},
   "source": [
    "###### To install keras: `conda install -c conda-forge keras`"
   ]
  },
  {
   "cell_type": "code",
   "execution_count": 65,
   "metadata": {},
   "outputs": [],
   "source": [
    "from keras.models import Model\n",
    "from keras.layers import LSTM, Activation, Dense, Dropout, Input, Embedding\n",
    "from keras.optimizers import RMSprop\n",
    "from keras.preprocessing.text import Tokenizer\n",
    "from keras.preprocessing import sequence\n",
    "from keras.utils import to_categorical\n",
    "from keras.callbacks import EarlyStopping\n",
    "\n",
    "le = LabelEncoder()\n",
    "\n",
    "y_encoded_1 = le.fit_transform(df['class1'])\n",
    "y_encoded_2 = le.fit_transform(df['class2'])"
   ]
  },
  {
   "cell_type": "code",
   "execution_count": 68,
   "metadata": {},
   "outputs": [
    {
     "data": {
      "text/plain": [
       "(5000, 25)"
      ]
     },
     "execution_count": 68,
     "metadata": {},
     "output_type": "execute_result"
    }
   ],
   "source": [
    "max_words = 5000\n",
    "max_len = 25\n",
    "tok = Tokenizer(num_words=max_words, split=' ')\n",
    "tok.fit_on_texts(df['preprocessed_text'].values)\n",
    "seqs = tok.texts_to_sequences(df.lemmatized.values)\n",
    "seqs_mat = sequence.pad_sequences(seqs,maxlen=max_len)\n",
    "\n",
    "seqs_mat.shape"
   ]
  },
  {
   "cell_type": "markdown",
   "metadata": {},
   "source": [
    "##### 4.3.2. LSTM Network and Training"
   ]
  },
  {
   "cell_type": "code",
   "execution_count": 69,
   "metadata": {},
   "outputs": [],
   "source": [
    "from tensorflow.keras import Sequential\n",
    "from tensorflow.keras.layers import SpatialDropout1D\n",
    "\n",
    "def MODEL_LSTM(num_classes):\n",
    "    model = Sequential()\n",
    "    model.add(Embedding(5000, 160, input_length=seqs_mat.shape[1]))\n",
    "    model.add(SpatialDropout1D(0.2))\n",
    "    model.add(LSTM(196, dropout=0.2, recurrent_dropout=0.2))\n",
    "    model.add(Dense(num_classes, activation='softmax'))\n",
    "    model.compile(loss='categorical_crossentropy', optimizer='adam', metrics=['accuracy'])\n",
    "\n",
    "    return model"
   ]
  },
  {
   "cell_type": "code",
   "execution_count": 70,
   "metadata": {},
   "outputs": [
    {
     "data": {
      "text/plain": [
       "(5000, 7)"
      ]
     },
     "execution_count": 70,
     "metadata": {},
     "output_type": "execute_result"
    }
   ],
   "source": [
    "y_mat_1 = pd.get_dummies(df['class1']).values\n",
    "y_mat_1.shape"
   ]
  },
  {
   "cell_type": "code",
   "execution_count": 71,
   "metadata": {},
   "outputs": [
    {
     "data": {
      "text/plain": [
       "(5000, 63)"
      ]
     },
     "execution_count": 71,
     "metadata": {},
     "output_type": "execute_result"
    }
   ],
   "source": [
    "y_mat_2 = pd.get_dummies(df['class2']).values\n",
    "y_mat_2.shape"
   ]
  },
  {
   "cell_type": "code",
   "execution_count": 72,
   "metadata": {},
   "outputs": [],
   "source": [
    "from sklearn.model_selection import KFold\n",
    "from sklearn.model_selection import cross_val_score\n",
    "\n",
    "from sklearn.svm import SVC\n",
    "from sklearn.metrics import accuracy_score\n",
    "\n",
    "def evaluate_lstm(seqs, seqs_mat, y_mat, num_classes):\n",
    "  cv = KFold(n_splits=10, random_state=1, shuffle=True)\n",
    "  fold = 0\n",
    "  accuracies = []\n",
    "  for train_index, test_index in cv.split(seqs):\n",
    "    fold += 1\n",
    "    X_train, X_test = seqs_mat[train_index], seqs_mat[test_index]\n",
    "    y_train, y_test = y_mat[train_index], y_mat[test_index]\n",
    "\n",
    "    model = MODEL_LSTM(num_classes)\n",
    "    model.fit(X_train, y_train, epochs=5, batch_size=64,validation_split=0.1,callbacks=[EarlyStopping(monitor='val_loss', patience=3, min_delta=0.0001)])\n",
    "\n",
    "    predictions = model.predict(X_test)\n",
    "\n",
    "    fine_pred = [np.argmax(p) for p in predictions]\n",
    "    fine_gt = [np.argmax(p) for p in y_test]\n",
    "    f1 = accuracy_report(fine_pred, fine_gt)\n",
    "\n",
    "    accuracies.append(f1)\n",
    "    \n",
    "  print(\"Mean {:.2f} Std {:.2f}\".format(np.mean(accuracies), np.std(accuracies)))"
   ]
  },
  {
   "cell_type": "markdown",
   "metadata": {},
   "source": [
    "##### 4.3.3. Results of LSTM for both classes `class1` and `class2`"
   ]
  },
  {
   "cell_type": "code",
   "execution_count": 73,
   "metadata": {},
   "outputs": [
    {
     "name": "stdout",
     "output_type": "stream",
     "text": [
      "Epoch 1/5\n",
      "64/64 [==============================] - 26s 399ms/step - loss: 1.7222 - accuracy: 0.2916 - val_loss: 1.9206 - val_accuracy: 0.1244\n",
      "Epoch 2/5\n",
      "64/64 [==============================] - 30s 462ms/step - loss: 0.9687 - accuracy: 0.6933 - val_loss: 1.2897 - val_accuracy: 0.5556\n",
      "Epoch 3/5\n",
      "64/64 [==============================] - 31s 485ms/step - loss: 0.4749 - accuracy: 0.8410 - val_loss: 0.8330 - val_accuracy: 0.7267\n",
      "Epoch 4/5\n",
      "64/64 [==============================] - 31s 477ms/step - loss: 0.2695 - accuracy: 0.9227 - val_loss: 1.0460 - val_accuracy: 0.7044\n",
      "Epoch 5/5\n",
      "64/64 [==============================] - 31s 479ms/step - loss: 0.1516 - accuracy: 0.9553 - val_loss: 0.9547 - val_accuracy: 0.7178\n",
      "              precision    recall  f1-score   support\n",
      "\n",
      "           0       0.88      0.85      0.86        84\n",
      "           1       0.56      0.67      0.61        21\n",
      "           2       0.82      0.90      0.86        51\n",
      "           3       0.86      0.71      0.77       129\n",
      "           4       0.83      0.93      0.88        86\n",
      "           5       0.76      0.78      0.77       116\n",
      "           6       0.72      1.00      0.84        13\n",
      "\n",
      "    accuracy                           0.81       500\n",
      "   macro avg       0.78      0.83      0.80       500\n",
      "weighted avg       0.82      0.81      0.81       500\n",
      "\n",
      "Accuracy : 81.000\n",
      "F1 Score: 0.809\n",
      "Confusion Matrix: \n",
      "[[71  0  2  5  1  5  0]\n",
      " [ 0 14  2  0  0  5  0]\n",
      " [ 1  3 46  1  0  0  0]\n",
      " [ 3  2  4 91 10 17  2]\n",
      " [ 1  1  0  3 80  1  0]\n",
      " [ 5  5  2  6  5 90  3]\n",
      " [ 0  0  0  0  0  0 13]]\n",
      "Epoch 1/5\n",
      "64/64 [==============================] - 28s 441ms/step - loss: 1.7424 - accuracy: 0.2998 - val_loss: 1.8015 - val_accuracy: 0.1644\n",
      "Epoch 2/5\n",
      "64/64 [==============================] - 30s 466ms/step - loss: 0.9935 - accuracy: 0.6738 - val_loss: 1.0880 - val_accuracy: 0.6244\n",
      "Epoch 3/5\n",
      "64/64 [==============================] - 30s 475ms/step - loss: 0.4427 - accuracy: 0.8546 - val_loss: 0.9289 - val_accuracy: 0.7089\n",
      "Epoch 4/5\n",
      "64/64 [==============================] - 31s 484ms/step - loss: 0.2275 - accuracy: 0.9338 - val_loss: 0.7146 - val_accuracy: 0.7711\n",
      "Epoch 5/5\n",
      "64/64 [==============================] - 30s 475ms/step - loss: 0.1214 - accuracy: 0.9664 - val_loss: 0.9294 - val_accuracy: 0.7044\n",
      "              precision    recall  f1-score   support\n",
      "\n",
      "           0       0.95      0.68      0.80       114\n",
      "           1       0.64      0.94      0.76        17\n",
      "           2       0.82      0.94      0.88        34\n",
      "           3       0.81      0.79      0.80       128\n",
      "           4       0.82      0.85      0.83        91\n",
      "           5       0.68      0.80      0.74        95\n",
      "           6       0.80      0.95      0.87        21\n",
      "\n",
      "    accuracy                           0.80       500\n",
      "   macro avg       0.79      0.85      0.81       500\n",
      "weighted avg       0.82      0.80      0.80       500\n",
      "\n",
      "Accuracy : 80.000\n",
      "F1 Score: 0.800\n",
      "Confusion Matrix: \n",
      "[[ 78   3   4  10   3  15   1]\n",
      " [  0  16   0   0   0   1   0]\n",
      " [  0   1  32   1   0   0   0]\n",
      " [  3   0   1 101  11  11   1]\n",
      " [  0   0   0   5  77   8   1]\n",
      " [  1   5   2   6   3  76   2]\n",
      " [  0   0   0   1   0   0  20]]\n",
      "Epoch 1/5\n",
      "64/64 [==============================] - 30s 469ms/step - loss: 1.7385 - accuracy: 0.2867 - val_loss: 1.8101 - val_accuracy: 0.1667\n",
      "Epoch 2/5\n",
      "64/64 [==============================] - 31s 490ms/step - loss: 1.0197 - accuracy: 0.6728 - val_loss: 1.0571 - val_accuracy: 0.6667\n",
      "Epoch 3/5\n",
      "64/64 [==============================] - 31s 480ms/step - loss: 0.4679 - accuracy: 0.8578 - val_loss: 0.9705 - val_accuracy: 0.7067\n",
      "Epoch 4/5\n",
      "64/64 [==============================] - 32s 495ms/step - loss: 0.2545 - accuracy: 0.9210 - val_loss: 0.8065 - val_accuracy: 0.7489\n",
      "Epoch 5/5\n",
      "64/64 [==============================] - 31s 489ms/step - loss: 0.1368 - accuracy: 0.9654 - val_loss: 1.0549 - val_accuracy: 0.6911\n",
      "              precision    recall  f1-score   support\n",
      "\n",
      "           0       0.83      0.81      0.82        74\n",
      "           1       0.81      0.50      0.62        26\n",
      "           2       0.87      0.80      0.83        56\n",
      "           3       0.76      0.69      0.72       140\n",
      "           4       0.89      0.82      0.85       106\n",
      "           5       0.62      0.87      0.72        85\n",
      "           6       0.75      0.92      0.83        13\n",
      "\n",
      "    accuracy                           0.77       500\n",
      "   macro avg       0.79      0.77      0.77       500\n",
      "weighted avg       0.79      0.77      0.77       500\n",
      "\n",
      "Accuracy : 77.400\n",
      "F1 Score: 0.774\n",
      "Confusion Matrix: \n",
      "[[60  0  2  7  1  4  0]\n",
      " [ 0 13  1  5  2  5  0]\n",
      " [ 4  1 45  1  0  4  1]\n",
      " [ 8  2  1 96  6 26  1]\n",
      " [ 0  0  2  9 87  7  1]\n",
      " [ 0  0  1  7  2 74  1]\n",
      " [ 0  0  0  1  0  0 12]]\n",
      "Epoch 1/5\n",
      "64/64 [==============================] - 29s 460ms/step - loss: 1.7179 - accuracy: 0.3059 - val_loss: 1.6730 - val_accuracy: 0.3689\n",
      "Epoch 2/5\n",
      "64/64 [==============================] - 30s 475ms/step - loss: 0.9610 - accuracy: 0.6946 - val_loss: 1.2148 - val_accuracy: 0.6111\n",
      "Epoch 3/5\n",
      "64/64 [==============================] - 31s 483ms/step - loss: 0.4633 - accuracy: 0.8570 - val_loss: 0.7845 - val_accuracy: 0.7400\n",
      "Epoch 4/5\n",
      "64/64 [==============================] - 31s 490ms/step - loss: 0.2457 - accuracy: 0.9277 - val_loss: 0.8724 - val_accuracy: 0.7200\n",
      "Epoch 5/5\n",
      "64/64 [==============================] - 30s 473ms/step - loss: 0.1370 - accuracy: 0.9600 - val_loss: 0.8679 - val_accuracy: 0.7111\n",
      "              precision    recall  f1-score   support\n",
      "\n",
      "           0       0.86      0.80      0.83        75\n",
      "           1       0.38      0.82      0.51        11\n",
      "           2       0.89      0.89      0.89        57\n",
      "           3       0.78      0.72      0.75       134\n",
      "           4       0.84      0.84      0.84       102\n",
      "           5       0.75      0.75      0.75       106\n",
      "           6       0.82      0.93      0.87        15\n",
      "\n",
      "    accuracy                           0.79       500\n",
      "   macro avg       0.76      0.82      0.78       500\n",
      "weighted avg       0.81      0.79      0.80       500\n",
      "\n",
      "Accuracy : 79.400\n",
      "F1 Score: 0.797\n",
      "Confusion Matrix: \n",
      "[[60  3  1  7  2  2  0]\n",
      " [ 0  9  1  0  0  0  1]\n",
      " [ 1  2 51  0  0  3  0]\n",
      " [ 5  1  2 97 11 16  2]\n",
      " [ 1  0  0 10 86  5  0]\n",
      " [ 3  8  2 10  3 80  0]\n",
      " [ 0  1  0  0  0  0 14]]\n",
      "Epoch 1/5\n",
      "64/64 [==============================] - 33s 519ms/step - loss: 1.7320 - accuracy: 0.3104 - val_loss: 1.8085 - val_accuracy: 0.1933\n",
      "Epoch 2/5\n",
      "64/64 [==============================] - 32s 498ms/step - loss: 0.9899 - accuracy: 0.6706 - val_loss: 1.0250 - val_accuracy: 0.6444\n",
      "Epoch 3/5\n",
      "64/64 [==============================] - 38s 594ms/step - loss: 0.4473 - accuracy: 0.8598 - val_loss: 0.9585 - val_accuracy: 0.7156\n",
      "Epoch 4/5\n",
      "64/64 [==============================] - 32s 494ms/step - loss: 0.2364 - accuracy: 0.9336 - val_loss: 0.9474 - val_accuracy: 0.6867\n",
      "Epoch 5/5\n",
      "64/64 [==============================] - 32s 504ms/step - loss: 0.1476 - accuracy: 0.9607 - val_loss: 0.7974 - val_accuracy: 0.7422\n",
      "              precision    recall  f1-score   support\n",
      "\n",
      "           0       0.75      0.75      0.75        57\n",
      "           1       0.70      0.78      0.74        27\n",
      "           2       0.96      0.76      0.85        62\n",
      "           3       0.70      0.81      0.75       109\n",
      "           4       0.82      0.95      0.88        95\n",
      "           5       0.72      0.60      0.66       136\n",
      "           6       0.73      0.79      0.76        14\n",
      "\n",
      "    accuracy                           0.76       500\n",
      "   macro avg       0.77      0.78      0.77       500\n",
      "weighted avg       0.77      0.76      0.76       500\n",
      "\n",
      "Accuracy : 76.400\n",
      "F1 Score: 0.761\n",
      "Confusion Matrix: \n",
      "[[43  1  0  4  1  8  0]\n",
      " [ 1 21  0  0  1  4  0]\n",
      " [ 2  1 47  3  1  7  1]\n",
      " [ 0  0  0 88  9 11  1]\n",
      " [ 0  0  1  4 90  0  0]\n",
      " [11  6  1 26  8 82  2]\n",
      " [ 0  1  0  0  0  2 11]]\n",
      "Epoch 1/5\n",
      "64/64 [==============================] - 34s 533ms/step - loss: 1.7471 - accuracy: 0.2889 - val_loss: 1.6905 - val_accuracy: 0.5911\n",
      "Epoch 2/5\n",
      "64/64 [==============================] - 33s 516ms/step - loss: 1.0045 - accuracy: 0.6807 - val_loss: 1.0685 - val_accuracy: 0.6889\n",
      "Epoch 3/5\n",
      "64/64 [==============================] - 36s 558ms/step - loss: 0.4702 - accuracy: 0.8432 - val_loss: 0.9742 - val_accuracy: 0.7289\n",
      "Epoch 4/5\n",
      "64/64 [==============================] - 33s 513ms/step - loss: 0.2489 - accuracy: 0.9257 - val_loss: 0.6639 - val_accuracy: 0.7933\n",
      "Epoch 5/5\n",
      "64/64 [==============================] - 31s 479ms/step - loss: 0.1784 - accuracy: 0.9519 - val_loss: 0.8528 - val_accuracy: 0.7422\n",
      "              precision    recall  f1-score   support\n",
      "\n",
      "           0       0.80      0.82      0.81        57\n",
      "           1       0.71      0.59      0.65        17\n",
      "           2       0.90      0.85      0.87        53\n",
      "           3       0.78      0.81      0.79       144\n",
      "           4       0.91      0.85      0.88       117\n",
      "           5       0.72      0.77      0.74        95\n",
      "           6       0.89      0.94      0.91        17\n",
      "\n",
      "    accuracy                           0.81       500\n",
      "   macro avg       0.82      0.80      0.81       500\n",
      "weighted avg       0.82      0.81      0.81       500\n",
      "\n",
      "Accuracy : 81.400\n",
      "F1 Score: 0.815\n",
      "Confusion Matrix: \n",
      "[[ 47   1   0   6   0   3   0]\n",
      " [  1  10   1   0   2   3   0]\n",
      " [  2   0  45   2   2   2   0]\n",
      " [  4   0   3 116   4  17   0]\n",
      " [  2   0   0  11 100   3   1]\n",
      " [  3   3   1  13   1  73   1]\n",
      " [  0   0   0   0   1   0  16]]\n",
      "Epoch 1/5\n",
      "64/64 [==============================] - 29s 455ms/step - loss: 1.7136 - accuracy: 0.3049 - val_loss: 1.6897 - val_accuracy: 0.2444\n",
      "Epoch 2/5\n",
      "64/64 [==============================] - 39s 616ms/step - loss: 0.9758 - accuracy: 0.6864 - val_loss: 1.3043 - val_accuracy: 0.5711\n",
      "Epoch 3/5\n",
      "64/64 [==============================] - 38s 596ms/step - loss: 0.4984 - accuracy: 0.8383 - val_loss: 1.1061 - val_accuracy: 0.6511\n",
      "Epoch 4/5\n",
      "64/64 [==============================] - 37s 571ms/step - loss: 0.2778 - accuracy: 0.9168 - val_loss: 0.8707 - val_accuracy: 0.7200\n",
      "Epoch 5/5\n",
      "64/64 [==============================] - 34s 530ms/step - loss: 0.1477 - accuracy: 0.9598 - val_loss: 0.9635 - val_accuracy: 0.7044\n",
      "              precision    recall  f1-score   support\n",
      "\n",
      "           0       0.76      0.93      0.84        73\n",
      "           1       0.40      0.62      0.49        16\n",
      "           2       0.91      0.75      0.82        52\n",
      "           3       0.83      0.67      0.74       136\n",
      "           4       0.90      0.83      0.86       106\n",
      "           5       0.69      0.77      0.73       108\n",
      "           6       0.60      1.00      0.75         9\n",
      "\n",
      "    accuracy                           0.78       500\n",
      "   macro avg       0.73      0.80      0.75       500\n",
      "weighted avg       0.79      0.78      0.78       500\n",
      "\n",
      "Accuracy : 77.600\n",
      "F1 Score: 0.778\n",
      "Confusion Matrix: \n",
      "[[68  0  0  2  0  2  1]\n",
      " [ 0 10  1  0  1  4  0]\n",
      " [ 2  4 39  2  0  5  0]\n",
      " [12  5  2 91  5 21  0]\n",
      " [ 3  1  0  7 88  5  2]\n",
      " [ 4  5  1  8  4 83  3]\n",
      " [ 0  0  0  0  0  0  9]]\n",
      "Epoch 1/5\n",
      "64/64 [==============================] - 34s 526ms/step - loss: 1.7429 - accuracy: 0.2817 - val_loss: 1.9208 - val_accuracy: 0.1244\n",
      "Epoch 2/5\n",
      "64/64 [==============================] - 38s 590ms/step - loss: 1.0367 - accuracy: 0.6598 - val_loss: 1.2446 - val_accuracy: 0.5800\n",
      "Epoch 3/5\n",
      "64/64 [==============================] - 37s 579ms/step - loss: 0.4607 - accuracy: 0.8536 - val_loss: 0.8189 - val_accuracy: 0.7267\n",
      "Epoch 4/5\n",
      "64/64 [==============================] - 36s 564ms/step - loss: 0.2585 - accuracy: 0.9235 - val_loss: 0.8081 - val_accuracy: 0.7533\n",
      "Epoch 5/5\n",
      "64/64 [==============================] - 33s 518ms/step - loss: 0.1467 - accuracy: 0.9578 - val_loss: 0.8002 - val_accuracy: 0.7467\n",
      "              precision    recall  f1-score   support\n",
      "\n",
      "           0       0.89      0.75      0.81        75\n",
      "           1       0.75      0.75      0.75        16\n",
      "           2       0.82      0.91      0.86        55\n",
      "           3       0.78      0.74      0.76       124\n",
      "           4       0.80      0.91      0.85        97\n",
      "           5       0.73      0.69      0.71       121\n",
      "           6       0.71      1.00      0.83        12\n",
      "\n",
      "    accuracy                           0.79       500\n",
      "   macro avg       0.78      0.82      0.80       500\n",
      "weighted avg       0.79      0.79      0.79       500\n",
      "\n",
      "Accuracy : 78.800\n",
      "F1 Score: 0.786\n",
      "Confusion Matrix: \n",
      "[[56  0  2  5  3  9  0]\n",
      " [ 0 12  1  1  0  2  0]\n",
      " [ 0  1 50  2  0  2  0]\n",
      " [ 2  1  3 92 12 14  0]\n",
      " [ 1  0  1  3 88  4  0]\n",
      " [ 4  2  4 15  7 84  5]\n",
      " [ 0  0  0  0  0  0 12]]\n",
      "Epoch 1/5\n",
      "64/64 [==============================] - 28s 444ms/step - loss: 1.7265 - accuracy: 0.2867 - val_loss: 1.5681 - val_accuracy: 0.6444\n",
      "Epoch 2/5\n",
      "64/64 [==============================] - 29s 451ms/step - loss: 1.0020 - accuracy: 0.6874 - val_loss: 1.2101 - val_accuracy: 0.5911\n",
      "Epoch 3/5\n",
      "64/64 [==============================] - 29s 455ms/step - loss: 0.4554 - accuracy: 0.8590 - val_loss: 0.9228 - val_accuracy: 0.7333\n",
      "Epoch 4/5\n",
      "64/64 [==============================] - 29s 460ms/step - loss: 0.2467 - accuracy: 0.9257 - val_loss: 0.9380 - val_accuracy: 0.6933\n",
      "Epoch 5/5\n",
      "64/64 [==============================] - 30s 470ms/step - loss: 0.1552 - accuracy: 0.9600 - val_loss: 0.8609 - val_accuracy: 0.7244\n",
      "              precision    recall  f1-score   support\n",
      "\n",
      "           0       0.82      0.82      0.82        71\n",
      "           1       0.50      0.64      0.56        14\n",
      "           2       0.93      0.89      0.91        56\n",
      "           3       0.81      0.72      0.76       143\n",
      "           4       0.87      0.88      0.88        94\n",
      "           5       0.70      0.79      0.74       108\n",
      "           6       0.93      0.93      0.93        14\n",
      "\n",
      "    accuracy                           0.80       500\n",
      "   macro avg       0.79      0.81      0.80       500\n",
      "weighted avg       0.81      0.80      0.80       500\n",
      "\n",
      "Accuracy : 80.200\n",
      "F1 Score: 0.803\n",
      "Confusion Matrix: \n",
      "[[ 58   0   2   4   1   6   0]\n",
      " [  1   9   0   0   0   4   0]\n",
      " [  0   3  50   2   0   1   0]\n",
      " [  6   2   2 103  10  20   0]\n",
      " [  1   0   0   6  83   4   0]\n",
      " [  5   4   0  12   1  85   1]\n",
      " [  0   0   0   0   0   1  13]]\n",
      "Epoch 1/5\n",
      "64/64 [==============================] - 29s 454ms/step - loss: 1.7157 - accuracy: 0.3077 - val_loss: 1.7810 - val_accuracy: 0.1333\n",
      "Epoch 2/5\n",
      "64/64 [==============================] - 35s 544ms/step - loss: 0.9706 - accuracy: 0.6815 - val_loss: 1.0131 - val_accuracy: 0.6844\n",
      "Epoch 3/5\n",
      "64/64 [==============================] - 35s 548ms/step - loss: 0.4894 - accuracy: 0.8407 - val_loss: 1.2827 - val_accuracy: 0.5844\n",
      "Epoch 4/5\n",
      "64/64 [==============================] - 34s 538ms/step - loss: 0.2883 - accuracy: 0.9168 - val_loss: 0.8798 - val_accuracy: 0.7267\n",
      "Epoch 5/5\n",
      "64/64 [==============================] - 31s 480ms/step - loss: 0.1624 - accuracy: 0.9536 - val_loss: 0.8336 - val_accuracy: 0.7444\n",
      "              precision    recall  f1-score   support\n",
      "\n",
      "           0       0.84      0.82      0.83        78\n",
      "           1       0.57      0.76      0.65        17\n",
      "           2       0.82      0.84      0.83        58\n",
      "           3       0.69      0.83      0.75        93\n",
      "           4       0.96      0.82      0.88       115\n",
      "           5       0.79      0.72      0.75       125\n",
      "           6       0.82      1.00      0.90        14\n",
      "\n",
      "    accuracy                           0.80       500\n",
      "   macro avg       0.78      0.83      0.80       500\n",
      "weighted avg       0.81      0.80      0.80       500\n",
      "\n",
      "Accuracy : 80.200\n",
      "F1 Score: 0.804\n",
      "Confusion Matrix: \n",
      "[[64  0  6  2  1  5  0]\n",
      " [ 0 13  0  1  0  3  0]\n",
      " [ 2  3 49  3  0  1  0]\n",
      " [ 3  1  2 77  2  8  0]\n",
      " [ 0  1  0 12 94  7  1]\n",
      " [ 7  5  3 17  1 90  2]\n",
      " [ 0  0  0  0  0  0 14]]\n",
      "Mean 0.79 Std 0.02\n",
      "Time: 1706.2710523605347 seconds\n"
     ]
    }
   ],
   "source": [
    "start = time.time()\n",
    "evaluate_lstm(seqs, seqs_mat, y_mat_1, 7)\n",
    "print(f'Time: {time.time() - start} seconds')"
   ]
  },
  {
   "cell_type": "code",
   "execution_count": 75,
   "metadata": {},
   "outputs": [
    {
     "name": "stdout",
     "output_type": "stream",
     "text": [
      "Epoch 1/5\n",
      "64/64 [==============================] - 27s 417ms/step - loss: 3.7669 - accuracy: 0.0753 - val_loss: 3.4735 - val_accuracy: 0.1378\n",
      "Epoch 2/5\n",
      "64/64 [==============================] - 31s 478ms/step - loss: 3.6005 - accuracy: 0.1190 - val_loss: 3.2924 - val_accuracy: 0.2933\n",
      "Epoch 3/5\n",
      "64/64 [==============================] - 32s 506ms/step - loss: 2.7890 - accuracy: 0.3343 - val_loss: 2.4034 - val_accuracy: 0.4467\n",
      "Epoch 4/5\n",
      "64/64 [==============================] - 34s 535ms/step - loss: 1.7345 - accuracy: 0.5965 - val_loss: 2.0792 - val_accuracy: 0.5178\n",
      "Epoch 5/5\n",
      "64/64 [==============================] - 35s 552ms/step - loss: 1.1184 - accuracy: 0.7341 - val_loss: 2.0075 - val_accuracy: 0.5311\n",
      "              precision    recall  f1-score   support\n",
      "\n",
      "           0       0.00      0.00      0.00         0\n",
      "           1       0.00      0.00      0.00         0\n",
      "           2       0.00      0.00      0.00         0\n",
      "           3       0.00      0.00      0.00         0\n",
      "           4       0.88      0.76      0.81        46\n",
      "           5       0.77      0.74      0.76        23\n",
      "           6       1.00      0.41      0.58        17\n",
      "           7       0.33      1.00      0.50         2\n",
      "           8       0.62      0.42      0.50        12\n",
      "           9       0.00      0.00      0.00         0\n",
      "          10       0.00      0.00      0.00         0\n",
      "          11       0.25      1.00      0.40         1\n",
      "          12       0.00      0.00      0.00         0\n",
      "          13       0.00      0.00      0.00         0\n",
      "          14       0.80      0.71      0.75        28\n",
      "          15       0.75      0.38      0.50         8\n",
      "          16       0.25      1.00      0.40         1\n",
      "          17       0.00      0.00      0.00         0\n",
      "          18       0.67      1.00      0.80         2\n",
      "          19       0.14      1.00      0.25         1\n",
      "          20       0.00      0.00      0.00         0\n",
      "          21       0.14      0.07      0.09        15\n",
      "          22       0.50      0.50      0.50         2\n",
      "          23       0.12      0.11      0.12         9\n",
      "          24       0.00      0.00      0.00         1\n",
      "          25       0.75      0.67      0.71         9\n",
      "          26       0.00      0.00      0.00         0\n",
      "          27       0.56      0.45      0.50        11\n",
      "          29       0.00      0.00      0.00         0\n",
      "          30       0.67      1.00      0.80         2\n",
      "          31       0.00      0.00      0.00         0\n",
      "          32       0.68      0.45      0.55        33\n",
      "          33       0.33      1.00      0.50         1\n",
      "          35       0.25      0.12      0.17         8\n",
      "          36       0.91      1.00      0.95        10\n",
      "          37       0.71      0.55      0.62        22\n",
      "          38       1.00      0.73      0.84        11\n",
      "          39       0.00      0.00      0.00         0\n",
      "          40       0.83      0.83      0.83         6\n",
      "          41       0.75      1.00      0.86         9\n",
      "          42       0.75      0.50      0.60         6\n",
      "          46       0.58      0.67      0.62        21\n",
      "          47       0.78      0.78      0.78        18\n",
      "          48       0.67      0.73      0.70        11\n",
      "          49       0.82      0.64      0.72        14\n",
      "          50       0.00      0.00      0.00         0\n",
      "          51       0.75      0.67      0.71         9\n",
      "          52       0.00      0.00      0.00         0\n",
      "          53       0.42      0.24      0.30        21\n",
      "          54       0.81      0.71      0.76        24\n",
      "          55       0.69      0.65      0.67        52\n",
      "          56       0.00      0.00      0.00         0\n",
      "          57       0.58      0.82      0.68        17\n",
      "          58       0.00      0.00      0.00         0\n",
      "          59       0.00      0.00      0.00         0\n",
      "          60       0.87      0.76      0.81        17\n",
      "          61       0.00      0.00      0.00         0\n",
      "\n",
      "    accuracy                           0.62       500\n",
      "   macro avg       0.39      0.42      0.38       500\n",
      "weighted avg       0.70      0.62      0.64       500\n",
      "\n",
      "Accuracy : 61.600\n",
      "F1 Score: 0.642\n",
      "Confusion Matrix: \n",
      "[[ 0  0  0 ...  0  0  0]\n",
      " [ 0  0  0 ...  0  0  0]\n",
      " [ 0  0  0 ...  0  0  0]\n",
      " ...\n",
      " [ 0  0  0 ...  0  0  0]\n",
      " [ 0  0  0 ...  0 13  0]\n",
      " [ 0  0  0 ...  0  0  0]]\n",
      "Epoch 1/5\n",
      "64/64 [==============================] - 29s 461ms/step - loss: 3.7673 - accuracy: 0.0768 - val_loss: 3.4551 - val_accuracy: 0.3133\n",
      "Epoch 2/5\n",
      "64/64 [==============================] - 31s 491ms/step - loss: 3.5853 - accuracy: 0.1242 - val_loss: 3.0878 - val_accuracy: 0.3044\n",
      "Epoch 3/5\n",
      "64/64 [==============================] - 31s 485ms/step - loss: 2.6453 - accuracy: 0.3736 - val_loss: 2.6049 - val_accuracy: 0.3933\n",
      "Epoch 4/5\n",
      "64/64 [==============================] - 32s 493ms/step - loss: 1.6103 - accuracy: 0.6195 - val_loss: 1.9716 - val_accuracy: 0.5356\n",
      "Epoch 5/5\n",
      "64/64 [==============================] - 30s 472ms/step - loss: 1.0229 - accuracy: 0.7533 - val_loss: 1.9333 - val_accuracy: 0.5311\n"
     ]
    },
    {
     "name": "stderr",
     "output_type": "stream",
     "text": [
      "/home/singhabahu/anaconda3/envs/python38test/lib/python3.8/site-packages/sklearn/metrics/_classification.py:1221: UndefinedMetricWarning: Precision and F-score are ill-defined and being set to 0.0 in labels with no predicted samples. Use `zero_division` parameter to control this behavior.\n",
      "  _warn_prf(average, modifier, msg_start, len(result))\n"
     ]
    },
    {
     "name": "stdout",
     "output_type": "stream",
     "text": [
      "              precision    recall  f1-score   support\n",
      "\n",
      "           0       0.00      0.00      0.00         1\n",
      "           2       0.25      0.50      0.33         2\n",
      "           3       0.00      0.00      0.00         0\n",
      "           4       0.90      0.70      0.79        54\n",
      "           5       0.77      0.63      0.69        27\n",
      "           6       0.90      0.64      0.75        14\n",
      "           7       0.40      0.67      0.50         3\n",
      "           8       0.67      0.91      0.77        11\n",
      "           9       0.50      0.33      0.40         3\n",
      "          10       0.00      0.00      0.00         0\n",
      "          11       0.50      1.00      0.67         1\n",
      "          13       0.00      0.00      0.00         1\n",
      "          14       0.89      0.74      0.81        23\n",
      "          15       0.75      0.38      0.50         8\n",
      "          16       0.00      0.00      0.00         0\n",
      "          17       0.00      0.00      0.00         0\n",
      "          18       1.00      1.00      1.00         2\n",
      "          19       0.00      0.00      0.00         0\n",
      "          20       0.00      0.00      0.00         0\n",
      "          21       0.14      0.12      0.13         8\n",
      "          22       0.29      0.20      0.24        10\n",
      "          23       0.43      0.50      0.46        12\n",
      "          24       1.00      0.75      0.86         4\n",
      "          25       0.80      0.80      0.80        10\n",
      "          26       0.00      0.00      0.00         0\n",
      "          27       0.60      0.60      0.60        10\n",
      "          28       0.00      0.00      0.00         0\n",
      "          29       0.00      0.00      0.00         0\n",
      "          30       0.67      0.33      0.44         6\n",
      "          31       0.00      0.00      0.00         0\n",
      "          32       0.42      0.62      0.50        13\n",
      "          33       0.50      1.00      0.67         1\n",
      "          34       0.00      0.00      0.00         0\n",
      "          35       0.60      0.50      0.55         6\n",
      "          36       0.90      0.82      0.86        11\n",
      "          37       0.89      0.85      0.87        20\n",
      "          38       1.00      1.00      1.00         7\n",
      "          39       0.50      0.33      0.40         3\n",
      "          40       0.25      0.22      0.24         9\n",
      "          41       0.86      1.00      0.92         6\n",
      "          42       0.00      0.00      0.00         1\n",
      "          43       0.00      0.00      0.00         0\n",
      "          45       0.00      0.00      0.00         0\n",
      "          46       0.63      0.51      0.57        37\n",
      "          47       1.00      0.58      0.73        19\n",
      "          48       0.36      0.33      0.34        15\n",
      "          49       1.00      0.92      0.96        12\n",
      "          50       0.00      0.00      0.00         2\n",
      "          51       0.25      0.33      0.29         3\n",
      "          53       0.00      0.00      0.00         2\n",
      "          54       0.83      0.75      0.79        20\n",
      "          55       0.70      0.64      0.67        59\n",
      "          56       0.20      1.00      0.33         1\n",
      "          57       0.79      0.52      0.62        29\n",
      "          58       0.00      0.00      0.00         0\n",
      "          59       0.00      0.00      0.00         0\n",
      "          60       0.76      0.93      0.84        14\n",
      "          61       0.00      0.00      0.00         0\n",
      "          62       0.00      0.00      0.00         0\n",
      "\n",
      "    accuracy                           0.62       500\n",
      "   macro avg       0.41      0.40      0.39       500\n",
      "weighted avg       0.72      0.62      0.66       500\n",
      "\n",
      "Accuracy : 62.400\n",
      "F1 Score: 0.659\n",
      "Confusion Matrix: \n",
      "[[ 0  0  0 ...  0  0  0]\n",
      " [ 0  1  0 ...  0  0  0]\n",
      " [ 0  0  0 ...  0  0  0]\n",
      " ...\n",
      " [ 0  0  0 ... 13  0  1]\n",
      " [ 0  0  0 ...  0  0  0]\n",
      " [ 0  0  0 ...  0  0  0]]\n",
      "Epoch 1/5\n",
      "64/64 [==============================] - 30s 466ms/step - loss: 3.7539 - accuracy: 0.0830 - val_loss: 3.4151 - val_accuracy: 0.3089\n",
      "Epoch 2/5\n",
      "64/64 [==============================] - 32s 493ms/step - loss: 3.5767 - accuracy: 0.1205 - val_loss: 3.2961 - val_accuracy: 0.2089\n",
      "Epoch 3/5\n",
      "64/64 [==============================] - 31s 485ms/step - loss: 2.6318 - accuracy: 0.3842 - val_loss: 2.2641 - val_accuracy: 0.4244\n",
      "Epoch 4/5\n",
      "64/64 [==============================] - 31s 484ms/step - loss: 1.6379 - accuracy: 0.6222 - val_loss: 1.9015 - val_accuracy: 0.5444\n",
      "Epoch 5/5\n",
      "64/64 [==============================] - 30s 468ms/step - loss: 1.0610 - accuracy: 0.7444 - val_loss: 1.8303 - val_accuracy: 0.5711\n",
      "              precision    recall  f1-score   support\n",
      "\n",
      "           0       0.00      0.00      0.00         0\n",
      "           2       0.25      1.00      0.40         1\n",
      "           4       0.83      0.71      0.76        34\n",
      "           5       0.57      0.77      0.65        22\n",
      "           6       0.67      0.80      0.73         5\n",
      "           7       0.43      1.00      0.60         3\n",
      "           8       0.75      0.50      0.60         6\n",
      "           9       0.00      0.00      0.00         0\n",
      "          10       0.00      0.00      0.00         0\n",
      "          11       1.00      0.17      0.29         6\n",
      "          12       0.00      0.00      0.00         0\n",
      "          13       0.00      0.00      0.00         2\n",
      "          14       0.79      0.79      0.79        33\n",
      "          15       0.50      0.50      0.50         2\n",
      "          16       1.00      0.25      0.40         4\n",
      "          17       0.00      0.00      0.00         0\n",
      "          18       1.00      1.00      1.00         1\n",
      "          19       0.00      0.00      0.00         1\n",
      "          20       0.00      0.00      0.00         0\n",
      "          21       0.17      0.17      0.17         6\n",
      "          22       0.00      0.00      0.00         1\n",
      "          23       0.33      0.25      0.29         8\n",
      "          24       0.25      0.33      0.29         3\n",
      "          25       1.00      0.83      0.91        12\n",
      "          26       1.00      0.33      0.50         3\n",
      "          27       0.59      0.45      0.51        29\n",
      "          28       0.00      0.00      0.00         0\n",
      "          29       0.00      0.00      0.00         0\n",
      "          30       0.00      0.00      0.00         0\n",
      "          31       0.00      0.00      0.00         0\n",
      "          32       0.47      0.50      0.48        16\n",
      "          33       0.00      0.00      0.00         2\n",
      "          35       0.14      0.17      0.15         6\n",
      "          36       0.80      0.67      0.73         6\n",
      "          37       0.95      0.77      0.85        26\n",
      "          38       0.50      0.62      0.56         8\n",
      "          39       0.00      0.00      0.00         0\n",
      "          40       0.40      1.00      0.57         2\n",
      "          41       0.82      0.82      0.82        11\n",
      "          42       0.50      0.50      0.50         6\n",
      "          45       0.00      0.00      0.00         0\n",
      "          46       0.59      0.45      0.51        29\n",
      "          47       1.00      0.94      0.97        18\n",
      "          48       0.47      1.00      0.64         7\n",
      "          49       0.91      0.67      0.77        15\n",
      "          50       0.50      1.00      0.67         2\n",
      "          51       0.67      0.80      0.73         5\n",
      "          52       0.00      0.00      0.00         0\n",
      "          53       0.16      0.25      0.19        12\n",
      "          54       0.76      0.84      0.80        19\n",
      "          55       0.70      0.44      0.54        80\n",
      "          56       0.00      0.00      0.00         0\n",
      "          57       0.57      0.38      0.46        34\n",
      "          58       0.00      0.00      0.00         0\n",
      "          60       0.75      0.86      0.80        14\n",
      "\n",
      "    accuracy                           0.59       500\n",
      "   macro avg       0.41      0.41      0.38       500\n",
      "weighted avg       0.68      0.59      0.61       500\n",
      "\n",
      "Accuracy : 58.800\n",
      "F1 Score: 0.611\n",
      "Confusion Matrix: \n",
      "[[ 0  0  0 ...  0  0  0]\n",
      " [ 0  1  0 ...  0  0  0]\n",
      " [ 0  1 24 ...  0  0  0]\n",
      " ...\n",
      " [ 0  1  0 ... 13  0  0]\n",
      " [ 0  0  0 ...  0  0  0]\n",
      " [ 0  0  0 ...  0  0 12]]\n",
      "Epoch 1/5\n",
      "64/64 [==============================] - 31s 485ms/step - loss: 3.7524 - accuracy: 0.0854 - val_loss: 3.4838 - val_accuracy: 0.3133\n",
      "Epoch 2/5\n",
      "64/64 [==============================] - 31s 491ms/step - loss: 3.6091 - accuracy: 0.1284 - val_loss: 3.3718 - val_accuracy: 0.2689\n",
      "Epoch 3/5\n",
      "64/64 [==============================] - 31s 478ms/step - loss: 2.7985 - accuracy: 0.3462 - val_loss: 2.3978 - val_accuracy: 0.4844\n",
      "Epoch 4/5\n",
      "64/64 [==============================] - 31s 490ms/step - loss: 1.6748 - accuracy: 0.6062 - val_loss: 2.1025 - val_accuracy: 0.5244\n",
      "Epoch 5/5\n",
      "64/64 [==============================] - 31s 483ms/step - loss: 1.1139 - accuracy: 0.7319 - val_loss: 2.0698 - val_accuracy: 0.5178\n",
      "              precision    recall  f1-score   support\n",
      "\n",
      "           0       0.25      1.00      0.40         1\n",
      "           2       0.20      1.00      0.33         1\n",
      "           4       0.70      0.75      0.72        28\n",
      "           5       0.89      0.53      0.67        32\n",
      "           6       0.92      1.00      0.96        11\n",
      "           7       0.00      0.00      0.00         2\n",
      "           8       0.50      0.50      0.50        10\n",
      "           9       0.00      0.00      0.00         0\n",
      "          10       0.00      0.00      0.00         0\n",
      "          11       0.17      1.00      0.29         1\n",
      "          12       0.00      0.00      0.00         0\n",
      "          13       0.00      0.00      0.00         0\n",
      "          14       0.73      0.76      0.74        21\n",
      "          15       0.56      0.50      0.53        10\n",
      "          16       0.00      0.00      0.00         0\n",
      "          17       0.00      0.00      0.00         0\n",
      "          18       1.00      0.50      0.67         2\n",
      "          19       0.00      0.00      0.00         0\n",
      "          20       0.00      0.00      0.00         0\n",
      "          21       0.36      0.18      0.24        22\n",
      "          22       0.25      0.50      0.33         4\n",
      "          23       0.29      0.25      0.27         8\n",
      "          24       0.33      0.50      0.40         2\n",
      "          25       1.00      0.55      0.71        11\n",
      "          26       0.00      0.00      0.00         1\n",
      "          27       0.56      0.45      0.50        20\n",
      "          30       0.33      1.00      0.50         1\n",
      "          31       0.00      0.00      0.00         0\n",
      "          32       0.67      0.41      0.51        29\n",
      "          33       0.00      0.00      0.00         0\n",
      "          35       0.15      0.29      0.20         7\n",
      "          36       0.75      1.00      0.86         9\n",
      "          37       0.87      0.83      0.85        24\n",
      "          38       0.75      0.86      0.80         7\n",
      "          39       0.00      0.00      0.00         0\n",
      "          40       0.50      0.40      0.44        10\n",
      "          41       0.73      0.89      0.80         9\n",
      "          42       0.75      0.69      0.72        13\n",
      "          44       0.00      0.00      0.00         0\n",
      "          46       0.71      0.40      0.51        30\n",
      "          47       0.87      0.72      0.79        18\n",
      "          48       0.70      0.74      0.72        19\n",
      "          49       0.82      0.82      0.82        11\n",
      "          50       0.00      0.00      0.00         0\n",
      "          51       0.60      0.60      0.60         5\n",
      "          52       0.00      0.00      0.00         0\n",
      "          53       0.06      0.25      0.10         4\n",
      "          54       0.67      0.46      0.55        13\n",
      "          55       0.77      0.61      0.68        59\n",
      "          56       0.00      0.00      0.00         0\n",
      "          57       0.71      0.57      0.63        30\n",
      "          58       0.00      0.00      0.00         0\n",
      "          60       0.79      0.73      0.76        15\n",
      "          61       0.00      0.00      0.00         0\n",
      "          62       0.00      0.00      0.00         0\n",
      "\n",
      "    accuracy                           0.59       500\n",
      "   macro avg       0.38      0.40      0.37       500\n",
      "weighted avg       0.69      0.59      0.62       500\n",
      "\n",
      "Accuracy : 59.200\n",
      "F1 Score: 0.624\n",
      "Confusion Matrix: \n",
      "[[ 1  0  0 ...  0  0  0]\n",
      " [ 0  1  0 ...  0  0  0]\n",
      " [ 0  0 21 ...  0  0  0]\n",
      " ...\n",
      " [ 0  0  0 ... 11  1  1]\n",
      " [ 0  0  0 ...  0  0  0]\n",
      " [ 0  0  0 ...  0  0  0]]\n",
      "Epoch 1/5\n",
      "64/64 [==============================] - 31s 491ms/step - loss: 3.7399 - accuracy: 0.0768 - val_loss: 3.4993 - val_accuracy: 0.2378\n",
      "Epoch 2/5\n",
      "64/64 [==============================] - 31s 481ms/step - loss: 3.5950 - accuracy: 0.1232 - val_loss: 3.3395 - val_accuracy: 0.0644\n",
      "Epoch 3/5\n",
      "64/64 [==============================] - 36s 559ms/step - loss: 2.8321 - accuracy: 0.3168 - val_loss: 2.4063 - val_accuracy: 0.4111\n",
      "Epoch 4/5\n",
      "64/64 [==============================] - 36s 564ms/step - loss: 1.7738 - accuracy: 0.5802 - val_loss: 2.0540 - val_accuracy: 0.5467\n",
      "Epoch 5/5\n",
      "64/64 [==============================] - 35s 544ms/step - loss: 1.2123 - accuracy: 0.7111 - val_loss: 1.9809 - val_accuracy: 0.5400\n",
      "              precision    recall  f1-score   support\n",
      "\n",
      "           0       0.00      0.00      0.00         0\n",
      "           2       0.00      0.00      0.00         1\n",
      "           4       0.65      0.65      0.65        26\n",
      "           5       0.67      0.29      0.40        35\n",
      "           6       0.86      0.32      0.46        19\n",
      "           7       0.38      0.50      0.43         6\n",
      "           8       0.38      0.62      0.48         8\n",
      "          10       0.00      0.00      0.00         0\n",
      "          11       0.20      1.00      0.33         1\n",
      "          12       0.00      0.00      0.00         0\n",
      "          13       0.00      0.00      0.00         0\n",
      "          14       0.88      0.36      0.51        39\n",
      "          15       1.00      0.64      0.78        11\n",
      "          16       0.00      0.00      0.00         0\n",
      "          17       0.00      0.00      0.00         0\n",
      "          18       1.00      1.00      1.00         1\n",
      "          19       0.00      0.00      0.00         0\n",
      "          20       0.00      0.00      0.00         0\n",
      "          21       0.17      0.06      0.09        17\n",
      "          22       0.00      0.00      0.00         0\n",
      "          23       0.25      0.60      0.35         5\n",
      "          24       0.67      0.67      0.67         3\n",
      "          25       1.00      0.78      0.88         9\n",
      "          26       0.00      0.00      0.00         0\n",
      "          27       0.55      0.80      0.65        15\n",
      "          29       0.00      0.00      0.00         0\n",
      "          30       0.50      1.00      0.67         1\n",
      "          31       0.00      0.00      0.00         0\n",
      "          32       0.40      0.26      0.32        23\n",
      "          33       0.00      0.00      0.00         0\n",
      "          35       0.12      0.25      0.17         4\n",
      "          36       0.88      1.00      0.93         7\n",
      "          37       0.85      0.94      0.89        18\n",
      "          38       0.90      0.82      0.86        11\n",
      "          39       0.00      0.00      0.00         0\n",
      "          40       0.33      0.67      0.44         3\n",
      "          41       0.75      0.90      0.82        10\n",
      "          42       0.75      1.00      0.86         9\n",
      "          46       0.77      0.63      0.70        38\n",
      "          47       0.91      0.77      0.83        13\n",
      "          48       0.38      0.31      0.34        16\n",
      "          49       0.67      0.73      0.70        11\n",
      "          50       0.20      1.00      0.33         1\n",
      "          51       0.75      0.60      0.67        10\n",
      "          52       0.00      0.00      0.00         0\n",
      "          53       0.10      0.50      0.17         4\n",
      "          54       0.53      0.77      0.62        13\n",
      "          55       0.74      0.48      0.58        82\n",
      "          56       0.00      0.00      0.00         1\n",
      "          57       0.50      0.75      0.60        12\n",
      "          58       0.00      0.00      0.00         0\n",
      "          59       0.00      0.00      0.00         0\n",
      "          60       0.85      0.65      0.73        17\n",
      "          62       0.00      0.00      0.00         0\n",
      "\n",
      "    accuracy                           0.55       500\n",
      "   macro avg       0.38      0.41      0.37       500\n",
      "weighted avg       0.68      0.55      0.58       500\n",
      "\n",
      "Accuracy : 55.000\n",
      "F1 Score: 0.580\n",
      "Confusion Matrix: \n",
      "[[ 0  0  0 ...  0  0  0]\n",
      " [ 0  0  0 ...  0  0  0]\n",
      " [ 1  0 17 ...  0  0  0]\n",
      " ...\n",
      " [ 0  0  0 ...  0  0  0]\n",
      " [ 0  0  0 ...  1 11  1]\n",
      " [ 0  0  0 ...  0  0  0]]\n",
      "Epoch 1/5\n",
      "64/64 [==============================] - 31s 481ms/step - loss: 3.7547 - accuracy: 0.0802 - val_loss: 3.4125 - val_accuracy: 0.3044\n",
      "Epoch 2/5\n",
      "64/64 [==============================] - 33s 513ms/step - loss: 3.5631 - accuracy: 0.1227 - val_loss: 3.3667 - val_accuracy: 0.0622\n",
      "Epoch 3/5\n",
      "64/64 [==============================] - 32s 506ms/step - loss: 2.5388 - accuracy: 0.3953 - val_loss: 2.2605 - val_accuracy: 0.5044\n",
      "Epoch 4/5\n"
     ]
    },
    {
     "name": "stdout",
     "output_type": "stream",
     "text": [
      "64/64 [==============================] - 32s 505ms/step - loss: 1.5875 - accuracy: 0.6294 - val_loss: 1.9804 - val_accuracy: 0.5200\n",
      "Epoch 5/5\n",
      "64/64 [==============================] - 31s 491ms/step - loss: 1.0508 - accuracy: 0.7474 - val_loss: 1.8367 - val_accuracy: 0.5444\n",
      "              precision    recall  f1-score   support\n",
      "\n",
      "           0       0.00      0.00      0.00         2\n",
      "           1       0.00      0.00      0.00         0\n",
      "           2       0.33      0.50      0.40         2\n",
      "           4       0.85      0.74      0.79        31\n",
      "           5       0.70      0.61      0.65        23\n",
      "           6       0.50      1.00      0.67         2\n",
      "           7       0.50      1.00      0.67         1\n",
      "           8       0.60      0.38      0.46         8\n",
      "           9       0.00      0.00      0.00         0\n",
      "          11       0.33      0.09      0.14        11\n",
      "          12       0.00      0.00      0.00         0\n",
      "          13       0.00      0.00      0.00         0\n",
      "          14       0.89      0.59      0.71        27\n",
      "          15       0.62      0.83      0.71         6\n",
      "          16       0.00      0.00      0.00         0\n",
      "          17       0.00      0.00      0.00         1\n",
      "          18       1.00      1.00      1.00         2\n",
      "          19       0.00      0.00      0.00         2\n",
      "          21       0.33      0.20      0.25        10\n",
      "          22       0.33      1.00      0.50         1\n",
      "          23       0.62      0.83      0.71         6\n",
      "          24       0.57      0.80      0.67         5\n",
      "          25       0.81      0.87      0.84        15\n",
      "          27       0.86      0.50      0.63        24\n",
      "          28       0.00      0.00      0.00         0\n",
      "          29       0.00      0.00      0.00         0\n",
      "          30       0.33      1.00      0.50         1\n",
      "          31       0.00      0.00      0.00         0\n",
      "          32       0.32      0.62      0.42        13\n",
      "          33       0.33      0.33      0.33         3\n",
      "          34       0.00      0.00      0.00         0\n",
      "          35       0.43      0.60      0.50        10\n",
      "          36       1.00      0.50      0.67         8\n",
      "          37       0.90      0.87      0.88        30\n",
      "          38       0.64      1.00      0.78         7\n",
      "          39       0.00      0.00      0.00         0\n",
      "          40       0.67      0.46      0.55        13\n",
      "          41       0.58      0.64      0.61        11\n",
      "          42       0.85      0.85      0.85        13\n",
      "          43       0.00      0.00      0.00         0\n",
      "          46       0.65      0.53      0.59        32\n",
      "          47       1.00      0.78      0.88        18\n",
      "          48       0.47      0.64      0.54        11\n",
      "          49       0.92      0.92      0.92        12\n",
      "          50       0.00      0.00      0.00         0\n",
      "          51       0.50      0.75      0.60         4\n",
      "          52       0.00      0.00      0.00         0\n",
      "          53       0.38      0.19      0.25        16\n",
      "          54       0.81      0.62      0.70        21\n",
      "          55       0.75      0.66      0.70        64\n",
      "          56       0.00      0.00      0.00         0\n",
      "          57       0.64      0.50      0.56        18\n",
      "          58       0.00      0.00      0.00         0\n",
      "          60       0.93      0.88      0.90        16\n",
      "          61       0.00      0.00      0.00         0\n",
      "          62       0.00      0.00      0.00         0\n",
      "\n",
      "    accuracy                           0.63       500\n",
      "   macro avg       0.41      0.43      0.40       500\n",
      "weighted avg       0.71      0.63      0.65       500\n",
      "\n",
      "Accuracy : 63.000\n",
      "F1 Score: 0.655\n",
      "Confusion Matrix: \n",
      "[[ 0  0  0 ...  0  0  0]\n",
      " [ 0  0  0 ...  0  0  0]\n",
      " [ 0  0  1 ...  0  0  0]\n",
      " ...\n",
      " [ 0  0  0 ... 14  0  2]\n",
      " [ 0  0  0 ...  0  0  0]\n",
      " [ 0  0  0 ...  0  0  0]]\n",
      "Epoch 1/5\n",
      "64/64 [==============================] - 32s 495ms/step - loss: 3.7529 - accuracy: 0.0753 - val_loss: 3.5595 - val_accuracy: 0.0133\n",
      "Epoch 2/5\n",
      "64/64 [==============================] - 31s 490ms/step - loss: 3.6034 - accuracy: 0.1109 - val_loss: 3.4913 - val_accuracy: 0.0822\n",
      "Epoch 3/5\n",
      "64/64 [==============================] - 33s 515ms/step - loss: 2.8886 - accuracy: 0.2946 - val_loss: 2.3986 - val_accuracy: 0.4378\n",
      "Epoch 4/5\n",
      "64/64 [==============================] - 32s 497ms/step - loss: 1.8200 - accuracy: 0.5709 - val_loss: 2.1495 - val_accuracy: 0.4733\n",
      "Epoch 5/5\n",
      "64/64 [==============================] - 32s 508ms/step - loss: 1.1859 - accuracy: 0.7158 - val_loss: 2.0112 - val_accuracy: 0.5156\n",
      "              precision    recall  f1-score   support\n",
      "\n",
      "           0       0.14      0.33      0.20         3\n",
      "           2       0.00      0.00      0.00         2\n",
      "           3       0.00      0.00      0.00         0\n",
      "           4       0.77      0.90      0.83        41\n",
      "           5       0.76      0.43      0.55        30\n",
      "           6       0.67      1.00      0.80         6\n",
      "           7       0.20      0.17      0.18         6\n",
      "           8       0.44      0.33      0.38        12\n",
      "           9       0.00      0.00      0.00         0\n",
      "          10       0.00      0.00      0.00         0\n",
      "          11       0.17      1.00      0.29         1\n",
      "          12       0.00      0.00      0.00         1\n",
      "          13       0.00      0.00      0.00         0\n",
      "          14       0.75      0.60      0.67        20\n",
      "          15       0.88      0.58      0.70        12\n",
      "          16       0.00      0.00      0.00         0\n",
      "          17       0.00      0.00      0.00         3\n",
      "          18       0.00      0.00      0.00         0\n",
      "          19       0.00      0.00      0.00         1\n",
      "          20       0.00      0.00      0.00         0\n",
      "          21       0.11      0.50      0.18         2\n",
      "          22       0.25      1.00      0.40         2\n",
      "          23       0.29      0.67      0.40         3\n",
      "          24       1.00      0.29      0.44        14\n",
      "          25       0.40      0.67      0.50         3\n",
      "          26       0.00      0.00      0.00         0\n",
      "          27       0.50      0.50      0.50        10\n",
      "          29       0.00      0.00      0.00         0\n",
      "          30       0.33      0.50      0.40         2\n",
      "          31       0.00      0.00      0.00         0\n",
      "          32       0.40      0.10      0.16        58\n",
      "          33       0.00      0.00      0.00         0\n",
      "          35       0.17      0.25      0.20         8\n",
      "          36       1.00      0.73      0.84        11\n",
      "          37       0.76      0.72      0.74        18\n",
      "          38       1.00      0.75      0.86         8\n",
      "          39       0.33      1.00      0.50         2\n",
      "          40       0.75      0.50      0.60         6\n",
      "          41       0.73      0.89      0.80         9\n",
      "          42       0.77      0.45      0.57        22\n",
      "          43       0.00      0.00      0.00         0\n",
      "          45       0.00      0.00      0.00         0\n",
      "          46       0.56      0.71      0.63        14\n",
      "          47       0.69      0.75      0.72        12\n",
      "          48       0.56      0.45      0.50        22\n",
      "          49       0.90      0.60      0.72        15\n",
      "          50       0.00      0.00      0.00         0\n",
      "          51       0.62      0.71      0.67         7\n",
      "          53       0.14      0.25      0.18         8\n",
      "          54       0.52      0.67      0.59        18\n",
      "          55       0.68      0.52      0.59        62\n",
      "          56       0.00      0.00      0.00         0\n",
      "          57       0.45      0.68      0.54        19\n",
      "          58       0.00      0.00      0.00         0\n",
      "          59       0.00      0.00      0.00         0\n",
      "          60       0.78      1.00      0.88         7\n",
      "          61       0.00      0.00      0.00         0\n",
      "          62       0.00      0.00      0.00         0\n",
      "\n",
      "    accuracy                           0.53       500\n",
      "   macro avg       0.34      0.37      0.32       500\n",
      "weighted avg       0.62      0.53      0.55       500\n",
      "\n",
      "Accuracy : 53.200\n",
      "F1 Score: 0.547\n",
      "Confusion Matrix: \n",
      "[[1 1 0 ... 0 0 0]\n",
      " [0 0 0 ... 0 0 0]\n",
      " [0 0 0 ... 0 0 0]\n",
      " ...\n",
      " [0 0 0 ... 7 0 0]\n",
      " [0 0 0 ... 0 0 0]\n",
      " [0 0 0 ... 0 0 0]]\n",
      "Epoch 1/5\n",
      "64/64 [==============================] - 31s 488ms/step - loss: 3.7566 - accuracy: 0.0743 - val_loss: 3.5837 - val_accuracy: 0.0111\n",
      "Epoch 2/5\n",
      "64/64 [==============================] - 31s 486ms/step - loss: 3.5746 - accuracy: 0.1225 - val_loss: 3.2601 - val_accuracy: 0.3044\n",
      "Epoch 3/5\n",
      "64/64 [==============================] - 33s 512ms/step - loss: 2.7812 - accuracy: 0.3370 - val_loss: 2.4445 - val_accuracy: 0.4689\n",
      "Epoch 4/5\n",
      "64/64 [==============================] - 31s 486ms/step - loss: 1.7507 - accuracy: 0.5862 - val_loss: 2.2644 - val_accuracy: 0.4867\n",
      "Epoch 5/5\n",
      "64/64 [==============================] - 32s 494ms/step - loss: 1.1632 - accuracy: 0.7185 - val_loss: 2.1358 - val_accuracy: 0.5022\n",
      "              precision    recall  f1-score   support\n",
      "\n",
      "           0       0.00      0.00      0.00         1\n",
      "           2       0.00      0.00      0.00         0\n",
      "           4       0.93      0.36      0.51        76\n",
      "           5       0.50      1.00      0.67         9\n",
      "           6       0.82      0.90      0.86        10\n",
      "           7       0.33      0.50      0.40         2\n",
      "           8       0.43      0.60      0.50         5\n",
      "           9       0.00      0.00      0.00         0\n",
      "          10       0.00      0.00      0.00         0\n",
      "          11       0.00      0.00      0.00         2\n",
      "          13       0.50      1.00      0.67         1\n",
      "          14       0.90      0.61      0.73        44\n",
      "          15       0.62      0.50      0.56        10\n",
      "          16       0.00      0.00      0.00         0\n",
      "          17       0.00      0.00      0.00         1\n",
      "          18       0.50      1.00      0.67         2\n",
      "          19       0.00      0.00      0.00         1\n",
      "          21       0.11      1.00      0.20         1\n",
      "          22       0.00      0.00      0.00         0\n",
      "          23       0.07      1.00      0.12         1\n",
      "          24       0.00      0.00      0.00         0\n",
      "          25       0.92      0.92      0.92        12\n",
      "          26       0.00      0.00      0.00         0\n",
      "          27       0.50      0.31      0.38        13\n",
      "          28       0.00      0.00      0.00         0\n",
      "          30       0.00      0.00      0.00         1\n",
      "          32       0.18      1.00      0.31         4\n",
      "          33       0.00      0.00      0.00         0\n",
      "          35       0.00      0.00      0.00         1\n",
      "          36       1.00      0.86      0.92        14\n",
      "          37       1.00      0.48      0.65        31\n",
      "          38       1.00      0.75      0.86        12\n",
      "          39       0.00      0.00      0.00         0\n",
      "          40       0.17      0.11      0.13         9\n",
      "          41       0.71      0.62      0.67         8\n",
      "          42       0.67      0.73      0.70        11\n",
      "          43       0.00      0.00      0.00         0\n",
      "          46       0.73      0.52      0.60        31\n",
      "          47       0.67      0.83      0.74        12\n",
      "          48       0.53      0.62      0.57        13\n",
      "          49       0.95      0.68      0.79        28\n",
      "          50       0.00      0.00      0.00         0\n",
      "          51       0.22      0.50      0.31         4\n",
      "          52       0.00      0.00      0.00         0\n",
      "          53       0.00      0.00      0.00         6\n",
      "          54       0.71      0.59      0.65        17\n",
      "          55       0.69      0.50      0.58        66\n",
      "          56       0.00      0.00      0.00         0\n",
      "          57       0.56      0.64      0.60        28\n",
      "          58       0.00      0.00      0.00         0\n",
      "          59       0.00      0.00      0.00         0\n",
      "          60       0.92      0.85      0.88        13\n",
      "          61       0.00      0.00      0.00         0\n",
      "          62       0.00      0.00      0.00         0\n",
      "\n",
      "    accuracy                           0.56       500\n",
      "   macro avg       0.33      0.37      0.32       500\n",
      "weighted avg       0.75      0.56      0.62       500\n",
      "\n",
      "Accuracy : 56.400\n",
      "F1 Score: 0.615\n",
      "Confusion Matrix: \n",
      "[[ 0  0  0 ...  0  0  0]\n",
      " [ 0  0  0 ...  0  0  0]\n",
      " [ 0  3 27 ...  1  0  0]\n",
      " ...\n",
      " [ 0  0  0 ... 11  0  1]\n",
      " [ 0  0  0 ...  0  0  0]\n",
      " [ 0  0  0 ...  0  0  0]]\n",
      "Epoch 1/5\n",
      "64/64 [==============================] - 32s 496ms/step - loss: 3.7574 - accuracy: 0.0733 - val_loss: 3.4277 - val_accuracy: 0.3178\n",
      "Epoch 2/5\n",
      "64/64 [==============================] - 32s 494ms/step - loss: 3.5914 - accuracy: 0.1269 - val_loss: 3.1765 - val_accuracy: 0.3333\n",
      "Epoch 3/5\n",
      "64/64 [==============================] - 31s 480ms/step - loss: 2.6469 - accuracy: 0.3756 - val_loss: 2.4678 - val_accuracy: 0.4444\n",
      "Epoch 4/5\n",
      "64/64 [==============================] - 32s 494ms/step - loss: 1.6317 - accuracy: 0.6131 - val_loss: 1.8707 - val_accuracy: 0.5311\n",
      "Epoch 5/5\n",
      "64/64 [==============================] - 32s 500ms/step - loss: 1.0717 - accuracy: 0.7422 - val_loss: 1.9683 - val_accuracy: 0.5111\n",
      "              precision    recall  f1-score   support\n",
      "\n",
      "           0       0.00      0.00      0.00         1\n",
      "           1       0.00      0.00      0.00         0\n",
      "           2       0.33      0.33      0.33         3\n",
      "           3       0.00      0.00      0.00         0\n",
      "           4       0.74      0.79      0.77        29\n",
      "           5       0.60      0.56      0.58        27\n",
      "           6       0.83      0.62      0.71         8\n",
      "           7       0.50      0.12      0.20         8\n",
      "           8       0.88      0.70      0.78        10\n",
      "           9       0.00      0.00      0.00         0\n",
      "          11       0.00      0.00      0.00         0\n",
      "          12       0.00      0.00      0.00         1\n",
      "          13       0.50      1.00      0.67         2\n",
      "          14       0.95      0.61      0.74        33\n",
      "          15       0.88      0.58      0.70        12\n",
      "          16       0.00      0.00      0.00         0\n",
      "          17       0.00      0.00      0.00         0\n",
      "          18       0.67      0.50      0.57         4\n",
      "          19       0.00      0.00      0.00         2\n",
      "          20       0.00      0.00      0.00         1\n",
      "          21       0.09      0.20      0.13         5\n",
      "          22       0.50      0.25      0.33         4\n",
      "          23       0.45      0.71      0.56         7\n",
      "          24       0.25      0.50      0.33         2\n",
      "          25       0.75      0.60      0.67        10\n",
      "          26       0.00      0.00      0.00         0\n",
      "          27       0.53      0.50      0.51        20\n",
      "          28       0.00      0.00      0.00         0\n",
      "          29       0.00      0.00      0.00         0\n",
      "          30       1.00      0.50      0.67         2\n",
      "          31       0.00      0.00      0.00         0\n",
      "          32       0.35      0.44      0.39        16\n",
      "          33       0.25      0.14      0.18         7\n",
      "          35       0.33      0.20      0.25         5\n",
      "          36       0.92      1.00      0.96        12\n",
      "          37       0.85      0.81      0.83        27\n",
      "          38       0.83      1.00      0.91         5\n",
      "          39       0.00      0.00      0.00         0\n",
      "          40       1.00      0.33      0.50        12\n",
      "          41       0.83      0.67      0.74        15\n",
      "          42       0.83      0.50      0.62        10\n",
      "          43       0.00      0.00      0.00         0\n",
      "          45       0.00      0.00      0.00         0\n",
      "          46       0.66      0.61      0.63        31\n",
      "          47       0.75      0.69      0.72        13\n",
      "          48       0.75      0.40      0.52        15\n",
      "          49       0.56      0.82      0.67        11\n",
      "          50       0.33      0.50      0.40         2\n",
      "          51       0.67      0.67      0.67         3\n",
      "          53       0.22      0.44      0.30         9\n",
      "          54       0.67      0.57      0.62        21\n",
      "          55       0.63      0.57      0.60        60\n",
      "          56       0.67      1.00      0.80         2\n",
      "          57       0.65      0.89      0.76        19\n",
      "          58       0.00      0.00      0.00         0\n",
      "          59       0.00      0.00      0.00         0\n",
      "          60       0.90      0.75      0.82        12\n",
      "          62       0.50      0.50      0.50         2\n",
      "\n",
      "    accuracy                           0.60       500\n",
      "   macro avg       0.42      0.39      0.39       500\n",
      "weighted avg       0.68      0.60      0.62       500\n",
      "\n",
      "Accuracy : 60.000\n",
      "F1 Score: 0.622\n",
      "Confusion Matrix: \n",
      "[[0 0 0 ... 0 0 0]\n",
      " [0 0 0 ... 0 0 0]\n",
      " [0 0 1 ... 0 0 0]\n",
      " ...\n",
      " [0 0 0 ... 0 0 0]\n",
      " [0 0 0 ... 1 9 1]\n",
      " [0 0 0 ... 0 0 1]]\n",
      "Epoch 1/5\n"
     ]
    },
    {
     "name": "stdout",
     "output_type": "stream",
     "text": [
      "64/64 [==============================] - 30s 470ms/step - loss: 3.7498 - accuracy: 0.0689 - val_loss: 3.4182 - val_accuracy: 0.0133\n",
      "Epoch 2/5\n",
      "64/64 [==============================] - 32s 507ms/step - loss: 3.5715 - accuracy: 0.1190 - val_loss: 3.1746 - val_accuracy: 0.3044\n",
      "Epoch 3/5\n",
      "64/64 [==============================] - 32s 503ms/step - loss: 2.5908 - accuracy: 0.3864 - val_loss: 2.1742 - val_accuracy: 0.5089\n",
      "Epoch 4/5\n",
      "64/64 [==============================] - 32s 503ms/step - loss: 1.5587 - accuracy: 0.6299 - val_loss: 1.9228 - val_accuracy: 0.5111\n",
      "Epoch 5/5\n",
      "64/64 [==============================] - 32s 499ms/step - loss: 1.0196 - accuracy: 0.7556 - val_loss: 1.8886 - val_accuracy: 0.5667\n",
      "              precision    recall  f1-score   support\n",
      "\n",
      "           0       1.00      0.67      0.80         3\n",
      "           2       0.12      0.50      0.20         2\n",
      "           4       0.80      0.80      0.80        40\n",
      "           5       0.67      0.64      0.65        22\n",
      "           6       0.60      1.00      0.75         3\n",
      "           7       0.00      0.00      0.00         3\n",
      "           8       0.75      0.55      0.63        11\n",
      "           9       0.00      0.00      0.00         0\n",
      "          10       0.00      0.00      0.00         0\n",
      "          11       0.43      0.60      0.50         5\n",
      "          12       0.00      0.00      0.00         0\n",
      "          14       0.77      0.65      0.71        26\n",
      "          15       0.88      0.74      0.80        19\n",
      "          16       0.00      0.00      0.00         1\n",
      "          17       0.00      0.00      0.00         0\n",
      "          18       1.00      1.00      1.00         1\n",
      "          19       0.00      0.00      0.00         1\n",
      "          20       0.00      0.00      0.00         0\n",
      "          21       0.12      0.05      0.07        20\n",
      "          22       0.17      1.00      0.29         1\n",
      "          23       0.44      1.00      0.62         4\n",
      "          24       0.25      1.00      0.40         1\n",
      "          25       0.93      0.93      0.93        14\n",
      "          26       0.50      1.00      0.67         1\n",
      "          27       0.50      0.60      0.55        10\n",
      "          28       0.00      0.00      0.00         0\n",
      "          29       0.00      0.00      0.00         0\n",
      "          30       0.75      1.00      0.86         3\n",
      "          31       0.00      0.00      0.00         0\n",
      "          32       0.50      0.78      0.61         9\n",
      "          33       0.20      1.00      0.33         1\n",
      "          35       0.40      0.40      0.40         5\n",
      "          36       1.00      0.78      0.88         9\n",
      "          37       0.93      0.78      0.85        18\n",
      "          38       0.75      0.86      0.80         7\n",
      "          39       0.00      0.00      0.00         1\n",
      "          40       0.44      0.50      0.47         8\n",
      "          41       0.75      0.60      0.67        10\n",
      "          42       0.80      0.44      0.57         9\n",
      "          43       0.00      0.00      0.00         0\n",
      "          44       0.00      0.00      0.00         0\n",
      "          46       0.65      0.54      0.59        28\n",
      "          47       1.00      0.68      0.81        22\n",
      "          48       0.50      0.46      0.48        13\n",
      "          49       0.93      0.74      0.82        19\n",
      "          50       0.00      0.00      0.00         0\n",
      "          51       0.71      0.71      0.71         7\n",
      "          52       0.00      0.00      0.00         0\n",
      "          53       0.29      0.20      0.24        25\n",
      "          54       0.71      0.62      0.67        16\n",
      "          55       0.67      0.56      0.61        64\n",
      "          56       0.00      0.00      0.00         1\n",
      "          57       0.60      0.65      0.63        23\n",
      "          58       0.00      0.00      0.00         0\n",
      "          60       0.71      0.91      0.80        11\n",
      "          62       0.33      0.33      0.33         3\n",
      "\n",
      "    accuracy                           0.61       500\n",
      "   macro avg       0.42      0.47      0.42       500\n",
      "weighted avg       0.67      0.61      0.63       500\n",
      "\n",
      "Accuracy : 61.200\n",
      "F1 Score: 0.630\n",
      "Confusion Matrix: \n",
      "[[ 2  0  0 ...  0  0  0]\n",
      " [ 0  1  0 ...  0  0  0]\n",
      " [ 0  0 32 ...  0  0  0]\n",
      " ...\n",
      " [ 0  0  0 ...  0  0  0]\n",
      " [ 0  0  0 ...  0 10  1]\n",
      " [ 0  0  0 ...  0  2  1]]\n",
      "Mean 0.62 Std 0.03\n",
      "Time: 1706.2459223270416 seconds\n"
     ]
    }
   ],
   "source": [
    "start = time.time()\n",
    "evaluate_lstm(seqs, seqs_mat, y_mat_2, 63)\n",
    "print(f'Time: {time.time() - start} seconds')"
   ]
  },
  {
   "cell_type": "markdown",
   "metadata": {},
   "source": [
    "### 4.4. BERT Based Classifier"
   ]
  },
  {
   "cell_type": "markdown",
   "metadata": {},
   "source": [
    "##### 4.4.1. Label Encoding for both classes `class1` and `class2`"
   ]
  },
  {
   "cell_type": "code",
   "execution_count": 32,
   "metadata": {},
   "outputs": [
    {
     "name": "stdout",
     "output_type": "stream",
     "text": [
      "COURSE CLASSES\n"
     ]
    },
    {
     "data": {
      "text/plain": [
       "{'TTD': 0, 'TGU': 1, 'ACM': 2, 'TRS': 3, 'WTH': 4, 'FOD': 5, 'ENT': 6}"
      ]
     },
     "execution_count": 32,
     "metadata": {},
     "output_type": "execute_result"
    }
   ],
   "source": [
    "possible_labels_1 = df['class1'].unique()\n",
    "possible_labels_2 = df['class2'].unique()\n",
    "\n",
    "label_dict_1 = {}\n",
    "for index, possible_label in enumerate(possible_labels_1):\n",
    "    label_dict_1[possible_label] = index\n",
    "print('COURSE CLASSES')\n",
    "label_dict_1"
   ]
  },
  {
   "cell_type": "code",
   "execution_count": 33,
   "metadata": {},
   "outputs": [
    {
     "name": "stdout",
     "output_type": "stream",
     "text": [
      "FINE CLASSES\n"
     ]
    },
    {
     "data": {
      "text/plain": [
       "{'TTDSIG': 0,\n",
       " 'TTDOTH': 1,\n",
       " 'TGUHEA': 2,\n",
       " 'ACMOTH': 3,\n",
       " 'TRSTRN': 4,\n",
       " 'TGUBAN': 5,\n",
       " 'WTHTMP': 6,\n",
       " 'TGUNEI': 7,\n",
       " 'TTDSPO': 8,\n",
       " 'ACMAPA': 9,\n",
       " 'TRSOTH': 10,\n",
       " 'TRSAIR': 11,\n",
       " 'TRSROU': 12,\n",
       " 'TGUOTH': 13,\n",
       " 'ACMRES': 14,\n",
       " 'ACMBUN': 15,\n",
       " 'TRSCRS': 16,\n",
       " 'WTHDRC': 17,\n",
       " 'TRSRNT': 18,\n",
       " 'TGUTOP': 19,\n",
       " 'FODOTH': 20,\n",
       " 'TGUVIS': 21,\n",
       " 'FODAUT': 22,\n",
       " 'TTDTRI': 23,\n",
       " 'TGUPLN': 24,\n",
       " 'TRSTAX': 25,\n",
       " 'WTHOTH': 26,\n",
       " 'TRSBUS': 27,\n",
       " 'ACMHOT': 28,\n",
       " 'TGULUG': 29,\n",
       " 'FODBAK': 30,\n",
       " 'TTDSPA': 31,\n",
       " 'FODBRE': 32,\n",
       " 'TGUATT': 33,\n",
       " 'ENTCLB': 34,\n",
       " 'TGUAVE': 35,\n",
       " 'TGUTEL': 36,\n",
       " 'TGUCIG': 37,\n",
       " 'TTDSHP': 38,\n",
       " 'TRSTCD': 39,\n",
       " 'ACMBEA': 40,\n",
       " 'FODCOT': 41,\n",
       " 'TGUAPT': 42,\n",
       " 'TRSLIC': 43,\n",
       " 'TGULAU': 44,\n",
       " 'TTDGYM': 45,\n",
       " 'FODCAT': 46,\n",
       " 'FODBAR': 47,\n",
       " 'TGUHOL': 48,\n",
       " 'ENTFES': 49,\n",
       " 'TGURUL': 50,\n",
       " 'TGURES': 51,\n",
       " 'ACMCAR': 52,\n",
       " 'FODFMA': 53,\n",
       " 'ENTSHW': 54,\n",
       " 'TRSGAS': 55,\n",
       " 'WTHSNW': 56,\n",
       " 'ENTMUS': 57,\n",
       " 'ENTSPO': 58,\n",
       " 'TGUWEB': 59,\n",
       " 'TRSDRV': 60,\n",
       " 'FODFCA': 61,\n",
       " 'ENTOTH': 62}"
      ]
     },
     "execution_count": 33,
     "metadata": {},
     "output_type": "execute_result"
    }
   ],
   "source": [
    "print('FINE CLASSES')\n",
    "label_dict_2 = {}\n",
    "for index, possible_label in enumerate(possible_labels_2):\n",
    "    label_dict_2[possible_label] = index\n",
    "label_dict_2"
   ]
  },
  {
   "cell_type": "code",
   "execution_count": 34,
   "metadata": {},
   "outputs": [
    {
     "data": {
      "text/html": [
       "<div>\n",
       "<style scoped>\n",
       "    .dataframe tbody tr th:only-of-type {\n",
       "        vertical-align: middle;\n",
       "    }\n",
       "\n",
       "    .dataframe tbody tr th {\n",
       "        vertical-align: top;\n",
       "    }\n",
       "\n",
       "    .dataframe thead th {\n",
       "        text-align: right;\n",
       "    }\n",
       "</style>\n",
       "<table border=\"1\" class=\"dataframe\">\n",
       "  <thead>\n",
       "    <tr style=\"text-align: right;\">\n",
       "      <th></th>\n",
       "      <th>text</th>\n",
       "      <th>class1</th>\n",
       "      <th>class2</th>\n",
       "      <th>preprocessed_text</th>\n",
       "      <th>lemmatized</th>\n",
       "      <th>class1_enc</th>\n",
       "      <th>class2_enc</th>\n",
       "    </tr>\n",
       "  </thead>\n",
       "  <tbody>\n",
       "    <tr>\n",
       "      <th>0</th>\n",
       "      <td>What are the special things we (husband and me...</td>\n",
       "      <td>TTD</td>\n",
       "      <td>TTDSIG</td>\n",
       "      <td>special things husband day stay cape town</td>\n",
       "      <td>special things husband day stay cape town</td>\n",
       "      <td>0</td>\n",
       "      <td>0</td>\n",
       "    </tr>\n",
       "    <tr>\n",
       "      <th>1</th>\n",
       "      <td>What are the companies which organize shark fe...</td>\n",
       "      <td>TTD</td>\n",
       "      <td>TTDOTH</td>\n",
       "      <td>companies organize shark feeding events scuba ...</td>\n",
       "      <td>company organize shark feed events scuba divers</td>\n",
       "      <td>0</td>\n",
       "      <td>1</td>\n",
       "    </tr>\n",
       "    <tr>\n",
       "      <th>2</th>\n",
       "      <td>Is it safe for female traveller to go alone to...</td>\n",
       "      <td>TGU</td>\n",
       "      <td>TGUHEA</td>\n",
       "      <td>safe female traveller go alone cape town</td>\n",
       "      <td>safe female traveller go alone cape town</td>\n",
       "      <td>1</td>\n",
       "      <td>2</td>\n",
       "    </tr>\n",
       "    <tr>\n",
       "      <th>3</th>\n",
       "      <td>What are the best places around Cape Town for ...</td>\n",
       "      <td>TTD</td>\n",
       "      <td>TTDSIG</td>\n",
       "      <td>best places around cape town safari</td>\n",
       "      <td>best place around cape town safari</td>\n",
       "      <td>0</td>\n",
       "      <td>0</td>\n",
       "    </tr>\n",
       "    <tr>\n",
       "      <th>4</th>\n",
       "      <td>What are the best places to stay for a family ...</td>\n",
       "      <td>ACM</td>\n",
       "      <td>ACMOTH</td>\n",
       "      <td>best places stay family stay away nightlife</td>\n",
       "      <td>best place stay family stay away nightlife</td>\n",
       "      <td>2</td>\n",
       "      <td>3</td>\n",
       "    </tr>\n",
       "    <tr>\n",
       "      <th>5</th>\n",
       "      <td>What are the train services that travels from ...</td>\n",
       "      <td>TRS</td>\n",
       "      <td>TRSTRN</td>\n",
       "      <td>train services travels cape town oudtshoorn</td>\n",
       "      <td>train service travel cape town oudtshoorn</td>\n",
       "      <td>3</td>\n",
       "      <td>4</td>\n",
       "    </tr>\n",
       "    <tr>\n",
       "      <th>6</th>\n",
       "      <td>What are the best places to spend about 2 week...</td>\n",
       "      <td>ACM</td>\n",
       "      <td>ACMOTH</td>\n",
       "      <td>best places spend weeks relaxing honeymoon sou...</td>\n",
       "      <td>best place spend weeks relax honeymoon south a...</td>\n",
       "      <td>2</td>\n",
       "      <td>3</td>\n",
       "    </tr>\n",
       "    <tr>\n",
       "      <th>7</th>\n",
       "      <td>Can we use travellers cheques and credit cards...</td>\n",
       "      <td>TGU</td>\n",
       "      <td>TGUBAN</td>\n",
       "      <td>use travellers cheques credit cards cape town</td>\n",
       "      <td>use travellers cheque credit card cape town</td>\n",
       "      <td>1</td>\n",
       "      <td>5</td>\n",
       "    </tr>\n",
       "    <tr>\n",
       "      <th>8</th>\n",
       "      <td>Is it warm enough to swim in early September i...</td>\n",
       "      <td>WTH</td>\n",
       "      <td>WTHTMP</td>\n",
       "      <td>warm enough swim early september cape town</td>\n",
       "      <td>warm enough swim early september cape town</td>\n",
       "      <td>4</td>\n",
       "      <td>6</td>\n",
       "    </tr>\n",
       "    <tr>\n",
       "      <th>9</th>\n",
       "      <td>What are the best beaches for shelling in Cape...</td>\n",
       "      <td>TTD</td>\n",
       "      <td>TTDSIG</td>\n",
       "      <td>best beaches shelling capetown</td>\n",
       "      <td>best beach shell capetown</td>\n",
       "      <td>0</td>\n",
       "      <td>0</td>\n",
       "    </tr>\n",
       "  </tbody>\n",
       "</table>\n",
       "</div>"
      ],
      "text/plain": [
       "                                                text class1  class2  \\\n",
       "0  What are the special things we (husband and me...    TTD  TTDSIG   \n",
       "1  What are the companies which organize shark fe...    TTD  TTDOTH   \n",
       "2  Is it safe for female traveller to go alone to...    TGU  TGUHEA   \n",
       "3  What are the best places around Cape Town for ...    TTD  TTDSIG   \n",
       "4  What are the best places to stay for a family ...    ACM  ACMOTH   \n",
       "5  What are the train services that travels from ...    TRS  TRSTRN   \n",
       "6  What are the best places to spend about 2 week...    ACM  ACMOTH   \n",
       "7  Can we use travellers cheques and credit cards...    TGU  TGUBAN   \n",
       "8  Is it warm enough to swim in early September i...    WTH  WTHTMP   \n",
       "9  What are the best beaches for shelling in Cape...    TTD  TTDSIG   \n",
       "\n",
       "                                   preprocessed_text  \\\n",
       "0          special things husband day stay cape town   \n",
       "1  companies organize shark feeding events scuba ...   \n",
       "2           safe female traveller go alone cape town   \n",
       "3                best places around cape town safari   \n",
       "4        best places stay family stay away nightlife   \n",
       "5        train services travels cape town oudtshoorn   \n",
       "6  best places spend weeks relaxing honeymoon sou...   \n",
       "7      use travellers cheques credit cards cape town   \n",
       "8         warm enough swim early september cape town   \n",
       "9                     best beaches shelling capetown   \n",
       "\n",
       "                                          lemmatized  class1_enc  class2_enc  \n",
       "0          special things husband day stay cape town           0           0  \n",
       "1    company organize shark feed events scuba divers           0           1  \n",
       "2           safe female traveller go alone cape town           1           2  \n",
       "3                 best place around cape town safari           0           0  \n",
       "4         best place stay family stay away nightlife           2           3  \n",
       "5          train service travel cape town oudtshoorn           3           4  \n",
       "6  best place spend weeks relax honeymoon south a...           2           3  \n",
       "7        use travellers cheque credit card cape town           1           5  \n",
       "8         warm enough swim early september cape town           4           6  \n",
       "9                          best beach shell capetown           0           0  "
      ]
     },
     "execution_count": 34,
     "metadata": {},
     "output_type": "execute_result"
    }
   ],
   "source": [
    "df['class1_enc'] = df.class1.replace(label_dict_1)\n",
    "df['class2_enc'] = df.class2.replace(label_dict_2)\n",
    "df.head(10)"
   ]
  },
  {
   "cell_type": "markdown",
   "metadata": {},
   "source": [
    "##### 4.4.2. Train and Validation Split"
   ]
  },
  {
   "cell_type": "code",
   "execution_count": 35,
   "metadata": {},
   "outputs": [],
   "source": [
    "X_train_1, X_val_1, y_train_1, y_val_1 = train_test_split(df.index.values, \n",
    "                                                  df.class1_enc.values, \n",
    "                                                  test_size=0.15, \n",
    "                                                  random_state=42, \n",
    "                                                  stratify=df.class1_enc.values)\n",
    "\n",
    "X_train_2, X_val_2, y_train_2, y_val_2 = train_test_split(df.index.values, \n",
    "                                                  df.class2_enc.values, \n",
    "                                                  test_size=0.15, \n",
    "                                                  random_state=42, \n",
    "                                                  stratify=df.class2_enc.values)\n",
    "\n",
    "df['data_type'] = ['not_set']*df.shape[0]\n",
    "\n",
    "df.loc[X_train_1, 'data_type'] = 'train'\n",
    "df.loc[X_val_1, 'data_type'] = 'val'\n",
    "\n",
    "df.loc[X_train_2, 'data_type'] = 'train'\n",
    "df.loc[X_val_2, 'data_type'] = 'val'"
   ]
  },
  {
   "cell_type": "code",
   "execution_count": 36,
   "metadata": {},
   "outputs": [
    {
     "data": {
      "text/html": [
       "<div>\n",
       "<style scoped>\n",
       "    .dataframe tbody tr th:only-of-type {\n",
       "        vertical-align: middle;\n",
       "    }\n",
       "\n",
       "    .dataframe tbody tr th {\n",
       "        vertical-align: top;\n",
       "    }\n",
       "\n",
       "    .dataframe thead th {\n",
       "        text-align: right;\n",
       "    }\n",
       "</style>\n",
       "<table border=\"1\" class=\"dataframe\">\n",
       "  <thead>\n",
       "    <tr style=\"text-align: right;\">\n",
       "      <th></th>\n",
       "      <th></th>\n",
       "      <th></th>\n",
       "      <th>text</th>\n",
       "      <th>class2</th>\n",
       "      <th>preprocessed_text</th>\n",
       "      <th>lemmatized</th>\n",
       "      <th>class2_enc</th>\n",
       "    </tr>\n",
       "    <tr>\n",
       "      <th>class1</th>\n",
       "      <th>class1_enc</th>\n",
       "      <th>data_type</th>\n",
       "      <th></th>\n",
       "      <th></th>\n",
       "      <th></th>\n",
       "      <th></th>\n",
       "      <th></th>\n",
       "    </tr>\n",
       "  </thead>\n",
       "  <tbody>\n",
       "    <tr>\n",
       "      <th rowspan=\"2\" valign=\"top\">ACM</th>\n",
       "      <th rowspan=\"2\" valign=\"top\">2</th>\n",
       "      <th>train</th>\n",
       "      <td>612</td>\n",
       "      <td>612</td>\n",
       "      <td>612</td>\n",
       "      <td>612</td>\n",
       "      <td>612</td>\n",
       "    </tr>\n",
       "    <tr>\n",
       "      <th>val</th>\n",
       "      <td>108</td>\n",
       "      <td>108</td>\n",
       "      <td>108</td>\n",
       "      <td>108</td>\n",
       "      <td>108</td>\n",
       "    </tr>\n",
       "    <tr>\n",
       "      <th rowspan=\"2\" valign=\"top\">ENT</th>\n",
       "      <th rowspan=\"2\" valign=\"top\">6</th>\n",
       "      <th>train</th>\n",
       "      <td>184</td>\n",
       "      <td>184</td>\n",
       "      <td>184</td>\n",
       "      <td>184</td>\n",
       "      <td>184</td>\n",
       "    </tr>\n",
       "    <tr>\n",
       "      <th>val</th>\n",
       "      <td>32</td>\n",
       "      <td>32</td>\n",
       "      <td>32</td>\n",
       "      <td>32</td>\n",
       "      <td>32</td>\n",
       "    </tr>\n",
       "    <tr>\n",
       "      <th rowspan=\"2\" valign=\"top\">FOD</th>\n",
       "      <th rowspan=\"2\" valign=\"top\">5</th>\n",
       "      <th>train</th>\n",
       "      <td>442</td>\n",
       "      <td>442</td>\n",
       "      <td>442</td>\n",
       "      <td>442</td>\n",
       "      <td>442</td>\n",
       "    </tr>\n",
       "    <tr>\n",
       "      <th>val</th>\n",
       "      <td>79</td>\n",
       "      <td>79</td>\n",
       "      <td>79</td>\n",
       "      <td>79</td>\n",
       "      <td>79</td>\n",
       "    </tr>\n",
       "    <tr>\n",
       "      <th rowspan=\"2\" valign=\"top\">TGU</th>\n",
       "      <th rowspan=\"2\" valign=\"top\">1</th>\n",
       "      <th>train</th>\n",
       "      <td>1038</td>\n",
       "      <td>1038</td>\n",
       "      <td>1038</td>\n",
       "      <td>1038</td>\n",
       "      <td>1038</td>\n",
       "    </tr>\n",
       "    <tr>\n",
       "      <th>val</th>\n",
       "      <td>182</td>\n",
       "      <td>182</td>\n",
       "      <td>182</td>\n",
       "      <td>182</td>\n",
       "      <td>182</td>\n",
       "    </tr>\n",
       "    <tr>\n",
       "      <th rowspan=\"2\" valign=\"top\">TRS</th>\n",
       "      <th rowspan=\"2\" valign=\"top\">3</th>\n",
       "      <th>train</th>\n",
       "      <td>860</td>\n",
       "      <td>860</td>\n",
       "      <td>860</td>\n",
       "      <td>860</td>\n",
       "      <td>860</td>\n",
       "    </tr>\n",
       "    <tr>\n",
       "      <th>val</th>\n",
       "      <td>151</td>\n",
       "      <td>151</td>\n",
       "      <td>151</td>\n",
       "      <td>151</td>\n",
       "      <td>151</td>\n",
       "    </tr>\n",
       "    <tr>\n",
       "      <th rowspan=\"2\" valign=\"top\">TTD</th>\n",
       "      <th rowspan=\"2\" valign=\"top\">0</th>\n",
       "      <th>train</th>\n",
       "      <td>968</td>\n",
       "      <td>968</td>\n",
       "      <td>968</td>\n",
       "      <td>968</td>\n",
       "      <td>968</td>\n",
       "    </tr>\n",
       "    <tr>\n",
       "      <th>val</th>\n",
       "      <td>172</td>\n",
       "      <td>172</td>\n",
       "      <td>172</td>\n",
       "      <td>172</td>\n",
       "      <td>172</td>\n",
       "    </tr>\n",
       "    <tr>\n",
       "      <th rowspan=\"2\" valign=\"top\">WTH</th>\n",
       "      <th rowspan=\"2\" valign=\"top\">4</th>\n",
       "      <th>train</th>\n",
       "      <td>146</td>\n",
       "      <td>146</td>\n",
       "      <td>146</td>\n",
       "      <td>146</td>\n",
       "      <td>146</td>\n",
       "    </tr>\n",
       "    <tr>\n",
       "      <th>val</th>\n",
       "      <td>26</td>\n",
       "      <td>26</td>\n",
       "      <td>26</td>\n",
       "      <td>26</td>\n",
       "      <td>26</td>\n",
       "    </tr>\n",
       "  </tbody>\n",
       "</table>\n",
       "</div>"
      ],
      "text/plain": [
       "                             text  class2  preprocessed_text  lemmatized  \\\n",
       "class1 class1_enc data_type                                                \n",
       "ACM    2          train       612     612                612         612   \n",
       "                  val         108     108                108         108   \n",
       "ENT    6          train       184     184                184         184   \n",
       "                  val          32      32                 32          32   \n",
       "FOD    5          train       442     442                442         442   \n",
       "                  val          79      79                 79          79   \n",
       "TGU    1          train      1038    1038               1038        1038   \n",
       "                  val         182     182                182         182   \n",
       "TRS    3          train       860     860                860         860   \n",
       "                  val         151     151                151         151   \n",
       "TTD    0          train       968     968                968         968   \n",
       "                  val         172     172                172         172   \n",
       "WTH    4          train       146     146                146         146   \n",
       "                  val          26      26                 26          26   \n",
       "\n",
       "                             class2_enc  \n",
       "class1 class1_enc data_type              \n",
       "ACM    2          train             612  \n",
       "                  val               108  \n",
       "ENT    6          train             184  \n",
       "                  val                32  \n",
       "FOD    5          train             442  \n",
       "                  val                79  \n",
       "TGU    1          train            1038  \n",
       "                  val               182  \n",
       "TRS    3          train             860  \n",
       "                  val               151  \n",
       "TTD    0          train             968  \n",
       "                  val               172  \n",
       "WTH    4          train             146  \n",
       "                  val                26  "
      ]
     },
     "execution_count": 36,
     "metadata": {},
     "output_type": "execute_result"
    }
   ],
   "source": [
    "df.groupby(['class1', 'class1_enc', 'data_type']).count()"
   ]
  },
  {
   "cell_type": "code",
   "execution_count": 37,
   "metadata": {},
   "outputs": [
    {
     "data": {
      "text/html": [
       "<div>\n",
       "<style scoped>\n",
       "    .dataframe tbody tr th:only-of-type {\n",
       "        vertical-align: middle;\n",
       "    }\n",
       "\n",
       "    .dataframe tbody tr th {\n",
       "        vertical-align: top;\n",
       "    }\n",
       "\n",
       "    .dataframe thead th {\n",
       "        text-align: right;\n",
       "    }\n",
       "</style>\n",
       "<table border=\"1\" class=\"dataframe\">\n",
       "  <thead>\n",
       "    <tr style=\"text-align: right;\">\n",
       "      <th></th>\n",
       "      <th></th>\n",
       "      <th></th>\n",
       "      <th>text</th>\n",
       "      <th>class1</th>\n",
       "      <th>preprocessed_text</th>\n",
       "      <th>lemmatized</th>\n",
       "      <th>class1_enc</th>\n",
       "    </tr>\n",
       "    <tr>\n",
       "      <th>class2</th>\n",
       "      <th>class2_enc</th>\n",
       "      <th>data_type</th>\n",
       "      <th></th>\n",
       "      <th></th>\n",
       "      <th></th>\n",
       "      <th></th>\n",
       "      <th></th>\n",
       "    </tr>\n",
       "  </thead>\n",
       "  <tbody>\n",
       "    <tr>\n",
       "      <th rowspan=\"2\" valign=\"top\">ACMAPA</th>\n",
       "      <th rowspan=\"2\" valign=\"top\">9</th>\n",
       "      <th>train</th>\n",
       "      <td>25</td>\n",
       "      <td>25</td>\n",
       "      <td>25</td>\n",
       "      <td>25</td>\n",
       "      <td>25</td>\n",
       "    </tr>\n",
       "    <tr>\n",
       "      <th>val</th>\n",
       "      <td>4</td>\n",
       "      <td>4</td>\n",
       "      <td>4</td>\n",
       "      <td>4</td>\n",
       "      <td>4</td>\n",
       "    </tr>\n",
       "    <tr>\n",
       "      <th rowspan=\"2\" valign=\"top\">ACMBEA</th>\n",
       "      <th rowspan=\"2\" valign=\"top\">40</th>\n",
       "      <th>train</th>\n",
       "      <td>4</td>\n",
       "      <td>4</td>\n",
       "      <td>4</td>\n",
       "      <td>4</td>\n",
       "      <td>4</td>\n",
       "    </tr>\n",
       "    <tr>\n",
       "      <th>val</th>\n",
       "      <td>1</td>\n",
       "      <td>1</td>\n",
       "      <td>1</td>\n",
       "      <td>1</td>\n",
       "      <td>1</td>\n",
       "    </tr>\n",
       "    <tr>\n",
       "      <th>ACMBUN</th>\n",
       "      <th>15</th>\n",
       "      <th>train</th>\n",
       "      <td>45</td>\n",
       "      <td>45</td>\n",
       "      <td>45</td>\n",
       "      <td>45</td>\n",
       "      <td>45</td>\n",
       "    </tr>\n",
       "    <tr>\n",
       "      <th>...</th>\n",
       "      <th>...</th>\n",
       "      <th>...</th>\n",
       "      <td>...</td>\n",
       "      <td>...</td>\n",
       "      <td>...</td>\n",
       "      <td>...</td>\n",
       "      <td>...</td>\n",
       "    </tr>\n",
       "    <tr>\n",
       "      <th>WTHOTH</th>\n",
       "      <th>26</th>\n",
       "      <th>val</th>\n",
       "      <td>20</td>\n",
       "      <td>20</td>\n",
       "      <td>20</td>\n",
       "      <td>20</td>\n",
       "      <td>20</td>\n",
       "    </tr>\n",
       "    <tr>\n",
       "      <th rowspan=\"2\" valign=\"top\">WTHSNW</th>\n",
       "      <th rowspan=\"2\" valign=\"top\">56</th>\n",
       "      <th>train</th>\n",
       "      <td>6</td>\n",
       "      <td>6</td>\n",
       "      <td>6</td>\n",
       "      <td>6</td>\n",
       "      <td>6</td>\n",
       "    </tr>\n",
       "    <tr>\n",
       "      <th>val</th>\n",
       "      <td>1</td>\n",
       "      <td>1</td>\n",
       "      <td>1</td>\n",
       "      <td>1</td>\n",
       "      <td>1</td>\n",
       "    </tr>\n",
       "    <tr>\n",
       "      <th rowspan=\"2\" valign=\"top\">WTHTMP</th>\n",
       "      <th rowspan=\"2\" valign=\"top\">6</th>\n",
       "      <th>train</th>\n",
       "      <td>17</td>\n",
       "      <td>17</td>\n",
       "      <td>17</td>\n",
       "      <td>17</td>\n",
       "      <td>17</td>\n",
       "    </tr>\n",
       "    <tr>\n",
       "      <th>val</th>\n",
       "      <td>3</td>\n",
       "      <td>3</td>\n",
       "      <td>3</td>\n",
       "      <td>3</td>\n",
       "      <td>3</td>\n",
       "    </tr>\n",
       "  </tbody>\n",
       "</table>\n",
       "<p>124 rows × 5 columns</p>\n",
       "</div>"
      ],
      "text/plain": [
       "                             text  class1  preprocessed_text  lemmatized  \\\n",
       "class2 class2_enc data_type                                                \n",
       "ACMAPA 9          train        25      25                 25          25   \n",
       "                  val           4       4                  4           4   \n",
       "ACMBEA 40         train         4       4                  4           4   \n",
       "                  val           1       1                  1           1   \n",
       "ACMBUN 15         train        45      45                 45          45   \n",
       "...                           ...     ...                ...         ...   \n",
       "WTHOTH 26         val          20      20                 20          20   \n",
       "WTHSNW 56         train         6       6                  6           6   \n",
       "                  val           1       1                  1           1   \n",
       "WTHTMP 6          train        17      17                 17          17   \n",
       "                  val           3       3                  3           3   \n",
       "\n",
       "                             class1_enc  \n",
       "class2 class2_enc data_type              \n",
       "ACMAPA 9          train              25  \n",
       "                  val                 4  \n",
       "ACMBEA 40         train               4  \n",
       "                  val                 1  \n",
       "ACMBUN 15         train              45  \n",
       "...                                 ...  \n",
       "WTHOTH 26         val                20  \n",
       "WTHSNW 56         train               6  \n",
       "                  val                 1  \n",
       "WTHTMP 6          train              17  \n",
       "                  val                 3  \n",
       "\n",
       "[124 rows x 5 columns]"
      ]
     },
     "execution_count": 37,
     "metadata": {},
     "output_type": "execute_result"
    }
   ],
   "source": [
    "df.groupby(['class2', 'class2_enc', 'data_type']).count()"
   ]
  },
  {
   "cell_type": "markdown",
   "metadata": {},
   "source": [
    "##### 4.4.3. BertTokenizer and Encoding the Data"
   ]
  },
  {
   "cell_type": "markdown",
   "metadata": {},
   "source": [
    "###### Install Torch by: `conda install -c pytorch pytorch`"
   ]
  },
  {
   "cell_type": "markdown",
   "metadata": {},
   "source": [
    "###### Install Transformers by: `conda install -c conda-forge transformers` or"
   ]
  },
  {
   "cell_type": "markdown",
   "metadata": {},
   "source": [
    "###### Install Transformers by: `pip3 install transformers` or"
   ]
  },
  {
   "cell_type": "markdown",
   "metadata": {},
   "source": [
    "###### Install Transformers by: `conda install -c huggingface transformers`"
   ]
  },
  {
   "cell_type": "markdown",
   "metadata": {},
   "source": [
    "###### Install `sacremoses`: `pip3 install sacremoses`  - still PackageNotFound error for sacremoses"
   ]
  },
  {
   "cell_type": "markdown",
   "metadata": {},
   "source": [
    "###### Install `sacremoses`: `conda install pytorch torchvision cudatoolkit=10.0 -c pytorch'"
   ]
  },
  {
   "cell_type": "markdown",
   "metadata": {},
   "source": [
    "###### `conda create --name hf-transformers -c conda-forge transformers`"
   ]
  },
  {
   "cell_type": "markdown",
   "metadata": {},
   "source": [
    "###### `https://www.gitmemory.com/issue/huggingface/tokenizers/685/826136101`"
   ]
  },
  {
   "cell_type": "markdown",
   "metadata": {},
   "source": [
    "###### `conda install -c huggingface tokenizers=0.10.1 transformers=4.6.1` - this resoved error - versioning error"
   ]
  },
  {
   "cell_type": "markdown",
   "metadata": {},
   "source": [
    "###### To solve this error, try the following code lines : `ModuleNotFoundError: No module named 'transformers.models.bert.tokenization_bert'`"
   ]
  },
  {
   "cell_type": "markdown",
   "metadata": {},
   "source": [
    "###### `pip uninstall transformers`\n",
    "###### `pip install transformers==3.5`"
   ]
  },
  {
   "cell_type": "markdown",
   "metadata": {},
   "source": [
    "###### After restarting the jupyter notebook, error vanished after the installation."
   ]
  },
  {
   "cell_type": "code",
   "execution_count": 38,
   "metadata": {},
   "outputs": [],
   "source": [
    "import torch\n",
    "from tqdm.notebook import tqdm\n",
    "from transformers import BertTokenizer\n",
    "from torch.utils.data import TensorDataset\n",
    "\n",
    "from transformers import BertForSequenceClassification"
   ]
  },
  {
   "cell_type": "code",
   "execution_count": 39,
   "metadata": {},
   "outputs": [
    {
     "name": "stderr",
     "output_type": "stream",
     "text": [
      "Truncation was not explicitly activated but `max_length` is provided a specific value, please use `truncation=True` to explicitly truncate examples to max length. Defaulting to 'longest_first' truncation strategy. If you encode pairs of sequences (GLUE-style) with the tokenizer you can select this strategy more precisely by providing a specific strategy to `truncation`.\n",
      "/home/singhabahu/anaconda3/envs/python38test/lib/python3.8/site-packages/transformers/tokenization_utils_base.py:2016: FutureWarning: The `pad_to_max_length` argument is deprecated and will be removed in a future version, use `padding=True` or `padding='longest'` to pad to the longest sequence in the batch, or use `padding='max_length'` to pad to a max length. In this case, you can give a specific length with `max_length` (e.g. `max_length=45`) or leave max_length to None to pad to the maximal input size of the model (e.g. 512 for Bert).\n",
      "  warnings.warn(\n"
     ]
    }
   ],
   "source": [
    "tokenizer = BertTokenizer.from_pretrained('bert-base-uncased', \n",
    "                                          do_lower_case=True)\n",
    "                                          \n",
    "encoded_data_train = tokenizer.batch_encode_plus(\n",
    "    df[df.data_type=='train'].lemmatized.values, \n",
    "    add_special_tokens=True, \n",
    "    return_attention_mask=True, \n",
    "    pad_to_max_length=True, \n",
    "    max_length=256, \n",
    "    return_tensors='pt'\n",
    ")\n",
    "\n",
    "encoded_data_val = tokenizer.batch_encode_plus(\n",
    "    df[df.data_type=='val'].lemmatized.values, \n",
    "    add_special_tokens=True, \n",
    "    return_attention_mask=True, \n",
    "    pad_to_max_length=True, \n",
    "    max_length=256, \n",
    "    return_tensors='pt'\n",
    ")\n",
    "\n",
    "\n",
    "input_ids_train = encoded_data_train['input_ids']\n",
    "attention_masks_train = encoded_data_train['attention_mask']\n",
    "labels_train_1 = torch.tensor(df[df.data_type=='train'].class1_enc.values)\n",
    "labels_train_2 = torch.tensor(df[df.data_type=='train'].class2_enc.values)\n",
    "\n",
    "input_ids_val = encoded_data_val['input_ids']\n",
    "attention_masks_val = encoded_data_val['attention_mask']\n",
    "labels_val_1 = torch.tensor(df[df.data_type=='val'].class1_enc.values)\n",
    "labels_val_2 = torch.tensor(df[df.data_type=='val'].class2_enc.values)\n",
    "\n",
    "dataset_train_1 = TensorDataset(input_ids_train, attention_masks_train, labels_train_1)\n",
    "dataset_val_1 = TensorDataset(input_ids_val, attention_masks_val, labels_val_1)\n",
    "dataset_train_2 = TensorDataset(input_ids_train, attention_masks_train, labels_train_2)\n",
    "dataset_val_2 = TensorDataset(input_ids_val, attention_masks_val, labels_val_2)"
   ]
  },
  {
   "cell_type": "markdown",
   "metadata": {},
   "source": [
    "##### 4.4.4. BERT Pre-trained Model"
   ]
  },
  {
   "cell_type": "code",
   "execution_count": 40,
   "metadata": {},
   "outputs": [
    {
     "name": "stderr",
     "output_type": "stream",
     "text": [
      "Some weights of the model checkpoint at bert-base-uncased were not used when initializing BertForSequenceClassification: ['cls.predictions.bias', 'cls.predictions.transform.dense.weight', 'cls.predictions.transform.dense.bias', 'cls.predictions.decoder.weight', 'cls.seq_relationship.weight', 'cls.seq_relationship.bias', 'cls.predictions.transform.LayerNorm.weight', 'cls.predictions.transform.LayerNorm.bias']\n",
      "- This IS expected if you are initializing BertForSequenceClassification from the checkpoint of a model trained on another task or with another architecture (e.g. initializing a BertForSequenceClassification model from a BertForPreTraining model).\n",
      "- This IS NOT expected if you are initializing BertForSequenceClassification from the checkpoint of a model that you expect to be exactly identical (initializing a BertForSequenceClassification model from a BertForSequenceClassification model).\n",
      "Some weights of BertForSequenceClassification were not initialized from the model checkpoint at bert-base-uncased and are newly initialized: ['classifier.weight', 'classifier.bias']\n",
      "You should probably TRAIN this model on a down-stream task to be able to use it for predictions and inference.\n"
     ]
    }
   ],
   "source": [
    "model = BertForSequenceClassification.from_pretrained(\"bert-base-uncased\",\n",
    "                                                      num_labels=len(label_dict_1),\n",
    "                                                      output_attentions=False,\n",
    "                                                      output_hidden_states=False)"
   ]
  },
  {
   "cell_type": "markdown",
   "metadata": {},
   "source": [
    "##### 4.4.5. Data Loaders"
   ]
  },
  {
   "cell_type": "code",
   "execution_count": 41,
   "metadata": {},
   "outputs": [],
   "source": [
    "from torch.utils.data import DataLoader, RandomSampler, SequentialSampler\n",
    "\n",
    "batch_size = 3\n",
    "\n",
    "dataloader_train_1 = DataLoader(dataset_train_1, \n",
    "                              sampler=RandomSampler(dataset_train_1), \n",
    "                              batch_size=batch_size)\n",
    "\n",
    "dataloader_validation_1 = DataLoader(dataset_val_1, \n",
    "                                   sampler=SequentialSampler(dataset_val_1),\n",
    "                                   batch_size=batch_size)\n",
    "\n",
    "dataloader_train_2 = DataLoader(dataset_train_2, \n",
    "                              sampler=RandomSampler(dataset_train_2), \n",
    "                              batch_size=batch_size)\n",
    "\n",
    "dataloader_validation_2 = DataLoader(dataset_val_2, \n",
    "                                   sampler=SequentialSampler(dataset_val_2),\n",
    "                                   batch_size=batch_size)"
   ]
  },
  {
   "cell_type": "markdown",
   "metadata": {},
   "source": [
    "##### 4.4.6. Optimizer & Scheduler"
   ]
  },
  {
   "cell_type": "code",
   "execution_count": 42,
   "metadata": {},
   "outputs": [],
   "source": [
    "from transformers import AdamW, get_linear_schedule_with_warmup\n",
    "\n",
    "optimizer = AdamW(model.parameters(),\n",
    "                  lr=1e-5, \n",
    "                  eps=1e-8)\n",
    "                  \n",
    "epochs = 5\n",
    "\n",
    "scheduler = get_linear_schedule_with_warmup(optimizer, \n",
    "                                            num_warmup_steps=0,\n",
    "                                            num_training_steps=len(dataloader_train_1)*epochs)"
   ]
  },
  {
   "cell_type": "markdown",
   "metadata": {},
   "source": [
    "##### 4.4.7. Performance Metrics"
   ]
  },
  {
   "cell_type": "code",
   "execution_count": 43,
   "metadata": {},
   "outputs": [],
   "source": [
    "def f1_score_func(preds, labels):\n",
    "    preds_flat = np.argmax(preds, axis=1).flatten()\n",
    "    labels_flat = labels.flatten()\n",
    "    return f1_score(labels_flat, preds_flat, average='weighted')\n",
    "\n",
    "def accuracy_per_class(preds, labels, dict):\n",
    "    label_dict_inverse = {v: k for k, v in dict.items()}\n",
    "    \n",
    "    preds_flat = np.argmax(preds, axis=1).flatten()\n",
    "    labels_flat = labels.flatten()\n",
    "\n",
    "    for label in np.unique(labels_flat):\n",
    "        y_preds = preds_flat[labels_flat==label]\n",
    "        y_true = labels_flat[labels_flat==label]\n",
    "        print(f'Class: {label_dict_inverse[label]}')\n",
    "        print(f'Accuracy: {len(y_preds[y_preds==label])}/{len(y_true)}\\n')"
   ]
  },
  {
   "cell_type": "markdown",
   "metadata": {},
   "source": [
    "##### 4.4.8. Training Loop"
   ]
  },
  {
   "cell_type": "code",
   "execution_count": 44,
   "metadata": {},
   "outputs": [
    {
     "data": {
      "application/vnd.jupyter.widget-view+json": {
       "model_id": "063190288d1644438353ebe9cc8f7485",
       "version_major": 2,
       "version_minor": 0
      },
      "text/plain": [
       "HBox(children=(FloatProgress(value=0.0, max=5.0), HTML(value='')))"
      ]
     },
     "metadata": {},
     "output_type": "display_data"
    },
    {
     "data": {
      "application/vnd.jupyter.widget-view+json": {
       "model_id": "",
       "version_major": 2,
       "version_minor": 0
      },
      "text/plain": [
       "HBox(children=(FloatProgress(value=0.0, description='Epoch 1', max=1417.0, style=ProgressStyle(description_wid…"
      ]
     },
     "metadata": {},
     "output_type": "display_data"
    },
    {
     "name": "stderr",
     "output_type": "stream",
     "text": [
      "/home/singhabahu/anaconda3/envs/python38test/lib/python3.8/site-packages/torch/optim/lr_scheduler.py:117: UserWarning: Detected call of `lr_scheduler.step()` before `optimizer.step()`. In PyTorch 1.1.0 and later, you should call them in the opposite order: `optimizer.step()` before `lr_scheduler.step()`.  Failure to do this will result in PyTorch skipping the first value of the learning rate schedule. See more details at https://pytorch.org/docs/stable/optim.html#how-to-adjust-learning-rate\n",
      "  warnings.warn(\"Detected call of `lr_scheduler.step()` before `optimizer.step()`. \"\n"
     ]
    },
    {
     "name": "stdout",
     "output_type": "stream",
     "text": [
      "\n"
     ]
    },
    {
     "ename": "FileNotFoundError",
     "evalue": "[Errno 2] No such file or directory: '/content/finetuned_BERT_epoch_1.model'",
     "output_type": "error",
     "traceback": [
      "\u001b[0;31m---------------------------------------------------------------------------\u001b[0m",
      "\u001b[0;31mFileNotFoundError\u001b[0m                         Traceback (most recent call last)",
      "\u001b[0;32m<ipython-input-44-d6e4befdba95>\u001b[0m in \u001b[0;36m<module>\u001b[0;34m\u001b[0m\n\u001b[1;32m     94\u001b[0m \u001b[0;34m\u001b[0m\u001b[0m\n\u001b[1;32m     95\u001b[0m \u001b[0;34m\u001b[0m\u001b[0m\n\u001b[0;32m---> 96\u001b[0;31m     \u001b[0mtorch\u001b[0m\u001b[0;34m.\u001b[0m\u001b[0msave\u001b[0m\u001b[0;34m(\u001b[0m\u001b[0mmodel\u001b[0m\u001b[0;34m.\u001b[0m\u001b[0mstate_dict\u001b[0m\u001b[0;34m(\u001b[0m\u001b[0;34m)\u001b[0m\u001b[0;34m,\u001b[0m \u001b[0;34mf'/content/finetuned_BERT_epoch_{epoch}.model'\u001b[0m\u001b[0;34m)\u001b[0m\u001b[0;34m\u001b[0m\u001b[0;34m\u001b[0m\u001b[0m\n\u001b[0m\u001b[1;32m     97\u001b[0m \u001b[0;34m\u001b[0m\u001b[0m\n\u001b[1;32m     98\u001b[0m     \u001b[0mtqdm\u001b[0m\u001b[0;34m.\u001b[0m\u001b[0mwrite\u001b[0m\u001b[0;34m(\u001b[0m\u001b[0;34mf'\\nEpoch {epoch}'\u001b[0m\u001b[0;34m)\u001b[0m\u001b[0;34m\u001b[0m\u001b[0;34m\u001b[0m\u001b[0m\n",
      "\u001b[0;32m~/anaconda3/envs/python38test/lib/python3.8/site-packages/torch/serialization.py\u001b[0m in \u001b[0;36msave\u001b[0;34m(obj, f, pickle_module, pickle_protocol, _use_new_zipfile_serialization)\u001b[0m\n\u001b[1;32m    325\u001b[0m             \u001b[0;32mreturn\u001b[0m\u001b[0;34m\u001b[0m\u001b[0;34m\u001b[0m\u001b[0m\n\u001b[1;32m    326\u001b[0m \u001b[0;34m\u001b[0m\u001b[0m\n\u001b[0;32m--> 327\u001b[0;31m     \u001b[0;32mwith\u001b[0m \u001b[0m_open_file_like\u001b[0m\u001b[0;34m(\u001b[0m\u001b[0mf\u001b[0m\u001b[0;34m,\u001b[0m \u001b[0;34m'wb'\u001b[0m\u001b[0;34m)\u001b[0m \u001b[0;32mas\u001b[0m \u001b[0mopened_file\u001b[0m\u001b[0;34m:\u001b[0m\u001b[0;34m\u001b[0m\u001b[0;34m\u001b[0m\u001b[0m\n\u001b[0m\u001b[1;32m    328\u001b[0m         \u001b[0m_legacy_save\u001b[0m\u001b[0;34m(\u001b[0m\u001b[0mobj\u001b[0m\u001b[0;34m,\u001b[0m \u001b[0mopened_file\u001b[0m\u001b[0;34m,\u001b[0m \u001b[0mpickle_module\u001b[0m\u001b[0;34m,\u001b[0m \u001b[0mpickle_protocol\u001b[0m\u001b[0;34m)\u001b[0m\u001b[0;34m\u001b[0m\u001b[0;34m\u001b[0m\u001b[0m\n\u001b[1;32m    329\u001b[0m \u001b[0;34m\u001b[0m\u001b[0m\n",
      "\u001b[0;32m~/anaconda3/envs/python38test/lib/python3.8/site-packages/torch/serialization.py\u001b[0m in \u001b[0;36m_open_file_like\u001b[0;34m(name_or_buffer, mode)\u001b[0m\n\u001b[1;32m    210\u001b[0m \u001b[0;32mdef\u001b[0m \u001b[0m_open_file_like\u001b[0m\u001b[0;34m(\u001b[0m\u001b[0mname_or_buffer\u001b[0m\u001b[0;34m,\u001b[0m \u001b[0mmode\u001b[0m\u001b[0;34m)\u001b[0m\u001b[0;34m:\u001b[0m\u001b[0;34m\u001b[0m\u001b[0;34m\u001b[0m\u001b[0m\n\u001b[1;32m    211\u001b[0m     \u001b[0;32mif\u001b[0m \u001b[0m_is_path\u001b[0m\u001b[0;34m(\u001b[0m\u001b[0mname_or_buffer\u001b[0m\u001b[0;34m)\u001b[0m\u001b[0;34m:\u001b[0m\u001b[0;34m\u001b[0m\u001b[0;34m\u001b[0m\u001b[0m\n\u001b[0;32m--> 212\u001b[0;31m         \u001b[0;32mreturn\u001b[0m \u001b[0m_open_file\u001b[0m\u001b[0;34m(\u001b[0m\u001b[0mname_or_buffer\u001b[0m\u001b[0;34m,\u001b[0m \u001b[0mmode\u001b[0m\u001b[0;34m)\u001b[0m\u001b[0;34m\u001b[0m\u001b[0;34m\u001b[0m\u001b[0m\n\u001b[0m\u001b[1;32m    213\u001b[0m     \u001b[0;32melse\u001b[0m\u001b[0;34m:\u001b[0m\u001b[0;34m\u001b[0m\u001b[0;34m\u001b[0m\u001b[0m\n\u001b[1;32m    214\u001b[0m         \u001b[0;32mif\u001b[0m \u001b[0;34m'w'\u001b[0m \u001b[0;32min\u001b[0m \u001b[0mmode\u001b[0m\u001b[0;34m:\u001b[0m\u001b[0;34m\u001b[0m\u001b[0;34m\u001b[0m\u001b[0m\n",
      "\u001b[0;32m~/anaconda3/envs/python38test/lib/python3.8/site-packages/torch/serialization.py\u001b[0m in \u001b[0;36m__init__\u001b[0;34m(self, name, mode)\u001b[0m\n\u001b[1;32m    191\u001b[0m \u001b[0;32mclass\u001b[0m \u001b[0m_open_file\u001b[0m\u001b[0;34m(\u001b[0m\u001b[0m_opener\u001b[0m\u001b[0;34m)\u001b[0m\u001b[0;34m:\u001b[0m\u001b[0;34m\u001b[0m\u001b[0;34m\u001b[0m\u001b[0m\n\u001b[1;32m    192\u001b[0m     \u001b[0;32mdef\u001b[0m \u001b[0m__init__\u001b[0m\u001b[0;34m(\u001b[0m\u001b[0mself\u001b[0m\u001b[0;34m,\u001b[0m \u001b[0mname\u001b[0m\u001b[0;34m,\u001b[0m \u001b[0mmode\u001b[0m\u001b[0;34m)\u001b[0m\u001b[0;34m:\u001b[0m\u001b[0;34m\u001b[0m\u001b[0;34m\u001b[0m\u001b[0m\n\u001b[0;32m--> 193\u001b[0;31m         \u001b[0msuper\u001b[0m\u001b[0;34m(\u001b[0m\u001b[0m_open_file\u001b[0m\u001b[0;34m,\u001b[0m \u001b[0mself\u001b[0m\u001b[0;34m)\u001b[0m\u001b[0;34m.\u001b[0m\u001b[0m__init__\u001b[0m\u001b[0;34m(\u001b[0m\u001b[0mopen\u001b[0m\u001b[0;34m(\u001b[0m\u001b[0mname\u001b[0m\u001b[0;34m,\u001b[0m \u001b[0mmode\u001b[0m\u001b[0;34m)\u001b[0m\u001b[0;34m)\u001b[0m\u001b[0;34m\u001b[0m\u001b[0;34m\u001b[0m\u001b[0m\n\u001b[0m\u001b[1;32m    194\u001b[0m \u001b[0;34m\u001b[0m\u001b[0m\n\u001b[1;32m    195\u001b[0m     \u001b[0;32mdef\u001b[0m \u001b[0m__exit__\u001b[0m\u001b[0;34m(\u001b[0m\u001b[0mself\u001b[0m\u001b[0;34m,\u001b[0m \u001b[0;34m*\u001b[0m\u001b[0margs\u001b[0m\u001b[0;34m)\u001b[0m\u001b[0;34m:\u001b[0m\u001b[0;34m\u001b[0m\u001b[0;34m\u001b[0m\u001b[0m\n",
      "\u001b[0;31mFileNotFoundError\u001b[0m: [Errno 2] No such file or directory: '/content/finetuned_BERT_epoch_1.model'"
     ]
    }
   ],
   "source": [
    "import random\n",
    "import torch\n",
    "from sklearn.metrics import accuracy_score\n",
    "from sklearn.metrics import confusion_matrix\n",
    "from sklearn.metrics import classification_report\n",
    "\n",
    "# device = torch.device(\"cuda:0\")\n",
    "device = torch.device(\"cpu\")\n",
    "\n",
    "seed_val = 17\n",
    "random.seed(seed_val)\n",
    "np.random.seed(seed_val)\n",
    "torch.manual_seed(seed_val)\n",
    "torch.cuda.manual_seed_all(seed_val)\n",
    "\n",
    "def evaluate(dataloader_val):\n",
    "\n",
    "    model.eval()\n",
    "\n",
    "    loss_val_total = 0\n",
    "    predictions, true_vals = [], []\n",
    "\n",
    "    for batch in dataloader_val:\n",
    "\n",
    "        batch = tuple(b.to(device) for b in batch)\n",
    "\n",
    "        inputs = {'input_ids':      batch[0],\n",
    "                  'attention_mask': batch[1],\n",
    "                  'labels':         batch[2],\n",
    "                 }\n",
    "\n",
    "        with torch.no_grad():        \n",
    "            outputs = model(**inputs)\n",
    "\n",
    "        loss = outputs[0]\n",
    "        logits = outputs[1]\n",
    "        loss_val_total += loss.item()\n",
    "\n",
    "        logits = logits.detach().cpu().numpy()\n",
    "        label_ids = inputs['labels'].cpu().numpy()\n",
    "        predictions.append(logits)\n",
    "        true_vals.append(label_ids)\n",
    "\n",
    "    loss_val_avg = loss_val_total/len(dataloader_val) \n",
    "\n",
    "    predictions = np.concatenate(predictions, axis=0)\n",
    "    true_vals = np.concatenate(true_vals, axis=0)\n",
    "\n",
    "    return loss_val_avg, predictions, true_vals\n",
    "\n",
    "start = time.time()\n",
    "for epoch in tqdm(range(1, epochs+1)):\n",
    "    \n",
    "    model.train()\n",
    "    \n",
    "    loss_train_total = 0\n",
    "\n",
    "    progress_bar = tqdm(dataloader_train_1, desc='Epoch {:1d}'.format(epoch), leave=False, disable=False)\n",
    "    for batch in progress_bar:\n",
    "\n",
    "        model.to(device)\n",
    "        model.zero_grad()\n",
    "        \n",
    "        batch = tuple(b.to(device) for b in batch)\n",
    "        \n",
    "        inputs = {'input_ids':      batch[0],\n",
    "                  'attention_mask': batch[1],\n",
    "                  'labels':         batch[2],\n",
    "                 }       \n",
    "\n",
    "        outputs = model(**inputs)\n",
    "        \n",
    "        loss = outputs[0]\n",
    "        loss_train_total += loss.item()\n",
    "        loss.backward()\n",
    "\n",
    "        torch.nn.utils.clip_grad_norm_(model.parameters(), 1.0)\n",
    "\n",
    "\n",
    "        # optimizer = optim.Adam(model.parameters())\n",
    "        optimizer = AdamW(model.parameters(),\n",
    "                  lr=1e-5, \n",
    "                  eps=1e-8)\n",
    "        # optimizer.load_state_dict(checkpoint['optimizer'])\n",
    "        for state in optimizer.state.values():\n",
    "            for k, v in state.items():\n",
    "                if isinstance(v, torch.Tensor):\n",
    "                    state[k] = v.cuda()\n",
    "\n",
    "        optimizer.step()\n",
    "        scheduler.step()\n",
    "        \n",
    "        progress_bar.set_postfix({'training_loss': '{:.3f}'.format(loss.item()/len(batch))})\n",
    "\n",
    "\n",
    "    torch.save(model.state_dict(), f'/content/finetuned_BERT_epoch_{epoch}.model')\n",
    "\n",
    "    tqdm.write(f'\\nEpoch {epoch}')\n",
    "    \n",
    "    loss_train_avg = loss_train_total/len(dataloader_train_1)\n",
    "    tqdm.write(f'Training loss: {loss_train_avg}')\n",
    "    \n",
    "    val_loss, predictions, true_vals = evaluate(dataloader_validation_1)\n",
    "    val_f1 = f1_score_func(predictions, true_vals)\n",
    "    tqdm.write(f'Validation loss: {val_loss}')\n",
    "    tqdm.write(f'F1 Score (Weighted): {val_f1}')\n",
    "    \n",
    "    print(f'Time: {time.time() - start} seconds')"
   ]
  },
  {
   "cell_type": "markdown",
   "metadata": {},
   "source": [
    "##### 4.4.9. Loading and Evaluating the Model"
   ]
  },
  {
   "cell_type": "markdown",
   "metadata": {},
   "source": [
    "##### Results for `class1`"
   ]
  },
  {
   "cell_type": "code",
   "execution_count": 1,
   "metadata": {},
   "outputs": [
    {
     "ename": "NameError",
     "evalue": "name 'BertForSequenceClassification' is not defined",
     "output_type": "error",
     "traceback": [
      "\u001b[0;31m---------------------------------------------------------------------------\u001b[0m",
      "\u001b[0;31mNameError\u001b[0m                                 Traceback (most recent call last)",
      "\u001b[0;32m<ipython-input-1-f03cb3379138>\u001b[0m in \u001b[0;36m<module>\u001b[0;34m\u001b[0m\n\u001b[0;32m----> 1\u001b[0;31m model = BertForSequenceClassification.from_pretrained(\"bert-base-uncased\",\n\u001b[0m\u001b[1;32m      2\u001b[0m                                                       \u001b[0mnum_labels\u001b[0m\u001b[0;34m=\u001b[0m\u001b[0mlen\u001b[0m\u001b[0;34m(\u001b[0m\u001b[0mlabel_dict_1\u001b[0m\u001b[0;34m)\u001b[0m\u001b[0;34m,\u001b[0m\u001b[0;34m\u001b[0m\u001b[0;34m\u001b[0m\u001b[0m\n\u001b[1;32m      3\u001b[0m                                                       \u001b[0moutput_attentions\u001b[0m\u001b[0;34m=\u001b[0m\u001b[0;32mFalse\u001b[0m\u001b[0;34m,\u001b[0m\u001b[0;34m\u001b[0m\u001b[0;34m\u001b[0m\u001b[0m\n\u001b[1;32m      4\u001b[0m                                                       output_hidden_states=False)\n\u001b[1;32m      5\u001b[0m \u001b[0;34m\u001b[0m\u001b[0m\n",
      "\u001b[0;31mNameError\u001b[0m: name 'BertForSequenceClassification' is not defined"
     ]
    }
   ],
   "source": [
    "model = BertForSequenceClassification.from_pretrained(\"bert-base-uncased\",\n",
    "                                                      num_labels=len(label_dict_1),\n",
    "                                                      output_attentions=False,\n",
    "                                                      output_hidden_states=False)\n",
    "\n",
    "model.to(device)\n",
    "\n",
    "# model.load_state_dict(torch.load('/content/finetuned_BERT_epoch_1.model', map_location=torch.device('cuda:0')))\n",
    "model.load_state_dict(torch.load('/content/finetuned_BERT_epoch_1.model', map_location=torch.device('cpu')))\n",
    "\n",
    "start = time.time()\n",
    "_, predictions, true_vals = evaluate(dataloader_validation)\n",
    "print(f'Time: {time.time() - start} seconds')\n",
    "    \n",
    "fine_pred = [np.argmax(p) for p in predictions]\n",
    "fine_gt = [np.argmax(p) for p in true_vals]\n",
    "\n",
    "val_acc = accuracy_score(fine_gt, fine_pred)*100\n",
    "f1 =  f1_score(fine_pred, fine_gt, average='weighted')\n",
    "\n",
    "print(classification_report(fine_gt,fine_pred))\n",
    "print('Accuracy : %.3f' % val_acc)\n",
    "print('F1 Score: %.3f' % f1)\n",
    "cm = confusion_matrix(fine_gt, fine_pred)\n",
    "print(\"Confusion Matrix: \\n{}\".format(cm))"
   ]
  },
  {
   "cell_type": "markdown",
   "metadata": {},
   "source": [
    "##### Results for `class2`"
   ]
  },
  {
   "cell_type": "code",
   "execution_count": null,
   "metadata": {},
   "outputs": [],
   "source": [
    "model = BertForSequenceClassification.from_pretrained(\"bert-base-uncased\",\n",
    "                                                      num_labels=len(label_dict_2),\n",
    "                                                      output_attentions=False,\n",
    "                                                      output_hidden_states=False)\n",
    "\n",
    "model.to(device)\n",
    "\n",
    "# model.load_state_dict(torch.load('/content/finetuned_BERT_epoch_1.model', map_location=torch.device('cuda:0')))\n",
    "model.load_state_dict(torch.load('/content/finetuned_BERT_epoch_1.model', map_location=torch.device('cpu')))\n",
    "\n",
    "start = time.time()\n",
    "_, predictions, true_vals = evaluate(dataloader_validation)\n",
    "print(f'Time: {time.time() - start} seconds')\n",
    "    \n",
    "fine_pred = [np.argmax(p) for p in predictions]\n",
    "fine_gt = [np.argmax(p) for p in true_vals]\n",
    "\n",
    "val_acc = accuracy_score(fine_gt, fine_pred)*100\n",
    "f1 =  f1_score(fine_pred, fine_gt, average='weighted')\n",
    "\n",
    "print(classification_report(fine_gt,fine_pred))\n",
    "print('Accuracy : %.3f' % val_acc)\n",
    "print('F1 Score: %.3f' % f1)\n",
    "cm = confusion_matrix(fine_gt, fine_pred)\n",
    "print(\"Confusion Matrix: \\n{}\".format(cm))"
   ]
  }
 ],
 "metadata": {
  "kernelspec": {
   "display_name": "python38test",
   "language": "python",
   "name": "python38test"
  },
  "language_info": {
   "codemirror_mode": {
    "name": "ipython",
    "version": 3
   },
   "file_extension": ".py",
   "mimetype": "text/x-python",
   "name": "python",
   "nbconvert_exporter": "python",
   "pygments_lexer": "ipython3",
   "version": "3.8.3"
  }
 },
 "nbformat": 4,
 "nbformat_minor": 4
}
